{
  "cells": [
    {
      "cell_type": "markdown",
      "metadata": {
        "id": "view-in-github",
        "colab_type": "text"
      },
      "source": [
        "<a href=\"https://colab.research.google.com/github/williambrunos/Pyspark/blob/main/Classification_with_pyspark/aula1.ipynb\" target=\"_parent\"><img src=\"https://colab.research.google.com/assets/colab-badge.svg\" alt=\"Open In Colab\"/></a>"
      ]
    },
    {
      "cell_type": "markdown",
      "source": [
        "# **Aula 1 - Preparando os Dados**"
      ],
      "metadata": {
        "id": "BwhP2rhUGI_k"
      }
    },
    {
      "cell_type": "markdown",
      "source": [
        "## **1.1 Apresentação**"
      ],
      "metadata": {
        "id": "2GbwQeCXGaaV"
      }
    },
    {
      "cell_type": "markdown",
      "source": [
        "## **1.2 Preparando o Ambiente**\n",
        "\n",
        "### PySpark\n",
        "\n",
        "PySpark é uma interface para Apache Spark em Python. Ele não apenas permite que você escreva aplicativos Spark usando APIs Python, mas também fornece o *shell* PySpark para analisar interativamente seus dados em um ambiente distribuído. O PySpark oferece suporte à maioria dos recursos do Spark, como Spark SQL, DataFrame, Streaming, MLlib (Machine Learning) e Spark Core.\n",
        "\n",
        "<center><img src=\"https://caelum-online-public.s3.amazonaws.com/2273-introducao-spark/01/img-001.png\"/></center>\n",
        "\n",
        "#### **Spark SQL e DataFrame**\n",
        "\n",
        "Spark SQL é um módulo Spark para processamento de dados estruturados. Ele fornece uma abstração de programação chamada DataFrame e também pode atuar como mecanismo de consulta SQL distribuído.\n",
        "\n",
        "#### **Spark Streaming**\n",
        "\n",
        "Executando em cima do Spark, o recurso de *streaming* no Apache Spark possibilita o uso de poderosas aplicações interativas e analíticas em *streaming* e dados históricos, enquanto herda a facilidade de uso do Spark e as características de tolerância a falhas.\n",
        "\n",
        "#### **Spark MLlib**\n",
        "\n",
        "Construído sobre o Spark, MLlib é uma biblioteca de aprendizado de máquina escalonável que fornece um conjunto uniforme de APIs de alto nível que ajudam os usuários a criar e ajustar *pipelines* de aprendizado de máquina práticos.\n",
        "\n",
        "#### **Spark Core**\n",
        "\n",
        "Spark Core é o mecanismo de execução geral subjacente para a plataforma Spark sobre o qual todas as outras funcionalidades são construídas. Ele fornece um RDD (*Resilient Distributed Dataset*) e recursos de computação na memória.\n",
        "\n",
        "<font size=2>**Fonte:** [PySpark](https://spark.apache.org/docs/latest/api/python/index.html)</font>"
      ],
      "metadata": {
        "id": "BAWE5PSLMmSX"
      }
    },
    {
      "cell_type": "code",
      "source": [
        "!pip install pyspark"
      ],
      "metadata": {
        "colab": {
          "base_uri": "https://localhost:8080/"
        },
        "id": "4Gs-5LKuvWmE",
        "outputId": "2e2de324-4031-4f07-c4a4-61dc69b397d4"
      },
      "execution_count": 1,
      "outputs": [
        {
          "output_type": "stream",
          "name": "stdout",
          "text": [
            "Looking in indexes: https://pypi.org/simple, https://us-python.pkg.dev/colab-wheels/public/simple/\n",
            "Collecting pyspark\n",
            "  Downloading pyspark-3.3.0.tar.gz (281.3 MB)\n",
            "\u001b[K     |████████████████████████████████| 281.3 MB 45 kB/s \n",
            "\u001b[?25hCollecting py4j==0.10.9.5\n",
            "  Downloading py4j-0.10.9.5-py2.py3-none-any.whl (199 kB)\n",
            "\u001b[K     |████████████████████████████████| 199 kB 40.2 MB/s \n",
            "\u001b[?25hBuilding wheels for collected packages: pyspark\n",
            "  Building wheel for pyspark (setup.py) ... \u001b[?25l\u001b[?25hdone\n",
            "  Created wheel for pyspark: filename=pyspark-3.3.0-py2.py3-none-any.whl size=281764026 sha256=1cf0624209400f937849b2980a6049f93766393616001bd21b5bb27fd74c1f5c\n",
            "  Stored in directory: /root/.cache/pip/wheels/7a/8e/1b/f73a52650d2e5f337708d9f6a1750d451a7349a867f928b885\n",
            "Successfully built pyspark\n",
            "Installing collected packages: py4j, pyspark\n",
            "Successfully installed py4j-0.10.9.5 pyspark-3.3.0\n"
          ]
        }
      ]
    },
    {
      "cell_type": "markdown",
      "source": [
        "### SparkSession\n",
        "\n",
        "O ponto de entrada para programar o Spark com a API Dataset e DataFrame.\n",
        "\n",
        "Uma SparkSession pode ser utilizada para criar DataFrames, registrar DataFrames como tabelas, executar consultas SQL em tabelas, armazenar em cache e ler arquivos parquet. Para criar uma SparkSession, use o seguinte padrão de construtor:\n",
        "\n",
        "<font size=2>**Fonte:** [SparkSession](https://spark.apache.org/docs/latest/api/python/reference/api/pyspark.sql.SparkSession.html)</font>"
      ],
      "metadata": {
        "id": "43dP4NVZOEI2"
      }
    },
    {
      "cell_type": "code",
      "source": [
        "from pyspark.sql import SparkSession"
      ],
      "metadata": {
        "id": "1_WixBVIvvB-"
      },
      "execution_count": 2,
      "outputs": []
    },
    {
      "cell_type": "markdown",
      "source": [
        "Criamos uma seção pyspark com SparkSession utilizando\n",
        "o argumento **local[*]** para indicar que o ambiente local\n",
        "será o responsável por se comunicar com o ambiente spark"
      ],
      "metadata": {
        "id": "9QHzjeozXkbj"
      }
    },
    {
      "cell_type": "code",
      "source": [
        "spark = SparkSession.builder.master('local[*]')\\\n",
        "                           .appName('Classification with pyspark')\\\n",
        "                           .getOrCreate()"
      ],
      "metadata": {
        "id": "H02jOAtLOpQY"
      },
      "execution_count": 3,
      "outputs": []
    },
    {
      "cell_type": "markdown",
      "source": [
        "Se estivéssemos de fato em um ambiente local, poderíamos ver o processamento dos dados por meio da **Spark UI**"
      ],
      "metadata": {
        "id": "x6fgJuWEX0XN"
      }
    },
    {
      "cell_type": "code",
      "source": [
        "spark"
      ],
      "metadata": {
        "colab": {
          "base_uri": "https://localhost:8080/",
          "height": 219
        },
        "id": "VBu1NXKoXxVA",
        "outputId": "6b990f42-7c30-43ef-d3e8-7b29fb46729e"
      },
      "execution_count": 4,
      "outputs": [
        {
          "output_type": "execute_result",
          "data": {
            "text/plain": [
              "<pyspark.sql.session.SparkSession at 0x7fe2b49e5410>"
            ],
            "text/html": [
              "\n",
              "            <div>\n",
              "                <p><b>SparkSession - in-memory</b></p>\n",
              "                \n",
              "        <div>\n",
              "            <p><b>SparkContext</b></p>\n",
              "\n",
              "            <p><a href=\"http://a2965e51e659:4040\">Spark UI</a></p>\n",
              "\n",
              "            <dl>\n",
              "              <dt>Version</dt>\n",
              "                <dd><code>v3.3.0</code></dd>\n",
              "              <dt>Master</dt>\n",
              "                <dd><code>local[*]</code></dd>\n",
              "              <dt>AppName</dt>\n",
              "                <dd><code>Classification with pyspark</code></dd>\n",
              "            </dl>\n",
              "        </div>\n",
              "        \n",
              "            </div>\n",
              "        "
            ]
          },
          "metadata": {},
          "execution_count": 4
        }
      ]
    },
    {
      "cell_type": "markdown",
      "source": [
        "## **1.3 Carregamento dos Dados**"
      ],
      "metadata": {
        "id": "BOQSXCsB-XJ4"
      }
    },
    {
      "cell_type": "code",
      "source": [
        "from pyspark.sql.types import *"
      ],
      "metadata": {
        "id": "znKhe4ldiM-Q"
      },
      "execution_count": 5,
      "outputs": []
    },
    {
      "cell_type": "code",
      "source": [
        "raw_data = spark.read.csv('./dados_clientes.csv', \n",
        "                         sep=',', \n",
        "                         header=True, \n",
        "                         inferSchema=True)"
      ],
      "metadata": {
        "id": "iIjhbXvgPMSy"
      },
      "execution_count": 6,
      "outputs": []
    },
    {
      "cell_type": "code",
      "source": [
        "raw_data.show(5)"
      ],
      "metadata": {
        "id": "bItkwybT-BOG",
        "colab": {
          "base_uri": "https://localhost:8080/"
        },
        "outputId": "0476015f-905f-47a7-ba07-7da9b47d6b9d"
      },
      "execution_count": 7,
      "outputs": [
        {
          "output_type": "stream",
          "name": "stdout",
          "text": [
            "+---+-----+----------+-------+-----------+---------------+------------+------------------------+-----------+---------------+------------+-----------------+--------------+-------+---------------+------------+------------+----------------+-------------+\n",
            "| id|Churn|Mais65anos|Conjuge|Dependentes|MesesDeContrato|TelefoneFixo|MaisDeUmaLinhaTelefonica|   Internet|SegurancaOnline|BackupOnline|SeguroDispositivo|SuporteTecnico|TVaCabo|StreamingFilmes|TipoContrato|ContaCorreio| MetodoPagamento|MesesCobrados|\n",
            "+---+-----+----------+-------+-----------+---------------+------------+------------------------+-----------+---------------+------------+-----------------+--------------+-------+---------------+------------+------------+----------------+-------------+\n",
            "|  0|  Nao|         0|    Sim|        Nao|              1|         Nao|    SemServicoTelefonico|        DSL|            Nao|         Sim|              Nao|           Nao|    Nao|            Nao| Mensalmente|         Sim|BoletoEletronico|        29.85|\n",
            "|  1|  Nao|         0|    Nao|        Nao|             34|         Sim|                     Nao|        DSL|            Sim|         Nao|              Sim|           Nao|    Nao|            Nao|       UmAno|         Nao|          Boleto|        56.95|\n",
            "|  2|  Sim|         0|    Nao|        Nao|              2|         Sim|                     Nao|        DSL|            Sim|         Sim|              Nao|           Nao|    Nao|            Nao| Mensalmente|         Sim|          Boleto|        53.85|\n",
            "|  3|  Nao|         0|    Nao|        Nao|             45|         Nao|    SemServicoTelefonico|        DSL|            Sim|         Nao|              Sim|           Sim|    Nao|            Nao|       UmAno|         Nao|   DebitoEmConta|         42.3|\n",
            "|  4|  Sim|         0|    Nao|        Nao|              2|         Sim|                     Nao|FibraOptica|            Nao|         Nao|              Nao|           Nao|    Nao|            Nao| Mensalmente|         Sim|BoletoEletronico|         70.7|\n",
            "+---+-----+----------+-------+-----------+---------------+------------+------------------------+-----------+---------------+------------+-----------------+--------------+-------+---------------+------------+------------+----------------+-------------+\n",
            "only showing top 5 rows\n",
            "\n"
          ]
        }
      ]
    },
    {
      "cell_type": "markdown",
      "source": [
        "Utilizando a função **printSchema**, podemos perceber que a maioria das colunas possui o tipo *string*, o que virá a ser problemático quando utilizarmos modelos de machine learning:"
      ],
      "metadata": {
        "id": "7Qv9W4WLZ3S1"
      }
    },
    {
      "cell_type": "code",
      "source": [
        "raw_data.printSchema()"
      ],
      "metadata": {
        "id": "WMx7nLWW-BIV",
        "colab": {
          "base_uri": "https://localhost:8080/"
        },
        "outputId": "c45300b1-7a0e-4e69-cfa2-8c888f704bc1"
      },
      "execution_count": 8,
      "outputs": [
        {
          "output_type": "stream",
          "name": "stdout",
          "text": [
            "root\n",
            " |-- id: integer (nullable = true)\n",
            " |-- Churn: string (nullable = true)\n",
            " |-- Mais65anos: integer (nullable = true)\n",
            " |-- Conjuge: string (nullable = true)\n",
            " |-- Dependentes: string (nullable = true)\n",
            " |-- MesesDeContrato: integer (nullable = true)\n",
            " |-- TelefoneFixo: string (nullable = true)\n",
            " |-- MaisDeUmaLinhaTelefonica: string (nullable = true)\n",
            " |-- Internet: string (nullable = true)\n",
            " |-- SegurancaOnline: string (nullable = true)\n",
            " |-- BackupOnline: string (nullable = true)\n",
            " |-- SeguroDispositivo: string (nullable = true)\n",
            " |-- SuporteTecnico: string (nullable = true)\n",
            " |-- TVaCabo: string (nullable = true)\n",
            " |-- StreamingFilmes: string (nullable = true)\n",
            " |-- TipoContrato: string (nullable = true)\n",
            " |-- ContaCorreio: string (nullable = true)\n",
            " |-- MetodoPagamento: string (nullable = true)\n",
            " |-- MesesCobrados: double (nullable = true)\n",
            "\n"
          ]
        }
      ]
    },
    {
      "cell_type": "markdown",
      "source": [
        "Quantidade de dados:"
      ],
      "metadata": {
        "id": "C4L5YdPuZpFo"
      }
    },
    {
      "cell_type": "code",
      "source": [
        "print(f'{raw_data.count()} data')"
      ],
      "metadata": {
        "id": "DyXF17Oo-BCw",
        "colab": {
          "base_uri": "https://localhost:8080/"
        },
        "outputId": "96147571-58af-486d-cb20-e7e4f9112d65"
      },
      "execution_count": 9,
      "outputs": [
        {
          "output_type": "stream",
          "name": "stdout",
          "text": [
            "10348 data\n"
          ]
        }
      ]
    },
    {
      "cell_type": "markdown",
      "source": [
        "Verificação do balanceamento das classes da variável **CHURN**"
      ],
      "metadata": {
        "id": "L7ltn3HrZqpC"
      }
    },
    {
      "cell_type": "code",
      "source": [
        "raw_data.groupBy('Churn').count().show()"
      ],
      "metadata": {
        "id": "wOXJOUgGpi9z",
        "colab": {
          "base_uri": "https://localhost:8080/"
        },
        "outputId": "344cf70c-71eb-43e6-a4b8-42cfd64e5ab4"
      },
      "execution_count": 10,
      "outputs": [
        {
          "output_type": "stream",
          "name": "stdout",
          "text": [
            "+-----+-----+\n",
            "|Churn|count|\n",
            "+-----+-----+\n",
            "|  Sim| 5174|\n",
            "|  Nao| 5174|\n",
            "+-----+-----+\n",
            "\n"
          ]
        }
      ]
    },
    {
      "cell_type": "markdown",
      "source": [
        "## **1.4 Transformando os Dados**\n",
        "\n",
        "<font size=2>**Fonte:** [Functions](https://spark.apache.org/docs/latest/api/python/reference/pyspark.sql.html#functions)</font>"
      ],
      "metadata": {
        "id": "blFAMaSBVV2u"
      }
    },
    {
      "cell_type": "markdown",
      "source": [
        "Primeiramente, façamos o reposisionamento de valores \"Sim\" e \"Não\" por valores numéricos 1 e 0, respectivamente. Para isto, precisamos identificar as colunas com realizações binárias."
      ],
      "metadata": {
        "id": "NEuZhQrzbFz-"
      }
    },
    {
      "cell_type": "markdown",
      "source": [
        "Identificamos as colunas que possuem o tipo string dos seus dados:"
      ],
      "metadata": {
        "id": "sNleCbzOjUn3"
      }
    },
    {
      "cell_type": "code",
      "source": [
        "string_columns = [f.name for f in raw_data.schema.fields if isinstance(f.dataType, StringType)]\n",
        "string_columns"
      ],
      "metadata": {
        "colab": {
          "base_uri": "https://localhost:8080/"
        },
        "id": "uItYMtZ0iQpV",
        "outputId": "7923c2ad-c700-4a9c-e653-66aa390fea57"
      },
      "execution_count": 11,
      "outputs": [
        {
          "output_type": "execute_result",
          "data": {
            "text/plain": [
              "['Churn',\n",
              " 'Conjuge',\n",
              " 'Dependentes',\n",
              " 'TelefoneFixo',\n",
              " 'MaisDeUmaLinhaTelefonica',\n",
              " 'Internet',\n",
              " 'SegurancaOnline',\n",
              " 'BackupOnline',\n",
              " 'SeguroDispositivo',\n",
              " 'SuporteTecnico',\n",
              " 'TVaCabo',\n",
              " 'StreamingFilmes',\n",
              " 'TipoContrato',\n",
              " 'ContaCorreio',\n",
              " 'MetodoPagamento']"
            ]
          },
          "metadata": {},
          "execution_count": 11
        }
      ]
    },
    {
      "cell_type": "markdown",
      "source": [
        "Iteramos por estas colunas e identificamos quais possuem apenas dois valores únicos, ou três valores únicos mas sendo um deles considerado como valor falso:"
      ],
      "metadata": {
        "id": "2wWClsz4jZPv"
      }
    },
    {
      "cell_type": "code",
      "source": [
        "for str_col in string_columns:\n",
        "  print(raw_data.select(str_col).distinct().show())"
      ],
      "metadata": {
        "colab": {
          "base_uri": "https://localhost:8080/"
        },
        "id": "9Tf9NZ67iSLm",
        "outputId": "0941cd55-9ef4-4115-fd64-5ea550ff8337"
      },
      "execution_count": 12,
      "outputs": [
        {
          "output_type": "stream",
          "name": "stdout",
          "text": [
            "+-----+\n",
            "|Churn|\n",
            "+-----+\n",
            "|  Sim|\n",
            "|  Nao|\n",
            "+-----+\n",
            "\n",
            "None\n",
            "+-------+\n",
            "|Conjuge|\n",
            "+-------+\n",
            "|    Sim|\n",
            "|    Nao|\n",
            "+-------+\n",
            "\n",
            "None\n",
            "+-----------+\n",
            "|Dependentes|\n",
            "+-----------+\n",
            "|        Sim|\n",
            "|        Nao|\n",
            "+-----------+\n",
            "\n",
            "None\n",
            "+------------+\n",
            "|TelefoneFixo|\n",
            "+------------+\n",
            "|         Sim|\n",
            "|         Nao|\n",
            "+------------+\n",
            "\n",
            "None\n",
            "+------------------------+\n",
            "|MaisDeUmaLinhaTelefonica|\n",
            "+------------------------+\n",
            "|                     Sim|\n",
            "|                     Nao|\n",
            "|    SemServicoTelefonico|\n",
            "+------------------------+\n",
            "\n",
            "None\n",
            "+-----------+\n",
            "|   Internet|\n",
            "+-----------+\n",
            "|FibraOptica|\n",
            "|        Nao|\n",
            "|        DSL|\n",
            "+-----------+\n",
            "\n",
            "None\n",
            "+------------------+\n",
            "|   SegurancaOnline|\n",
            "+------------------+\n",
            "|SemServicoInternet|\n",
            "|               Sim|\n",
            "|               Nao|\n",
            "+------------------+\n",
            "\n",
            "None\n",
            "+------------------+\n",
            "|      BackupOnline|\n",
            "+------------------+\n",
            "|SemServicoInternet|\n",
            "|               Sim|\n",
            "|               Nao|\n",
            "+------------------+\n",
            "\n",
            "None\n",
            "+------------------+\n",
            "| SeguroDispositivo|\n",
            "+------------------+\n",
            "|SemServicoInternet|\n",
            "|               Sim|\n",
            "|               Nao|\n",
            "+------------------+\n",
            "\n",
            "None\n",
            "+------------------+\n",
            "|    SuporteTecnico|\n",
            "+------------------+\n",
            "|SemServicoInternet|\n",
            "|               Sim|\n",
            "|               Nao|\n",
            "+------------------+\n",
            "\n",
            "None\n",
            "+------------------+\n",
            "|           TVaCabo|\n",
            "+------------------+\n",
            "|SemServicoInternet|\n",
            "|               Sim|\n",
            "|               Nao|\n",
            "+------------------+\n",
            "\n",
            "None\n",
            "+------------------+\n",
            "|   StreamingFilmes|\n",
            "+------------------+\n",
            "|SemServicoInternet|\n",
            "|               Sim|\n",
            "|               Nao|\n",
            "+------------------+\n",
            "\n",
            "None\n",
            "+------------+\n",
            "|TipoContrato|\n",
            "+------------+\n",
            "|       UmAno|\n",
            "| Mensalmente|\n",
            "|    DoisAnos|\n",
            "+------------+\n",
            "\n",
            "None\n",
            "+------------+\n",
            "|ContaCorreio|\n",
            "+------------+\n",
            "|         Sim|\n",
            "|         Nao|\n",
            "+------------+\n",
            "\n",
            "None\n",
            "+----------------+\n",
            "| MetodoPagamento|\n",
            "+----------------+\n",
            "|BoletoEletronico|\n",
            "|   CartaoCredito|\n",
            "|   DebitoEmConta|\n",
            "|          Boleto|\n",
            "+----------------+\n",
            "\n",
            "None\n"
          ]
        }
      ]
    },
    {
      "cell_type": "markdown",
      "source": [
        "Colunas consideradas binárias:"
      ],
      "metadata": {
        "id": "g6yTbH9SjkYr"
      }
    },
    {
      "cell_type": "code",
      "source": [
        "binary_columns = [\n",
        "    'Churn',\n",
        "    'Conjuge',\n",
        "    'Dependentes',\n",
        "    'TelefoneFixo',\n",
        "    'MaisDeUmaLinhaTelefonica',\n",
        "    'SegurancaOnline',\n",
        "    'BackupOnline',\n",
        "    'SeguroDispositivo',\n",
        "    'SuporteTecnico',\n",
        "    'TVaCabo',\n",
        "    'StreamingFilmes',\n",
        "    'ContaCorreio'\n",
        "]"
      ],
      "metadata": {
        "id": "mTav14ezr0Uf"
      },
      "execution_count": 13,
      "outputs": []
    },
    {
      "cell_type": "markdown",
      "source": [
        "Importamos a biblioteca de funções do pyspark:"
      ],
      "metadata": {
        "id": "4SKqxs7adRLe"
      }
    },
    {
      "cell_type": "code",
      "source": [
        "from pyspark.sql import functions as f"
      ],
      "metadata": {
        "id": "XMCXJ0fbb2WI"
      },
      "execution_count": 14,
      "outputs": []
    },
    {
      "cell_type": "code",
      "source": [
        "f.when?"
      ],
      "metadata": {
        "id": "fCitT1gIcb-g"
      },
      "execution_count": 15,
      "outputs": []
    },
    {
      "cell_type": "markdown",
      "source": [
        "Criamos uma lista de colunas com regras no estilo:\n",
        "\n",
        "\n",
        "```SQL\n",
        "CASE WHEN\n",
        "```\n",
        "\n",
        "aplicadas as nossas colunas binárias.\n",
        "\n"
      ],
      "metadata": {
        "id": "gDQ6-6xudUbS"
      }
    },
    {
      "cell_type": "code",
      "source": [
        "all_columns = [f.when(f.col(c) == 'Sim', 1).otherwise(0).alias(c) for c in binary_columns]"
      ],
      "metadata": {
        "id": "DokzQv2rsnbC"
      },
      "execution_count": 16,
      "outputs": []
    },
    {
      "cell_type": "code",
      "source": [
        "all_columns"
      ],
      "metadata": {
        "id": "sqW_vtly9rw0",
        "colab": {
          "base_uri": "https://localhost:8080/"
        },
        "outputId": "4da07aac-6523-4ee9-aa35-1558d3d6a32b"
      },
      "execution_count": 17,
      "outputs": [
        {
          "output_type": "execute_result",
          "data": {
            "text/plain": [
              "[Column<'CASE WHEN (Churn = Sim) THEN 1 ELSE 0 END AS Churn'>,\n",
              " Column<'CASE WHEN (Conjuge = Sim) THEN 1 ELSE 0 END AS Conjuge'>,\n",
              " Column<'CASE WHEN (Dependentes = Sim) THEN 1 ELSE 0 END AS Dependentes'>,\n",
              " Column<'CASE WHEN (TelefoneFixo = Sim) THEN 1 ELSE 0 END AS TelefoneFixo'>,\n",
              " Column<'CASE WHEN (MaisDeUmaLinhaTelefonica = Sim) THEN 1 ELSE 0 END AS MaisDeUmaLinhaTelefonica'>,\n",
              " Column<'CASE WHEN (SegurancaOnline = Sim) THEN 1 ELSE 0 END AS SegurancaOnline'>,\n",
              " Column<'CASE WHEN (BackupOnline = Sim) THEN 1 ELSE 0 END AS BackupOnline'>,\n",
              " Column<'CASE WHEN (SeguroDispositivo = Sim) THEN 1 ELSE 0 END AS SeguroDispositivo'>,\n",
              " Column<'CASE WHEN (SuporteTecnico = Sim) THEN 1 ELSE 0 END AS SuporteTecnico'>,\n",
              " Column<'CASE WHEN (TVaCabo = Sim) THEN 1 ELSE 0 END AS TVaCabo'>,\n",
              " Column<'CASE WHEN (StreamingFilmes = Sim) THEN 1 ELSE 0 END AS StreamingFilmes'>,\n",
              " Column<'CASE WHEN (ContaCorreio = Sim) THEN 1 ELSE 0 END AS ContaCorreio'>]"
            ]
          },
          "metadata": {},
          "execution_count": 17
        }
      ]
    },
    {
      "cell_type": "markdown",
      "source": [
        "Incluindo as colunas transformadas em uma lista contendo todas as colunas dos dados:"
      ],
      "metadata": {
        "id": "iGlY0MJkduS2"
      }
    },
    {
      "cell_type": "code",
      "source": [
        "for column in reversed(raw_data.columns):\n",
        "  if column not in binary_columns:\n",
        "    all_columns.insert(0, column)\n",
        "all_columns"
      ],
      "metadata": {
        "id": "lhAyVrcFmKYT",
        "colab": {
          "base_uri": "https://localhost:8080/"
        },
        "outputId": "37347f1e-e148-4e48-8ed3-c35cada9bf1d"
      },
      "execution_count": 18,
      "outputs": [
        {
          "output_type": "execute_result",
          "data": {
            "text/plain": [
              "['id',\n",
              " 'Mais65anos',\n",
              " 'MesesDeContrato',\n",
              " 'Internet',\n",
              " 'TipoContrato',\n",
              " 'MetodoPagamento',\n",
              " 'MesesCobrados',\n",
              " Column<'CASE WHEN (Churn = Sim) THEN 1 ELSE 0 END AS Churn'>,\n",
              " Column<'CASE WHEN (Conjuge = Sim) THEN 1 ELSE 0 END AS Conjuge'>,\n",
              " Column<'CASE WHEN (Dependentes = Sim) THEN 1 ELSE 0 END AS Dependentes'>,\n",
              " Column<'CASE WHEN (TelefoneFixo = Sim) THEN 1 ELSE 0 END AS TelefoneFixo'>,\n",
              " Column<'CASE WHEN (MaisDeUmaLinhaTelefonica = Sim) THEN 1 ELSE 0 END AS MaisDeUmaLinhaTelefonica'>,\n",
              " Column<'CASE WHEN (SegurancaOnline = Sim) THEN 1 ELSE 0 END AS SegurancaOnline'>,\n",
              " Column<'CASE WHEN (BackupOnline = Sim) THEN 1 ELSE 0 END AS BackupOnline'>,\n",
              " Column<'CASE WHEN (SeguroDispositivo = Sim) THEN 1 ELSE 0 END AS SeguroDispositivo'>,\n",
              " Column<'CASE WHEN (SuporteTecnico = Sim) THEN 1 ELSE 0 END AS SuporteTecnico'>,\n",
              " Column<'CASE WHEN (TVaCabo = Sim) THEN 1 ELSE 0 END AS TVaCabo'>,\n",
              " Column<'CASE WHEN (StreamingFilmes = Sim) THEN 1 ELSE 0 END AS StreamingFilmes'>,\n",
              " Column<'CASE WHEN (ContaCorreio = Sim) THEN 1 ELSE 0 END AS ContaCorreio'>]"
            ]
          },
          "metadata": {},
          "execution_count": 18
        }
      ]
    },
    {
      "cell_type": "markdown",
      "source": [
        "Perceba que agora conseguimos binarizar as colunas de dados utilizando um simples select:"
      ],
      "metadata": {
        "id": "wxl1vr5gd_5G"
      }
    },
    {
      "cell_type": "code",
      "source": [
        "raw_data.select(all_columns).show()"
      ],
      "metadata": {
        "id": "Mhp-2cRy70mI",
        "colab": {
          "base_uri": "https://localhost:8080/"
        },
        "outputId": "6aafc225-6b65-4e04-96d4-69ac16d785fc"
      },
      "execution_count": 19,
      "outputs": [
        {
          "output_type": "stream",
          "name": "stdout",
          "text": [
            "+---+----------+---------------+-----------+------------+----------------+-------------+-----+-------+-----------+------------+------------------------+---------------+------------+-----------------+--------------+-------+---------------+------------+\n",
            "| id|Mais65anos|MesesDeContrato|   Internet|TipoContrato| MetodoPagamento|MesesCobrados|Churn|Conjuge|Dependentes|TelefoneFixo|MaisDeUmaLinhaTelefonica|SegurancaOnline|BackupOnline|SeguroDispositivo|SuporteTecnico|TVaCabo|StreamingFilmes|ContaCorreio|\n",
            "+---+----------+---------------+-----------+------------+----------------+-------------+-----+-------+-----------+------------+------------------------+---------------+------------+-----------------+--------------+-------+---------------+------------+\n",
            "|  0|         0|              1|        DSL| Mensalmente|BoletoEletronico|        29.85|    0|      1|          0|           0|                       0|              0|           1|                0|             0|      0|              0|           1|\n",
            "|  1|         0|             34|        DSL|       UmAno|          Boleto|        56.95|    0|      0|          0|           1|                       0|              1|           0|                1|             0|      0|              0|           0|\n",
            "|  2|         0|              2|        DSL| Mensalmente|          Boleto|        53.85|    1|      0|          0|           1|                       0|              1|           1|                0|             0|      0|              0|           1|\n",
            "|  3|         0|             45|        DSL|       UmAno|   DebitoEmConta|         42.3|    0|      0|          0|           0|                       0|              1|           0|                1|             1|      0|              0|           0|\n",
            "|  4|         0|              2|FibraOptica| Mensalmente|BoletoEletronico|         70.7|    1|      0|          0|           1|                       0|              0|           0|                0|             0|      0|              0|           1|\n",
            "|  5|         0|              8|FibraOptica| Mensalmente|BoletoEletronico|        99.65|    1|      0|          0|           1|                       1|              0|           0|                1|             0|      1|              1|           1|\n",
            "|  6|         0|             22|FibraOptica| Mensalmente|   CartaoCredito|         89.1|    0|      0|          1|           1|                       1|              0|           1|                0|             0|      1|              0|           1|\n",
            "|  7|         0|             10|        DSL| Mensalmente|          Boleto|        29.75|    0|      0|          0|           0|                       0|              1|           0|                0|             0|      0|              0|           0|\n",
            "|  8|         0|             28|FibraOptica| Mensalmente|BoletoEletronico|        104.8|    1|      1|          0|           1|                       1|              0|           0|                1|             1|      1|              1|           1|\n",
            "|  9|         0|             62|        DSL|       UmAno|   DebitoEmConta|        56.15|    0|      0|          1|           1|                       0|              1|           1|                0|             0|      0|              0|           0|\n",
            "| 10|         0|             13|        DSL| Mensalmente|          Boleto|        49.95|    0|      1|          1|           1|                       0|              1|           0|                0|             0|      0|              0|           1|\n",
            "| 11|         0|             16|        Nao|    DoisAnos|   CartaoCredito|        18.95|    0|      0|          0|           1|                       0|              0|           0|                0|             0|      0|              0|           0|\n",
            "| 12|         0|             58|FibraOptica|       UmAno|   CartaoCredito|       100.35|    0|      1|          0|           1|                       1|              0|           0|                1|             0|      1|              1|           0|\n",
            "| 13|         0|             49|FibraOptica| Mensalmente|   DebitoEmConta|        103.7|    1|      0|          0|           1|                       1|              0|           1|                1|             0|      1|              1|           1|\n",
            "| 14|         0|             25|FibraOptica| Mensalmente|BoletoEletronico|        105.5|    0|      0|          0|           1|                       0|              1|           0|                1|             1|      1|              1|           1|\n",
            "| 15|         0|             69|FibraOptica|    DoisAnos|   CartaoCredito|       113.25|    0|      1|          1|           1|                       1|              1|           1|                1|             1|      1|              1|           0|\n",
            "| 16|         0|             52|        Nao|       UmAno|          Boleto|        20.65|    0|      0|          0|           1|                       0|              0|           0|                0|             0|      0|              0|           0|\n",
            "| 17|         0|             71|FibraOptica|    DoisAnos|   DebitoEmConta|        106.7|    0|      0|          1|           1|                       1|              1|           0|                1|             0|      1|              1|           0|\n",
            "| 18|         0|             10|        DSL| Mensalmente|   CartaoCredito|         55.2|    1|      1|          1|           1|                       0|              0|           0|                1|             1|      0|              0|           0|\n",
            "| 19|         0|             21|FibraOptica| Mensalmente|BoletoEletronico|        90.05|    0|      0|          0|           1|                       0|              0|           1|                1|             0|      0|              1|           1|\n",
            "+---+----------+---------------+-----------+------------+----------------+-------------+-----+-------+-----------+------------+------------------------+---------------+------------+-----------------+--------------+-------+---------------+------------+\n",
            "only showing top 20 rows\n",
            "\n"
          ]
        }
      ]
    },
    {
      "cell_type": "code",
      "source": [
        "dataset = raw_data.select(all_columns)"
      ],
      "metadata": {
        "id": "TEpK0IXUs2BF"
      },
      "execution_count": 20,
      "outputs": []
    },
    {
      "cell_type": "code",
      "source": [
        "dataset.printSchema()"
      ],
      "metadata": {
        "colab": {
          "base_uri": "https://localhost:8080/"
        },
        "id": "JJXnsuU4eKHH",
        "outputId": "9ffe3b96-82ea-4d39-a670-e979892e777f"
      },
      "execution_count": 21,
      "outputs": [
        {
          "output_type": "stream",
          "name": "stdout",
          "text": [
            "root\n",
            " |-- id: integer (nullable = true)\n",
            " |-- Mais65anos: integer (nullable = true)\n",
            " |-- MesesDeContrato: integer (nullable = true)\n",
            " |-- Internet: string (nullable = true)\n",
            " |-- TipoContrato: string (nullable = true)\n",
            " |-- MetodoPagamento: string (nullable = true)\n",
            " |-- MesesCobrados: double (nullable = true)\n",
            " |-- Churn: integer (nullable = false)\n",
            " |-- Conjuge: integer (nullable = false)\n",
            " |-- Dependentes: integer (nullable = false)\n",
            " |-- TelefoneFixo: integer (nullable = false)\n",
            " |-- MaisDeUmaLinhaTelefonica: integer (nullable = false)\n",
            " |-- SegurancaOnline: integer (nullable = false)\n",
            " |-- BackupOnline: integer (nullable = false)\n",
            " |-- SeguroDispositivo: integer (nullable = false)\n",
            " |-- SuporteTecnico: integer (nullable = false)\n",
            " |-- TVaCabo: integer (nullable = false)\n",
            " |-- StreamingFilmes: integer (nullable = false)\n",
            " |-- ContaCorreio: integer (nullable = false)\n",
            "\n"
          ]
        }
      ]
    },
    {
      "cell_type": "markdown",
      "source": [
        "Perceba que ainda temos colunas do tipo *string*, mas com realizações com diversos valores possíveis, não sendo apenas valores binários de \"Sim\" ou \"Não\""
      ],
      "metadata": {
        "id": "gRH3pWZmeb-l"
      }
    },
    {
      "cell_type": "markdown",
      "source": [
        "## **1.5 Criando *Dummies***"
      ],
      "metadata": {
        "id": "FLn2a7ym7MLp"
      }
    },
    {
      "cell_type": "markdown",
      "source": [
        "Vejamos quais são as colunas de **dataset** que ainda possuem campos classificados como strings:"
      ],
      "metadata": {
        "id": "6kUSTtD_mYpr"
      }
    },
    {
      "cell_type": "code",
      "source": [
        "dataset_str_columns = [f.name for f in dataset.schema.fields if isinstance(f.dataType, StringType)]\n",
        "dataset_str_columns"
      ],
      "metadata": {
        "id": "czr0pqtgmYJ1",
        "outputId": "16c18926-824a-4d5c-c154-f833a17a34d0",
        "colab": {
          "base_uri": "https://localhost:8080/"
        }
      },
      "execution_count": 22,
      "outputs": [
        {
          "output_type": "execute_result",
          "data": {
            "text/plain": [
              "['Internet', 'TipoContrato', 'MetodoPagamento']"
            ]
          },
          "metadata": {},
          "execution_count": 22
        }
      ]
    },
    {
      "cell_type": "markdown",
      "source": [
        "Agora, veremos os valores únicos de cada coluna:"
      ],
      "metadata": {
        "id": "g95FI-ubmePw"
      }
    },
    {
      "cell_type": "code",
      "source": [
        "for dataset_str_col in dataset_str_columns:\n",
        "  print(dataset.select(dataset_str_col).distinct().show())"
      ],
      "metadata": {
        "id": "E_Hs2oXj9-pq",
        "colab": {
          "base_uri": "https://localhost:8080/"
        },
        "outputId": "2fdd1ba5-1d12-42ee-8f36-de2637807932"
      },
      "execution_count": 23,
      "outputs": [
        {
          "output_type": "stream",
          "name": "stdout",
          "text": [
            "+-----------+\n",
            "|   Internet|\n",
            "+-----------+\n",
            "|FibraOptica|\n",
            "|        Nao|\n",
            "|        DSL|\n",
            "+-----------+\n",
            "\n",
            "None\n",
            "+------------+\n",
            "|TipoContrato|\n",
            "+------------+\n",
            "|       UmAno|\n",
            "| Mensalmente|\n",
            "|    DoisAnos|\n",
            "+------------+\n",
            "\n",
            "None\n",
            "+----------------+\n",
            "| MetodoPagamento|\n",
            "+----------------+\n",
            "|BoletoEletronico|\n",
            "|   CartaoCredito|\n",
            "|   DebitoEmConta|\n",
            "|          Boleto|\n",
            "+----------------+\n",
            "\n",
            "None\n"
          ]
        }
      ]
    },
    {
      "cell_type": "code",
      "source": [
        "dataset.select(dataset_str_columns).show()"
      ],
      "metadata": {
        "id": "DFJx294nMCit",
        "colab": {
          "base_uri": "https://localhost:8080/"
        },
        "outputId": "401e139a-4e98-4de8-c239-c17d5489983e"
      },
      "execution_count": 24,
      "outputs": [
        {
          "output_type": "stream",
          "name": "stdout",
          "text": [
            "+-----------+------------+----------------+\n",
            "|   Internet|TipoContrato| MetodoPagamento|\n",
            "+-----------+------------+----------------+\n",
            "|        DSL| Mensalmente|BoletoEletronico|\n",
            "|        DSL|       UmAno|          Boleto|\n",
            "|        DSL| Mensalmente|          Boleto|\n",
            "|        DSL|       UmAno|   DebitoEmConta|\n",
            "|FibraOptica| Mensalmente|BoletoEletronico|\n",
            "|FibraOptica| Mensalmente|BoletoEletronico|\n",
            "|FibraOptica| Mensalmente|   CartaoCredito|\n",
            "|        DSL| Mensalmente|          Boleto|\n",
            "|FibraOptica| Mensalmente|BoletoEletronico|\n",
            "|        DSL|       UmAno|   DebitoEmConta|\n",
            "|        DSL| Mensalmente|          Boleto|\n",
            "|        Nao|    DoisAnos|   CartaoCredito|\n",
            "|FibraOptica|       UmAno|   CartaoCredito|\n",
            "|FibraOptica| Mensalmente|   DebitoEmConta|\n",
            "|FibraOptica| Mensalmente|BoletoEletronico|\n",
            "|FibraOptica|    DoisAnos|   CartaoCredito|\n",
            "|        Nao|       UmAno|          Boleto|\n",
            "|FibraOptica|    DoisAnos|   DebitoEmConta|\n",
            "|        DSL| Mensalmente|   CartaoCredito|\n",
            "|FibraOptica| Mensalmente|BoletoEletronico|\n",
            "+-----------+------------+----------------+\n",
            "only showing top 20 rows\n",
            "\n"
          ]
        }
      ]
    },
    {
      "cell_type": "markdown",
      "source": [
        "Iremos realizar o processamento destas colunas utilizando uma técnica chamada de **one hot encoding**, ou **dummies**. Para isto, utilizaremos a função **pivot** aplicada a datasets agregados, a função **lit** e a função **fill**.\n",
        "\n",
        "O procedimento geral é:\n",
        "\n",
        "````Python\n",
        "dataset.groupby(col_to_group).pivot(col_to_pivot).agg(f.lit(valor_para_presente)).na.fill(valor_para_preencher_dados_ausentes).show()\n",
        "````\n",
        "\n",
        "Ou seja: agregamos o dataset pelo id apenas para termos acesso à função pivot (cross tab) utilizando a coluna em que queremos que os valores únicos se tornem colunas, aplicando uma função lit(1) para preencher estas colunas novas com 1 caso o valor único esteja presente na coluna original, deixando como NaN os campos dos valores que não estejam presentes na coluna original. Por fim, utilizamos o fill(0) para preencher como 0 os campos que estejam com valor NaN:"
      ],
      "metadata": {
        "id": "ICH3blHEobvq"
      }
    },
    {
      "cell_type": "code",
      "source": [
        "dataset.groupby('id').pivot('Internet').agg(f.lit(1)).na.fill(0).show()"
      ],
      "metadata": {
        "id": "jHb0pPZXPrYa",
        "colab": {
          "base_uri": "https://localhost:8080/"
        },
        "outputId": "98615fd8-c1b7-4618-c3be-f40ea4b7cbe6"
      },
      "execution_count": 25,
      "outputs": [
        {
          "output_type": "stream",
          "name": "stdout",
          "text": [
            "+----+---+-----------+---+\n",
            "|  id|DSL|FibraOptica|Nao|\n",
            "+----+---+-----------+---+\n",
            "|7982|  1|          0|  0|\n",
            "|9465|  0|          1|  0|\n",
            "|2122|  1|          0|  0|\n",
            "|3997|  1|          0|  0|\n",
            "|6654|  0|          1|  0|\n",
            "|7880|  0|          1|  0|\n",
            "|4519|  0|          1|  0|\n",
            "|6466|  0|          1|  0|\n",
            "| 496|  1|          0|  0|\n",
            "|7833|  0|          1|  0|\n",
            "|1591|  0|          0|  1|\n",
            "|2866|  0|          1|  0|\n",
            "|8592|  0|          1|  0|\n",
            "|1829|  0|          1|  0|\n",
            "| 463|  0|          1|  0|\n",
            "|4900|  0|          1|  0|\n",
            "|4818|  0|          1|  0|\n",
            "|7554|  1|          0|  0|\n",
            "|1342|  0|          0|  1|\n",
            "|5300|  0|          1|  0|\n",
            "+----+---+-----------+---+\n",
            "only showing top 20 rows\n",
            "\n"
          ]
        }
      ]
    },
    {
      "cell_type": "markdown",
      "source": [
        "A forma de interpretar os valores acima: para o id 7982, a realização da coluna **Internet** é **DSL**, pois para este id temos o valor 1 e 0 para as demais realizações consideradas como colunas."
      ],
      "metadata": {
        "id": "V4g6oZ9qqbPM"
      }
    },
    {
      "cell_type": "code",
      "source": [
        "Internet = dataset.groupby('id').pivot('Internet').agg(f.lit(1)).na.fill(0)\n",
        "TipoContrato = dataset.groupby('id').pivot('TipoContrato').agg(f.lit(1)).na.fill(0)\n",
        "MetodoPagamento = dataset.groupby('id').pivot('MetodoPagamento').agg(f.lit(1)).na.fill(0)"
      ],
      "metadata": {
        "id": "B1FK7TOmRSYF"
      },
      "execution_count": 26,
      "outputs": []
    },
    {
      "cell_type": "markdown",
      "source": [
        "Perceba que quando realizamos o pivot e utilizamos a técnica de OH Enconding, a coluna original já é removida do dataset"
      ],
      "metadata": {
        "id": "BH-2UnAYyXrG"
      }
    },
    {
      "cell_type": "code",
      "source": [
        "dataset\\\n",
        "  .join(Internet, on='id', how='inner')\\\n",
        "  .join(TipoContrato, on='id', how='inner')\\\n",
        "  .join(MetodoPagamento, on='id', how='inner')\\\n",
        "  .select(\n",
        "      '*',\n",
        "      f.col('DSL').alias('Internet_DSL'),\n",
        "      f.col('FibraOptica').alias('Internet_FibraOptica'),\n",
        "      f.col('Nao').alias('Internet_Nao'),\n",
        "      f.col('Mensalmente').alias('TipoContrato_Mensalmente'),\n",
        "      f.col('UmAno').alias('TipoContrato_UmAno'),\n",
        "      f.col('DoisAnos').alias('MetodoPagamento_DoisAnos'),\n",
        "      f.col('DebitoEmConta').alias('MetodoPagamento_DebitoEmConta'),\n",
        "      f.col('CartaoCredito').alias('MetodoPagamento_CartaoCredito'),\n",
        "      f.col('BoletoEletronico').alias('MetodoPagamento_BoletoEletronico'),\n",
        "      f.col('Boleto').alias('MetodoPagamento_Boleto')\n",
        "  )\\\n",
        "  .drop(\n",
        "      'Internet', 'TipoContrato', 'MetodoPagamento', 'DSL',\n",
        "      'FibraOptica', 'Nao', 'Mensalmente', 'UmAno', 'DoisAnos',\n",
        "      'DebitoEmConta', 'CartaoCredito', 'BoletoEletronico', 'Boleto'\n",
        "  ).show()"
      ],
      "metadata": {
        "id": "D58P834Tzd99",
        "colab": {
          "base_uri": "https://localhost:8080/"
        },
        "outputId": "cb65a90e-bd9a-4e4c-b0ff-f88fbeda3164"
      },
      "execution_count": 27,
      "outputs": [
        {
          "output_type": "stream",
          "name": "stdout",
          "text": [
            "+----+----------+---------------+-----------------+-----+-------+-----------+------------+------------------------+---------------+------------+-----------------+--------------+-------+---------------+------------+------------+--------------------+------------+------------------------+------------------+------------------------+-----------------------------+-----------------------------+--------------------------------+----------------------+\n",
            "|  id|Mais65anos|MesesDeContrato|    MesesCobrados|Churn|Conjuge|Dependentes|TelefoneFixo|MaisDeUmaLinhaTelefonica|SegurancaOnline|BackupOnline|SeguroDispositivo|SuporteTecnico|TVaCabo|StreamingFilmes|ContaCorreio|Internet_DSL|Internet_FibraOptica|Internet_Nao|TipoContrato_Mensalmente|TipoContrato_UmAno|MetodoPagamento_DoisAnos|MetodoPagamento_DebitoEmConta|MetodoPagamento_CartaoCredito|MetodoPagamento_BoletoEletronico|MetodoPagamento_Boleto|\n",
            "+----+----------+---------------+-----------------+-----+-------+-----------+------------+------------------------+---------------+------------+-----------------+--------------+-------+---------------+------------+------------+--------------------+------------+------------------------+------------------+------------------------+-----------------------------+-----------------------------+--------------------------------+----------------------+\n",
            "|7982|         0|              1|45.30540797610398|    1|      0|          0|           0|                       0|              0|           0|                0|             0|      1|              1|           1|           1|                   0|           0|                       1|                 0|                       0|                            0|                            0|                               1|                     0|\n",
            "|9465|         0|             60|103.6142230120257|    1|      1|          0|           1|                       1|              0|           1|                1|             0|      1|              1|           1|           0|                   1|           0|                       1|                 0|                       0|                            0|                            0|                               1|                     0|\n",
            "|2122|         0|             12|            75.85|    0|      0|          0|           1|                       1|              0|           0|                0|             1|      1|              1|           1|           1|                   0|           0|                       0|                 1|                       0|                            0|                            0|                               0|                     1|\n",
            "|3997|         0|             69|            61.45|    0|      1|          0|           1|                       0|              0|           1|                0|             0|      0|              1|           1|           1|                   0|           0|                       0|                 0|                       1|                            0|                            1|                               0|                     0|\n",
            "|6654|         0|              7|             86.5|    1|      1|          0|           1|                       1|              0|           0|                0|             0|      1|              0|           1|           0|                   1|           0|                       1|                 0|                       0|                            0|                            0|                               1|                     0|\n",
            "|7880|         0|             14|85.03742670311915|    1|      0|          0|           1|                       1|              0|           0|                0|             0|      0|              1|           1|           0|                   1|           0|                       1|                 0|                       0|                            0|                            0|                               1|                     0|\n",
            "|4519|         0|             57|            109.4|    0|      1|          0|           1|                       1|              0|           1|                1|             1|      1|              1|           1|           0|                   1|           0|                       0|                 1|                       0|                            1|                            0|                               0|                     0|\n",
            "|6466|         0|             18|            74.15|    0|      0|          0|           1|                       1|              0|           0|                0|             0|      0|              0|           0|           0|                   1|           0|                       1|                 0|                       0|                            0|                            0|                               0|                     1|\n",
            "| 496|         0|             28|             60.9|    0|      1|          0|           1|                       0|              1|           1|                0|             1|      0|              0|           0|           1|                   0|           0|                       1|                 0|                       0|                            0|                            0|                               0|                     1|\n",
            "|7833|         0|             46| 80.8824189403559|    1|      1|          0|           1|                       0|              0|           0|                0|             0|      0|              1|           1|           0|                   1|           0|                       1|                 0|                       0|                            0|                            0|                               1|                     0|\n",
            "|1591|         0|             17|             21.1|    0|      0|          0|           1|                       0|              0|           0|                0|             0|      0|              0|           0|           0|                   0|           1|                       1|                 0|                       0|                            0|                            1|                               0|                     0|\n",
            "|2866|         0|             12|             84.6|    0|      0|          0|           1|                       0|              0|           1|                0|             0|      0|              1|           1|           0|                   1|           0|                       1|                 0|                       0|                            0|                            0|                               1|                     0|\n",
            "|8592|         0|              5|82.71735660557214|    1|      1|          0|           1|                       1|              0|           0|                0|             0|      1|              0|           1|           0|                   1|           0|                       1|                 0|                       0|                            0|                            0|                               1|                     0|\n",
            "|1829|         0|              8|            74.85|    0|      0|          0|           1|                       1|              0|           0|                0|             0|      0|              0|           1|           0|                   1|           0|                       1|                 0|                       0|                            0|                            0|                               1|                     0|\n",
            "| 463|         0|              7|             99.8|    1|      0|          0|           1|                       1|              0|           1|                0|             0|      1|              1|           1|           0|                   1|           0|                       1|                 0|                       0|                            0|                            0|                               1|                     0|\n",
            "|4900|         1|             37|             85.7|    1|      1|          0|           1|                       1|              0|           0|                0|             0|      1|              0|           1|           0|                   1|           0|                       1|                 0|                       0|                            0|                            0|                               1|                     0|\n",
            "|4818|         1|             64|             80.3|    0|      1|          0|           1|                       0|              1|           0|                1|             0|      0|              0|           0|           0|                   1|           0|                       0|                 1|                       0|                            0|                            1|                               0|                     0|\n",
            "|7554|         0|              1|50.74303124820026|    1|      0|          0|           1|                       0|              0|           1|                0|             0|      0|              0|           0|           1|                   0|           0|                       1|                 0|                       0|                            0|                            0|                               1|                     0|\n",
            "|1342|         0|              8|             20.0|    0|      0|          0|           1|                       0|              0|           0|                0|             0|      0|              0|           0|           0|                   0|           1|                       0|                 0|                       1|                            0|                            0|                               0|                     1|\n",
            "|5300|         0|              1|            80.05|    1|      1|          1|           1|                       0|              0|           0|                0|             0|      1|              0|           1|           0|                   1|           0|                       1|                 0|                       0|                            0|                            0|                               0|                     1|\n",
            "+----+----------+---------------+-----------------+-----+-------+-----------+------------+------------------------+---------------+------------+-----------------+--------------+-------+---------------+------------+------------+--------------------+------------+------------------------+------------------+------------------------+-----------------------------+-----------------------------+--------------------------------+----------------------+\n",
            "only showing top 20 rows\n",
            "\n"
          ]
        }
      ]
    },
    {
      "cell_type": "code",
      "source": [
        "dataset = dataset\\\n",
        "          .join(Internet, on='id', how='inner')\\\n",
        "          .join(TipoContrato, on='id', how='inner')\\\n",
        "          .join(MetodoPagamento, on='id', how='inner')\\\n",
        "          .select(\n",
        "              '*',\n",
        "              f.col('DSL').alias('Internet_DSL'),\n",
        "              f.col('FibraOptica').alias('Internet_FibraOptica'),\n",
        "              f.col('Nao').alias('Internet_Nao'),\n",
        "              f.col('Mensalmente').alias('TipoContrato_Mensalmente'),\n",
        "              f.col('UmAno').alias('TipoContrato_UmAno'),\n",
        "              f.col('DoisAnos').alias('MetodoPagamento_DoisAnos'),\n",
        "              f.col('DebitoEmConta').alias('MetodoPagamento_DebitoEmConta'),\n",
        "              f.col('CartaoCredito').alias('MetodoPagamento_CartaoCredito'),\n",
        "              f.col('BoletoEletronico').alias('MetodoPagamento_BoletoEletronico'),\n",
        "              f.col('Boleto').alias('MetodoPagamento_Boleto')\n",
        "          )\\\n",
        "          .drop(\n",
        "              'Internet', 'TipoContrato', 'MetodoPagamento', 'DSL',\n",
        "              'FibraOptica', 'Nao', 'Mensalmente', 'UmAno', 'DoisAnos',\n",
        "              'DebitoEmConta', 'CartaoCredito', 'BoletoEletronico', 'Boleto'\n",
        "          )"
      ],
      "metadata": {
        "id": "Z5cSmXRCvmEC"
      },
      "execution_count": 28,
      "outputs": []
    },
    {
      "cell_type": "code",
      "source": [
        "dataset.show()"
      ],
      "metadata": {
        "id": "zFSSoSTYKY10",
        "colab": {
          "base_uri": "https://localhost:8080/"
        },
        "outputId": "addff436-3192-4af7-a9b1-afe0ef8b5f5f"
      },
      "execution_count": 29,
      "outputs": [
        {
          "output_type": "stream",
          "name": "stdout",
          "text": [
            "+----+----------+---------------+-----------------+-----+-------+-----------+------------+------------------------+---------------+------------+-----------------+--------------+-------+---------------+------------+------------+--------------------+------------+------------------------+------------------+------------------------+-----------------------------+-----------------------------+--------------------------------+----------------------+\n",
            "|  id|Mais65anos|MesesDeContrato|    MesesCobrados|Churn|Conjuge|Dependentes|TelefoneFixo|MaisDeUmaLinhaTelefonica|SegurancaOnline|BackupOnline|SeguroDispositivo|SuporteTecnico|TVaCabo|StreamingFilmes|ContaCorreio|Internet_DSL|Internet_FibraOptica|Internet_Nao|TipoContrato_Mensalmente|TipoContrato_UmAno|MetodoPagamento_DoisAnos|MetodoPagamento_DebitoEmConta|MetodoPagamento_CartaoCredito|MetodoPagamento_BoletoEletronico|MetodoPagamento_Boleto|\n",
            "+----+----------+---------------+-----------------+-----+-------+-----------+------------+------------------------+---------------+------------+-----------------+--------------+-------+---------------+------------+------------+--------------------+------------+------------------------+------------------+------------------------+-----------------------------+-----------------------------+--------------------------------+----------------------+\n",
            "|7982|         0|              1|45.30540797610398|    1|      0|          0|           0|                       0|              0|           0|                0|             0|      1|              1|           1|           1|                   0|           0|                       1|                 0|                       0|                            0|                            0|                               1|                     0|\n",
            "|9465|         0|             60|103.6142230120257|    1|      1|          0|           1|                       1|              0|           1|                1|             0|      1|              1|           1|           0|                   1|           0|                       1|                 0|                       0|                            0|                            0|                               1|                     0|\n",
            "|2122|         0|             12|            75.85|    0|      0|          0|           1|                       1|              0|           0|                0|             1|      1|              1|           1|           1|                   0|           0|                       0|                 1|                       0|                            0|                            0|                               0|                     1|\n",
            "|3997|         0|             69|            61.45|    0|      1|          0|           1|                       0|              0|           1|                0|             0|      0|              1|           1|           1|                   0|           0|                       0|                 0|                       1|                            0|                            1|                               0|                     0|\n",
            "|6654|         0|              7|             86.5|    1|      1|          0|           1|                       1|              0|           0|                0|             0|      1|              0|           1|           0|                   1|           0|                       1|                 0|                       0|                            0|                            0|                               1|                     0|\n",
            "|7880|         0|             14|85.03742670311915|    1|      0|          0|           1|                       1|              0|           0|                0|             0|      0|              1|           1|           0|                   1|           0|                       1|                 0|                       0|                            0|                            0|                               1|                     0|\n",
            "|4519|         0|             57|            109.4|    0|      1|          0|           1|                       1|              0|           1|                1|             1|      1|              1|           1|           0|                   1|           0|                       0|                 1|                       0|                            1|                            0|                               0|                     0|\n",
            "|6466|         0|             18|            74.15|    0|      0|          0|           1|                       1|              0|           0|                0|             0|      0|              0|           0|           0|                   1|           0|                       1|                 0|                       0|                            0|                            0|                               0|                     1|\n",
            "| 496|         0|             28|             60.9|    0|      1|          0|           1|                       0|              1|           1|                0|             1|      0|              0|           0|           1|                   0|           0|                       1|                 0|                       0|                            0|                            0|                               0|                     1|\n",
            "|7833|         0|             46| 80.8824189403559|    1|      1|          0|           1|                       0|              0|           0|                0|             0|      0|              1|           1|           0|                   1|           0|                       1|                 0|                       0|                            0|                            0|                               1|                     0|\n",
            "|1591|         0|             17|             21.1|    0|      0|          0|           1|                       0|              0|           0|                0|             0|      0|              0|           0|           0|                   0|           1|                       1|                 0|                       0|                            0|                            1|                               0|                     0|\n",
            "|2866|         0|             12|             84.6|    0|      0|          0|           1|                       0|              0|           1|                0|             0|      0|              1|           1|           0|                   1|           0|                       1|                 0|                       0|                            0|                            0|                               1|                     0|\n",
            "|8592|         0|              5|82.71735660557214|    1|      1|          0|           1|                       1|              0|           0|                0|             0|      1|              0|           1|           0|                   1|           0|                       1|                 0|                       0|                            0|                            0|                               1|                     0|\n",
            "|1829|         0|              8|            74.85|    0|      0|          0|           1|                       1|              0|           0|                0|             0|      0|              0|           1|           0|                   1|           0|                       1|                 0|                       0|                            0|                            0|                               1|                     0|\n",
            "| 463|         0|              7|             99.8|    1|      0|          0|           1|                       1|              0|           1|                0|             0|      1|              1|           1|           0|                   1|           0|                       1|                 0|                       0|                            0|                            0|                               1|                     0|\n",
            "|4900|         1|             37|             85.7|    1|      1|          0|           1|                       1|              0|           0|                0|             0|      1|              0|           1|           0|                   1|           0|                       1|                 0|                       0|                            0|                            0|                               1|                     0|\n",
            "|4818|         1|             64|             80.3|    0|      1|          0|           1|                       0|              1|           0|                1|             0|      0|              0|           0|           0|                   1|           0|                       0|                 1|                       0|                            0|                            1|                               0|                     0|\n",
            "|7554|         0|              1|50.74303124820026|    1|      0|          0|           1|                       0|              0|           1|                0|             0|      0|              0|           0|           1|                   0|           0|                       1|                 0|                       0|                            0|                            0|                               1|                     0|\n",
            "|1342|         0|              8|             20.0|    0|      0|          0|           1|                       0|              0|           0|                0|             0|      0|              0|           0|           0|                   0|           1|                       0|                 0|                       1|                            0|                            0|                               0|                     1|\n",
            "|5300|         0|              1|            80.05|    1|      1|          1|           1|                       0|              0|           0|                0|             0|      1|              0|           1|           0|                   1|           0|                       1|                 0|                       0|                            0|                            0|                               0|                     1|\n",
            "+----+----------+---------------+-----------------+-----+-------+-----------+------------+------------------------+---------------+------------+-----------------+--------------+-------+---------------+------------+------------+--------------------+------------+------------------------+------------------+------------------------+-----------------------------+-----------------------------+--------------------------------+----------------------+\n",
            "only showing top 20 rows\n",
            "\n"
          ]
        }
      ]
    },
    {
      "cell_type": "code",
      "source": [
        "dataset.printSchema()"
      ],
      "metadata": {
        "id": "dTnCEhhZKYzC",
        "colab": {
          "base_uri": "https://localhost:8080/"
        },
        "outputId": "a14141bf-b78b-46d8-9c85-b1cced3f67bb"
      },
      "execution_count": 30,
      "outputs": [
        {
          "output_type": "stream",
          "name": "stdout",
          "text": [
            "root\n",
            " |-- id: integer (nullable = true)\n",
            " |-- Mais65anos: integer (nullable = true)\n",
            " |-- MesesDeContrato: integer (nullable = true)\n",
            " |-- MesesCobrados: double (nullable = true)\n",
            " |-- Churn: integer (nullable = false)\n",
            " |-- Conjuge: integer (nullable = false)\n",
            " |-- Dependentes: integer (nullable = false)\n",
            " |-- TelefoneFixo: integer (nullable = false)\n",
            " |-- MaisDeUmaLinhaTelefonica: integer (nullable = false)\n",
            " |-- SegurancaOnline: integer (nullable = false)\n",
            " |-- BackupOnline: integer (nullable = false)\n",
            " |-- SeguroDispositivo: integer (nullable = false)\n",
            " |-- SuporteTecnico: integer (nullable = false)\n",
            " |-- TVaCabo: integer (nullable = false)\n",
            " |-- StreamingFilmes: integer (nullable = false)\n",
            " |-- ContaCorreio: integer (nullable = false)\n",
            " |-- Internet_DSL: integer (nullable = true)\n",
            " |-- Internet_FibraOptica: integer (nullable = true)\n",
            " |-- Internet_Nao: integer (nullable = true)\n",
            " |-- TipoContrato_Mensalmente: integer (nullable = true)\n",
            " |-- TipoContrato_UmAno: integer (nullable = true)\n",
            " |-- MetodoPagamento_DoisAnos: integer (nullable = true)\n",
            " |-- MetodoPagamento_DebitoEmConta: integer (nullable = true)\n",
            " |-- MetodoPagamento_CartaoCredito: integer (nullable = true)\n",
            " |-- MetodoPagamento_BoletoEletronico: integer (nullable = true)\n",
            " |-- MetodoPagamento_Boleto: integer (nullable = true)\n",
            "\n"
          ]
        }
      ]
    },
    {
      "cell_type": "markdown",
      "source": [
        "## 2. Criando o Primeiro Modelo  "
      ],
      "metadata": {
        "id": "NXHzQpK3z4b3"
      }
    },
    {
      "cell_type": "markdown",
      "source": [
        "### 2.1. Regressão Logística"
      ],
      "metadata": {
        "id": "zUaCJepj0IEi"
      }
    },
    {
      "cell_type": "markdown",
      "source": [
        "A regressão logística é um método popular para prever uma resposta categórica. É um caso especial de modelos lineares generalizados que prevê a probabilidade dos resultados. Em ``spark.ml``, aregressão logística pode ser usada para prever um resultado binário (dois valores únicos para o target) usando regressão logística binomial ou pode ser usada para prever um resultado multiclasse usando regressão logística multinomial. Use o parâmetro ``family`` para selecionar entre esses dois algoritmos ou deixe-o indefinido e o Spark irá inferir a variante correta.\n",
        "\n",
        "Em nosso curso, vamos trabalhar com a variável categórica do tipo binomial. O intuito desse algoritmo é modelar a probabilidade de uma determinada classe. Para uma variável alvo com as classes 0 e 1, por exemplo, caso a probabilidade de um registro seja maior que um determinado ponto de corte, o modelo classifica esse registro como 1. Caso seja menor, o modelo classifica como 0.\n",
        "\n",
        "Fonte: [MLLib classification and regression](https://spark.apache.org/docs/latest/ml-classification-regression.html) | [Binomial LReg](https://spark.apache.org/docs/latest/ml-classification-regression.html#binomial-logistic-regression) | [Multinomial LReg](https://spark.apache.org/docs/latest/ml-classification-regression.html#multinomial-logistic-regression)\n",
        "\n"
      ],
      "metadata": {
        "id": "lZlbGT-I0PbC"
      }
    },
    {
      "cell_type": "code",
      "source": [
        "dataset.show()"
      ],
      "metadata": {
        "id": "ihE4PcZ9KYwQ",
        "outputId": "0d970b06-d021-4f10-845c-547f637e11aa",
        "colab": {
          "base_uri": "https://localhost:8080/"
        }
      },
      "execution_count": 31,
      "outputs": [
        {
          "output_type": "stream",
          "name": "stdout",
          "text": [
            "+----+----------+---------------+-----------------+-----+-------+-----------+------------+------------------------+---------------+------------+-----------------+--------------+-------+---------------+------------+------------+--------------------+------------+------------------------+------------------+------------------------+-----------------------------+-----------------------------+--------------------------------+----------------------+\n",
            "|  id|Mais65anos|MesesDeContrato|    MesesCobrados|Churn|Conjuge|Dependentes|TelefoneFixo|MaisDeUmaLinhaTelefonica|SegurancaOnline|BackupOnline|SeguroDispositivo|SuporteTecnico|TVaCabo|StreamingFilmes|ContaCorreio|Internet_DSL|Internet_FibraOptica|Internet_Nao|TipoContrato_Mensalmente|TipoContrato_UmAno|MetodoPagamento_DoisAnos|MetodoPagamento_DebitoEmConta|MetodoPagamento_CartaoCredito|MetodoPagamento_BoletoEletronico|MetodoPagamento_Boleto|\n",
            "+----+----------+---------------+-----------------+-----+-------+-----------+------------+------------------------+---------------+------------+-----------------+--------------+-------+---------------+------------+------------+--------------------+------------+------------------------+------------------+------------------------+-----------------------------+-----------------------------+--------------------------------+----------------------+\n",
            "|7982|         0|              1|45.30540797610398|    1|      0|          0|           0|                       0|              0|           0|                0|             0|      1|              1|           1|           1|                   0|           0|                       1|                 0|                       0|                            0|                            0|                               1|                     0|\n",
            "|9465|         0|             60|103.6142230120257|    1|      1|          0|           1|                       1|              0|           1|                1|             0|      1|              1|           1|           0|                   1|           0|                       1|                 0|                       0|                            0|                            0|                               1|                     0|\n",
            "|2122|         0|             12|            75.85|    0|      0|          0|           1|                       1|              0|           0|                0|             1|      1|              1|           1|           1|                   0|           0|                       0|                 1|                       0|                            0|                            0|                               0|                     1|\n",
            "|3997|         0|             69|            61.45|    0|      1|          0|           1|                       0|              0|           1|                0|             0|      0|              1|           1|           1|                   0|           0|                       0|                 0|                       1|                            0|                            1|                               0|                     0|\n",
            "|6654|         0|              7|             86.5|    1|      1|          0|           1|                       1|              0|           0|                0|             0|      1|              0|           1|           0|                   1|           0|                       1|                 0|                       0|                            0|                            0|                               1|                     0|\n",
            "|7880|         0|             14|85.03742670311915|    1|      0|          0|           1|                       1|              0|           0|                0|             0|      0|              1|           1|           0|                   1|           0|                       1|                 0|                       0|                            0|                            0|                               1|                     0|\n",
            "|4519|         0|             57|            109.4|    0|      1|          0|           1|                       1|              0|           1|                1|             1|      1|              1|           1|           0|                   1|           0|                       0|                 1|                       0|                            1|                            0|                               0|                     0|\n",
            "|6466|         0|             18|            74.15|    0|      0|          0|           1|                       1|              0|           0|                0|             0|      0|              0|           0|           0|                   1|           0|                       1|                 0|                       0|                            0|                            0|                               0|                     1|\n",
            "| 496|         0|             28|             60.9|    0|      1|          0|           1|                       0|              1|           1|                0|             1|      0|              0|           0|           1|                   0|           0|                       1|                 0|                       0|                            0|                            0|                               0|                     1|\n",
            "|7833|         0|             46| 80.8824189403559|    1|      1|          0|           1|                       0|              0|           0|                0|             0|      0|              1|           1|           0|                   1|           0|                       1|                 0|                       0|                            0|                            0|                               1|                     0|\n",
            "|1591|         0|             17|             21.1|    0|      0|          0|           1|                       0|              0|           0|                0|             0|      0|              0|           0|           0|                   0|           1|                       1|                 0|                       0|                            0|                            1|                               0|                     0|\n",
            "|2866|         0|             12|             84.6|    0|      0|          0|           1|                       0|              0|           1|                0|             0|      0|              1|           1|           0|                   1|           0|                       1|                 0|                       0|                            0|                            0|                               1|                     0|\n",
            "|8592|         0|              5|82.71735660557214|    1|      1|          0|           1|                       1|              0|           0|                0|             0|      1|              0|           1|           0|                   1|           0|                       1|                 0|                       0|                            0|                            0|                               1|                     0|\n",
            "|1829|         0|              8|            74.85|    0|      0|          0|           1|                       1|              0|           0|                0|             0|      0|              0|           1|           0|                   1|           0|                       1|                 0|                       0|                            0|                            0|                               1|                     0|\n",
            "| 463|         0|              7|             99.8|    1|      0|          0|           1|                       1|              0|           1|                0|             0|      1|              1|           1|           0|                   1|           0|                       1|                 0|                       0|                            0|                            0|                               1|                     0|\n",
            "|4900|         1|             37|             85.7|    1|      1|          0|           1|                       1|              0|           0|                0|             0|      1|              0|           1|           0|                   1|           0|                       1|                 0|                       0|                            0|                            0|                               1|                     0|\n",
            "|4818|         1|             64|             80.3|    0|      1|          0|           1|                       0|              1|           0|                1|             0|      0|              0|           0|           0|                   1|           0|                       0|                 1|                       0|                            0|                            1|                               0|                     0|\n",
            "|7554|         0|              1|50.74303124820026|    1|      0|          0|           1|                       0|              0|           1|                0|             0|      0|              0|           0|           1|                   0|           0|                       1|                 0|                       0|                            0|                            0|                               1|                     0|\n",
            "|1342|         0|              8|             20.0|    0|      0|          0|           1|                       0|              0|           0|                0|             0|      0|              0|           0|           0|                   0|           1|                       0|                 0|                       1|                            0|                            0|                               0|                     1|\n",
            "|5300|         0|              1|            80.05|    1|      1|          1|           1|                       0|              0|           0|                0|             0|      1|              0|           1|           0|                   1|           0|                       1|                 0|                       0|                            0|                            0|                               0|                     1|\n",
            "+----+----------+---------------+-----------------+-----+-------+-----------+------------+------------------------+---------------+------------+-----------------+--------------+-------+---------------+------------+------------+--------------------+------------+------------------------+------------------+------------------------+-----------------------------+-----------------------------+--------------------------------+----------------------+\n",
            "only showing top 20 rows\n",
            "\n"
          ]
        }
      ]
    },
    {
      "cell_type": "markdown",
      "source": [
        "### 2.2. Vector Assembler"
      ],
      "metadata": {
        "id": "u2wQ6MBaco6b"
      }
    },
    {
      "cell_type": "markdown",
      "source": [
        "Apesar de termos preparado nosso dados para entrar em um modelo de machine learning convencional, no pyspark ainda precisamos realizar um passo a mais. Por estar preocupado em utilizar apenas o necessário em seus processamentos, precisamos utilizar uma técnica de **vetorização** para deixar os dados de uma forma que o pyspark consiga entender."
      ],
      "metadata": {
        "id": "7fXHeLrrQP7E"
      }
    },
    {
      "cell_type": "code",
      "source": [
        "from pyspark.ml.feature import VectorAssembler"
      ],
      "metadata": {
        "id": "PiA1i__YKYto"
      },
      "execution_count": 32,
      "outputs": []
    },
    {
      "cell_type": "markdown",
      "source": [
        "Renomeamos a coluna target para **label**:"
      ],
      "metadata": {
        "id": "R2oTwbScQkRz"
      }
    },
    {
      "cell_type": "code",
      "source": [
        "dataset = dataset.withColumnRenamed('Churn', 'label')"
      ],
      "metadata": {
        "id": "efKlYwS1KYqz"
      },
      "execution_count": 33,
      "outputs": []
    },
    {
      "cell_type": "markdown",
      "source": [
        "Criamos um vetor de características $X$"
      ],
      "metadata": {
        "id": "EaUhiQu_Qq8d"
      }
    },
    {
      "cell_type": "code",
      "source": [
        "X = dataset.columns\n",
        "X.remove('label')\n",
        "X.remove('id')"
      ],
      "metadata": {
        "id": "PeY-woLJKYoF"
      },
      "execution_count": 34,
      "outputs": []
    },
    {
      "cell_type": "markdown",
      "source": [
        "Criamos um objeto ``assembler`` que é moldado utilizando o vetor de caracteísticas $X$ e nomeando a coluna output de $features$"
      ],
      "metadata": {
        "id": "HWi73pzZQvY7"
      }
    },
    {
      "cell_type": "code",
      "source": [
        "assembler = VectorAssembler(inputCols=X, outputCol='features')"
      ],
      "metadata": {
        "id": "0EZJx1yqKYlL"
      },
      "execution_count": 35,
      "outputs": []
    },
    {
      "cell_type": "markdown",
      "source": [
        "Aplicamos o modelo ``assembler`` nos nossos dados e selecionamos apenas **features** e **label** do dataset final"
      ],
      "metadata": {
        "id": "Nvkq4l6LQ6Ry"
      }
    },
    {
      "cell_type": "code",
      "source": [
        "dataset_clean = assembler.transform(dataset).select('features', 'label')"
      ],
      "metadata": {
        "id": "LfI2JIBGKYiY"
      },
      "execution_count": 36,
      "outputs": []
    },
    {
      "cell_type": "code",
      "source": [
        "dataset_clean.show(10, truncate=False)"
      ],
      "metadata": {
        "id": "6EYUfyK2KYfk",
        "outputId": "04c22293-dc16-4e74-95c1-f40ac7cadd43",
        "colab": {
          "base_uri": "https://localhost:8080/"
        }
      },
      "execution_count": 37,
      "outputs": [
        {
          "output_type": "stream",
          "name": "stdout",
          "text": [
            "+-----------------------------------------------------------------------------------------------------------+-----+\n",
            "|features                                                                                                   |label|\n",
            "+-----------------------------------------------------------------------------------------------------------+-----+\n",
            "|(24,[1,2,11,12,13,14,17,22],[1.0,45.30540797610398,1.0,1.0,1.0,1.0,1.0,1.0])                               |1    |\n",
            "|(24,[1,2,3,5,6,8,9,11,12,13,15,17,22],[60.0,103.6142230120257,1.0,1.0,1.0,1.0,1.0,1.0,1.0,1.0,1.0,1.0,1.0])|1    |\n",
            "|(24,[1,2,5,6,10,11,12,13,14,18,23],[12.0,75.85,1.0,1.0,1.0,1.0,1.0,1.0,1.0,1.0,1.0])                       |0    |\n",
            "|(24,[1,2,3,5,8,12,13,14,19,21],[69.0,61.45,1.0,1.0,1.0,1.0,1.0,1.0,1.0,1.0])                               |0    |\n",
            "|(24,[1,2,3,5,6,11,13,15,17,22],[7.0,86.5,1.0,1.0,1.0,1.0,1.0,1.0,1.0,1.0])                                 |1    |\n",
            "|(24,[1,2,5,6,12,13,15,17,22],[14.0,85.03742670311915,1.0,1.0,1.0,1.0,1.0,1.0,1.0])                         |1    |\n",
            "|(24,[1,2,3,5,6,8,9,10,11,12,13,15,18,20],[57.0,109.4,1.0,1.0,1.0,1.0,1.0,1.0,1.0,1.0,1.0,1.0,1.0,1.0])     |0    |\n",
            "|(24,[1,2,5,6,15,17,23],[18.0,74.15,1.0,1.0,1.0,1.0,1.0])                                                   |0    |\n",
            "|(24,[1,2,3,5,7,8,10,14,17,23],[28.0,60.9,1.0,1.0,1.0,1.0,1.0,1.0,1.0,1.0])                                 |0    |\n",
            "|(24,[1,2,3,5,12,13,15,17,22],[46.0,80.8824189403559,1.0,1.0,1.0,1.0,1.0,1.0,1.0])                          |1    |\n",
            "+-----------------------------------------------------------------------------------------------------------+-----+\n",
            "only showing top 10 rows\n",
            "\n"
          ]
        }
      ]
    },
    {
      "cell_type": "markdown",
      "source": [
        "### 2.3. Ajuste e Previsão"
      ],
      "metadata": {
        "id": "6hbCsPDIcrfq"
      }
    },
    {
      "cell_type": "code",
      "source": [
        "SEED = 101"
      ],
      "metadata": {
        "id": "1DuYeCVyc8_w"
      },
      "execution_count": 38,
      "outputs": []
    },
    {
      "cell_type": "code",
      "source": [
        "train, test = dataset_clean.randomSplit([0.7, 0.3], seed=SEED)"
      ],
      "metadata": {
        "id": "zgp-iQXAKYc2"
      },
      "execution_count": 39,
      "outputs": []
    },
    {
      "cell_type": "code",
      "source": [
        "print(f'Number of training data: {train.count()}')\n",
        "print(f'Number of test data: {test.count()}')"
      ],
      "metadata": {
        "id": "TQLUaoKRKYZ9",
        "colab": {
          "base_uri": "https://localhost:8080/"
        },
        "outputId": "11d33937-423e-40b0-8cdb-6943eb84cfaa"
      },
      "execution_count": 40,
      "outputs": [
        {
          "output_type": "stream",
          "name": "stdout",
          "text": [
            "Number of training data: 7206\n",
            "Number of test data: 3142\n"
          ]
        }
      ]
    },
    {
      "cell_type": "code",
      "source": [
        "from pyspark.ml.classification import LogisticRegression"
      ],
      "metadata": {
        "id": "MBaHsKAAKYXT"
      },
      "execution_count": 41,
      "outputs": []
    },
    {
      "cell_type": "code",
      "source": [
        "lr_model = LogisticRegression()"
      ],
      "metadata": {
        "id": "O3kATMfUKYUU"
      },
      "execution_count": 42,
      "outputs": []
    },
    {
      "cell_type": "code",
      "source": [
        "fitted_model = lr_model.fit(train)"
      ],
      "metadata": {
        "id": "oQIPEliQeeqP"
      },
      "execution_count": 43,
      "outputs": []
    },
    {
      "cell_type": "code",
      "source": [
        "y_prev = fitted_model.transform(test)"
      ],
      "metadata": {
        "id": "NyAY56cOehSr"
      },
      "execution_count": 44,
      "outputs": []
    },
    {
      "cell_type": "code",
      "source": [
        "y_prev.show(truncate=False)"
      ],
      "metadata": {
        "colab": {
          "base_uri": "https://localhost:8080/"
        },
        "id": "zLW208ZUelqj",
        "outputId": "12954e4c-5b0d-4a3b-9850-2ccd11b982df"
      },
      "execution_count": 45,
      "outputs": [
        {
          "output_type": "stream",
          "name": "stdout",
          "text": [
            "+------------------------------------------------------------------------------------------------------+-----+------------------------------------------+-----------------------------------------+----------+\n",
            "|features                                                                                              |label|rawPrediction                             |probability                              |prediction|\n",
            "+------------------------------------------------------------------------------------------------------+-----+------------------------------------------+-----------------------------------------+----------+\n",
            "|(24,[0,1,2,3,4,5,6,7,9,10,11,14,18,22],[1.0,55.0,76.25,1.0,1.0,1.0,1.0,1.0,1.0,1.0,1.0,1.0,1.0,1.0])  |0    |[3.0217417975155163,-3.0217417975155163]  |[0.9535467400028285,0.04645325999717154] |0.0       |\n",
            "|(24,[0,1,2,3,4,5,6,7,13,15,17,22],[1.0,24.0,79.85,1.0,1.0,1.0,1.0,1.0,1.0,1.0,1.0,1.0])               |0    |[-0.09221929660763595,0.09221929660763595]|[0.47696150091605805,0.523038499083942]  |1.0       |\n",
            "|(24,[0,1,2,3,4,5,6,8,13,15,17,23],[1.0,34.0,79.6,1.0,1.0,1.0,1.0,1.0,1.0,1.0,1.0,1.0])                |1    |[0.1874412171136145,-0.1874412171136145]  |[0.5467235846315606,0.45327641536843943] |0.0       |\n",
            "|(24,[0,1,2,3,4,5,6,9,11,12,13,15,17,21],[1.0,66.0,99.5,1.0,1.0,1.0,1.0,1.0,1.0,1.0,1.0,1.0,1.0,1.0])  |1    |[0.917165012601038,-0.917165012601038]    |[0.714464105491635,0.28553589450836503]  |0.0       |\n",
            "|(24,[0,1,2,3,4,5,6,9,11,13,15,17,23],[1.0,32.0,91.35,1.0,1.0,1.0,1.0,1.0,1.0,1.0,1.0,1.0,1.0])        |0    |[-0.1495904711610051,0.1495904711610051]  |[0.4626719646780127,0.5373280353219874]  |1.0       |\n",
            "|(24,[0,1,2,3,4,5,6,9,13,15,17,21],[1.0,11.0,78.1,1.0,1.0,1.0,1.0,1.0,1.0,1.0,1.0,1.0])                |0    |[-0.16805946192865073,0.16805946192865073]|[0.4580837449400644,0.5419162550599357]  |1.0       |\n",
            "|(24,[0,1,2,3,4,5,6,11,12,13,15,17,22],[1.0,14.0,95.8,1.0,1.0,1.0,1.0,1.0,1.0,1.0,1.0,1.0,1.0])        |0    |[-1.4170949608173151,1.4170949608173151]  |[0.19511740608882694,0.804882593911173]  |1.0       |\n",
            "|(24,[0,1,2,3,4,5,6,11,15,17,20],[1.0,22.0,85.35,1.0,1.0,1.0,1.0,1.0,1.0,1.0,1.0])                     |0    |[0.14194260698794892,-0.14194260698794892]|[0.5354261920088133,0.46457380799118675] |0.0       |\n",
            "|(24,[0,1,2,3,4,5,8,10,11,12,13,14,17,22],[1.0,35.0,76.05,1.0,1.0,1.0,1.0,1.0,1.0,1.0,1.0,1.0,1.0,1.0])|0    |[0.6704664401159954,-0.6704664401159954]  |[0.661607595079055,0.338392404920945]    |0.0       |\n",
            "|(24,[0,1,2,3,4,5,8,11,13,15,18,20],[1.0,47.0,84.95,1.0,1.0,1.0,1.0,1.0,1.0,1.0,1.0,1.0])              |0    |[1.4684103624499945,-1.4684103624499945]  |[0.812815648707279,0.18718435129272104]  |0.0       |\n",
            "|(24,[0,1,2,3,4,5,9,10,11,12,13,15,17,22],[1.0,31.0,98.9,1.0,1.0,1.0,1.0,1.0,1.0,1.0,1.0,1.0,1.0,1.0]) |1    |[-0.21870836053336595,0.21870836053336595]|[0.4455398213839491,0.5544601786160509]  |1.0       |\n",
            "|(24,[0,1,2,3,4,5,13,15,17,22],[1.0,1.0,69.25,1.0,1.0,1.0,1.0,1.0,1.0,1.0])                            |1    |[-1.03425375700674,1.03425375700674]      |[0.2622602561466755,0.7377397438533245]  |1.0       |\n",
            "|(24,[0,1,2,3,4,5,16,19,21],[1.0,71.0,19.8,1.0,1.0,1.0,1.0,1.0,1.0])                                   |0    |[5.5001722775407575,-5.5001722775407575]  |[0.9959305605638056,0.004069439436194422]|0.0       |\n",
            "|(24,[0,1,2,3,4,8,9,13,14,17,23],[1.0,29.0,35.65,1.0,1.0,1.0,1.0,1.0,1.0,1.0,1.0])                     |0    |[0.785126183303689,-0.785126183303689]    |[0.6867838707993971,0.31321612920060293] |0.0       |\n",
            "|(24,[0,1,2,3,4,8,12,13,14,18,22],[1.0,28.0,39.1,1.0,1.0,1.0,1.0,1.0,1.0,1.0,1.0])                     |0    |[0.8464742337326339,-0.8464742337326339]  |[0.6998270099164707,0.30017299008352927] |0.0       |\n",
            "|(24,[0,1,2,3,4,8,14,18,20],[1.0,48.0,29.9,1.0,1.0,1.0,1.0,1.0,1.0])                                   |0    |[2.7189142813287814,-2.7189142813287814]  |[0.9381335496854994,0.061866450314500554]|0.0       |\n",
            "|(24,[0,1,2,3,5,6,7,8,9,10,12,14,19,20],[1.0,72.0,78.45,1.0,1.0,1.0,1.0,1.0,1.0,1.0,1.0,1.0,1.0,1.0])  |0    |[4.4763564049772055,-4.4763564049772055]  |[0.9887531476591956,0.011246852340804359]|0.0       |\n",
            "|(24,[0,1,2,3,5,6,7,8,9,10,13,15,17,21],[1.0,61.0,94.2,1.0,1.0,1.0,1.0,1.0,1.0,1.0,1.0,1.0,1.0,1.0])   |0    |[1.6165033640131674,-1.6165033640131674]  |[0.8343123362806432,0.16568766371935684] |0.0       |\n",
            "|(24,[0,1,2,3,5,6,7,8,9,10,13,15,19,20],[1.0,72.0,93.05,1.0,1.0,1.0,1.0,1.0,1.0,1.0,1.0,1.0,1.0,1.0])  |0    |[3.4453923144855203,-3.4453923144855203]  |[0.9690934321240399,0.030906567875960134]|0.0       |\n",
            "|(24,[0,1,2,3,5,6,7,8,9,10,13,15,19,21],[1.0,71.0,96.35,1.0,1.0,1.0,1.0,1.0,1.0,1.0,1.0,1.0,1.0,1.0])  |0    |[3.4284925173122867,-3.4284925173122867]  |[0.9685832278066496,0.03141677219335037] |0.0       |\n",
            "+------------------------------------------------------------------------------------------------------+-----+------------------------------------------+-----------------------------------------+----------+\n",
            "only showing top 20 rows\n",
            "\n"
          ]
        }
      ]
    },
    {
      "cell_type": "markdown",
      "source": [
        "### 2.4. Métricas"
      ],
      "metadata": {
        "id": "1pPSrlLmmwUt"
      }
    },
    {
      "cell_type": "markdown",
      "source": [
        "#### 2.4.1 Métricas de Treinamento"
      ],
      "metadata": {
        "id": "5UpSHrm5m0lP"
      }
    },
    {
      "cell_type": "code",
      "source": [
        "summary = fitted_model.summary"
      ],
      "metadata": {
        "id": "c9BmFIhZemyS"
      },
      "execution_count": 46,
      "outputs": []
    },
    {
      "cell_type": "code",
      "source": [
        "print(f'Model Accucary: {summary.accuracy}')\n",
        "print(f'Model Precision: {summary.precisionByLabel[1]}')\n",
        "print(f'Model Recall: {summary.recallByLabel[1]}')\n",
        "print(f'Model F1 score: {summary.fMeasureByLabel()[1]}')"
      ],
      "metadata": {
        "colab": {
          "base_uri": "https://localhost:8080/"
        },
        "id": "MrwPkdB5m5bj",
        "outputId": "1a665538-457e-4a74-d9ab-42004e387a52"
      },
      "execution_count": 47,
      "outputs": [
        {
          "output_type": "stream",
          "name": "stdout",
          "text": [
            "Model Accucary: 0.7849014709963918\n",
            "Model Precision: 0.7706855791962175\n",
            "Model Recall: 0.8125173082248685\n",
            "Model F1 score: 0.7910488002156916\n"
          ]
        }
      ]
    },
    {
      "cell_type": "markdown",
      "source": [
        "#### 2.4.2 Métricas de Teste\n",
        "\n",
        "Construiremos do zero uma matriz de confusão para visualizar as métricas anteriores nos dados de teste:"
      ],
      "metadata": {
        "id": "ZgQIlpcNnxY3"
      }
    },
    {
      "cell_type": "code",
      "source": [
        "tn = y_prev.select('label', 'prediction').where((f.col('label') == 0) & (f.col('prediction') == 0)).count()\n",
        "fp = y_prev.select('label', 'prediction').where((f.col('label') == 0) & (f.col('prediction') == 1)).count()\n",
        "fn = y_prev.select('label', 'prediction').where((f.col('label') == 1) & (f.col('prediction') == 0)).count()\n",
        "tp = y_prev.select('label', 'prediction').where((f.col('label') == 1) & (f.col('prediction') == 1)).count()\n"
      ],
      "metadata": {
        "id": "xLS6cGBrm8BK"
      },
      "execution_count": 48,
      "outputs": []
    },
    {
      "cell_type": "code",
      "source": [
        "print(f'True Negatives: {tn}\\nFalse Positives: {fp}\\nFalse Negatives: {fn}\\nTrue Positives: {tp}\\n')"
      ],
      "metadata": {
        "colab": {
          "base_uri": "https://localhost:8080/"
        },
        "id": "UmeHkKHNssvA",
        "outputId": "c1b30bd8-99a2-4f07-b954-2dd0aa4b7e98"
      },
      "execution_count": 49,
      "outputs": [
        {
          "output_type": "stream",
          "name": "stdout",
          "text": [
            "True Negatives: 1179\n",
            "False Positives: 400\n",
            "False Negatives: 307\n",
            "True Positives: 1256\n",
            "\n"
          ]
        }
      ]
    },
    {
      "cell_type": "code",
      "source": [
        "# crio a função que vai receber os dados para serem avaliados\n",
        "def calcula_mostra_metricas(modelo_lr, df_transform_modelo, normalize=False, percentage=True):\n",
        "# os passos para montagem da matriz de confusão são os mesmos da aula\n",
        "  tp = df_transform_modelo.select('label', 'prediction').where((f.col('label') == 1) & (f.col('prediction') == 1)).count()\n",
        "  tn = df_transform_modelo.select('label', 'prediction').where((f.col('label') == 0) & (f.col('prediction') == 0)).count()\n",
        "  fp = df_transform_modelo.select('label', 'prediction').where((f.col('label') == 0) & (f.col('prediction') == 1)).count()\n",
        "  fn = df_transform_modelo.select('label', 'prediction').where((f.col('label') == 1) & (f.col('prediction') == 0)).count()\n",
        "\n",
        "  valorP = 1\n",
        "  valorN = 1\n",
        "\n",
        "  if normalize:\n",
        "    valorP = tp + fn\n",
        "    valorN = fp + tn\n",
        "\n",
        "  if percentage and normalize:\n",
        "    valorP = valorP / 100\n",
        "    valorN = valorN / 100\n",
        "\n",
        "  # ‘s’ será minha string de retorno\n",
        "  # ela vai coletar e montar minha matriz de confusão\n",
        "  # e também os valores de acurácia, precisão, recall e F1-score\n",
        "  s = ''\n",
        "\n",
        "  # construção da minha string da matriz de confusão  \n",
        "  s += ' '*20 + 'Previsto\\n'\n",
        "  s += ' '*15 +  'Churn' + ' '*5 + 'Não-Churn\\n'\n",
        "  s += ' '*4 + 'Churn' + ' '*6 +  str(int(tp/valorP)) + ' '*7 + str(int(fn/valorP)) + '\\n'\n",
        "  s += 'Real\\n'\n",
        "  s += ' '*4 + 'Não-Churn' + ' '*2 + str(int(fp/valorN)) +  ' '*7 + str(int(tn/valorN))  + '\\n'\n",
        "  s += '\\n'\n",
        "\n",
        "  # coleto o resumo das métricas com summary\n",
        "  resumo_lr_treino = modelo_lr.summary\n",
        "\n",
        "  # adiciono os valores de cada métrica a minha string de retorno\n",
        "  s += f'Acurácia: {resumo_lr_treino.accuracy}\\n'\n",
        "  s += f'Precisão: {resumo_lr_treino.precisionByLabel[1]}\\n'\n",
        "  s += f'Recall: {resumo_lr_treino.recallByLabel[1]}\\n'\n",
        "  s += f'F1: {resumo_lr_treino.fMeasureByLabel()[1]}\\n'\n",
        "\n",
        "  return s"
      ],
      "metadata": {
        "id": "qU_up4y-st0A"
      },
      "execution_count": 50,
      "outputs": []
    },
    {
      "cell_type": "code",
      "source": [
        "print(calcula_mostra_metricas(modelo_lr=fitted_model, df_transform_modelo=y_prev))"
      ],
      "metadata": {
        "colab": {
          "base_uri": "https://localhost:8080/"
        },
        "id": "WePo8LAuwn2m",
        "outputId": "1c985643-67e7-47cc-8621-1b3c26d816bc"
      },
      "execution_count": 51,
      "outputs": [
        {
          "output_type": "stream",
          "name": "stdout",
          "text": [
            "                    Previsto\n",
            "               Churn     Não-Churn\n",
            "    Churn      1256       307\n",
            "Real\n",
            "    Não-Churn  400       1179\n",
            "\n",
            "Acurácia: 0.7849014709963918\n",
            "Precisão: 0.7706855791962175\n",
            "Recall: 0.8125173082248685\n",
            "F1: 0.7910488002156916\n",
            "\n"
          ]
        }
      ]
    },
    {
      "cell_type": "markdown",
      "source": [
        "![Distribution](https://miro.medium.com/max/700/1*QZsJvZI0MxFTShJqE78nUQ.png)"
      ],
      "metadata": {
        "id": "1LVxx731zbqt"
      }
    },
    {
      "cell_type": "code",
      "source": [
        "import matplotlib.pyplot as plt\n",
        "from matplotlib import cm"
      ],
      "metadata": {
        "id": "0s48pPj4zuie"
      },
      "execution_count": 52,
      "outputs": []
    },
    {
      "cell_type": "code",
      "source": [
        "fig = plt.figure(figsize=(20, 20))\n",
        "st = fig.suptitle('Distribution of Features', fontsize=20, verticalalignment='center') # plot main title\n",
        "\n",
        "for col, num in zip(raw_data.drop('ID').toPandas().describe().columns, range(1, 20)):\n",
        "  ax = fig.add_subplot(3, 4, num)\n",
        "  ax.hist(raw_data.toPandas()[col])\n",
        "  plt.style.use('dark_background')\n",
        "  plt.grid(False)\n",
        "  plt.xticks(rotation=45, fontsize=20)\n",
        "  plt.yticks(fontsize=15)\n",
        "  plt.title(col.upper(), fontsize=20)\n",
        "plt.tight_layout()\n",
        "st.set_y(0.95) \n",
        "fig.subplots_adjust(top=0.85, hspace=0.4)\n",
        "plt.show()"
      ],
      "metadata": {
        "colab": {
          "base_uri": "https://localhost:8080/",
          "height": 551
        },
        "id": "Re_-1bxCw5wZ",
        "outputId": "3a1bb2c4-238a-4917-8258-ad9929b90967"
      },
      "execution_count": 53,
      "outputs": [
        {
          "output_type": "display_data",
          "data": {
            "text/plain": [
              "<Figure size 1440x1440 with 3 Axes>"
            ],
            "image/png": "[encoded data removed]"
          },
          "metadata": {}
        }
      ]
    },
    {
      "cell_type": "markdown",
      "source": [
        "## 3.0 Árvores de Decisão\n",
        "\n",
        "### 3.1 Sobre o Modelo\n",
        "\n",
        "Árvores de decisão podem ser utilizadas tanto em problemas de classificação quanto em regressão. Conseguem aprender muito bem soluções de problemas multi-classes ou binárias, lidando com features numéricas não normalizadas e categóricas.\n",
        "\n",
        "Fonte: [Decision Tree Classifier](https://spark.apache.org/docs/latest/api/python/reference/api/pyspark.ml.classification.DecisionTreeClassifier.html)"
      ],
      "metadata": {
        "id": "jxilQWFc2Zk2"
      }
    },
    {
      "cell_type": "markdown",
      "source": [
        "Graficamente, a árvore de decisão pode ser representada de forma que cada uma das decisões tomadas no processo possam ser visualizadas. Seus elementos principais são os nós, ramos e folhas. A estrutura da árvore se inicia com um nó inicial, também chamado de raiz. A partir dela são traçadas ramificações, que geram novos nós e o processo se repete para os nós subsequentes até que chegue a uma folha, que se trata de um nó especial que tem a informação da resposta, sendo ela uma categoria ou um valor previsto.\n",
        "\n",
        "Cada ramo representa uma tomada de decisão a partir de um valor ou de uma categoria das variáveis explicativas, dividindo o conjunto de dados em nós que apresentam dados com características cada vez mais similares entre si."
      ],
      "metadata": {
        "id": "IZxiuLft2V7S"
      }
    },
    {
      "cell_type": "markdown",
      "source": [
        "Em cada nó da árvore, uma feature é analisada e separa o restante dos dados de acordo com um \"questionamento\" realizado a respeito daquela determinada feature. A acurácia do modelo é mensurada de forma a considerar o quão pura foi uma divisão dos dados feita pelo algoritmo em um determinado nó.\n",
        "\n",
        "#### 3.1.1 Critério de divisão dos nós\n",
        "\n",
        "Para conseguir identificar qual o melhor momento em que um nó deve ser dividido em dois ou mais subnós, o algoritmo da árvore de decisão considera alguns critérios. Os dois principais critérios de divisão usados nas árvores de decisão são:\n",
        "\n",
        "##### Índice Gini\n",
        "\n",
        "Este índice informa o grau de heterogeneidade dos dados. O objetivo dele é medir a frequência de um elemento aleatório de um nó ser rotulado de maneira incorreta. Em outros termos, esse índice é capaz de medir a impureza de um nó e ele é determinado por meio do seguinte cálculo:\n",
        "\n",
        "![GINI](https://caelum-online-public.s3.amazonaws.com/2276-spark/03/Aula3-img2.png)\n",
        "\n",
        "alt text: Fórmula: Gini é igual a 1 menos somatório de i começando em 1 indo até K de P de i ao quadrado.\n",
        "\n",
        "Onde:\n",
        "\n",
        "pi representa a frequência relativa das classes em cada um dos nós;\n",
        "k é o número de classes.\n",
        "Se o índice Gini for igual a 0, isso indica que o nó é puro. No entanto, se o valor dele se aproxima mais do valor 1, o nó é impuro.\n",
        "\n",
        "#### Entropia\n",
        "A ideia básica da entropia é medir a desordem dos dados de um nó por meio da variável classificadora. Assim como o índice de Gini, ela é utilizada para caracterizar a impureza dos dados e pode ser calculada por meio da seguinte fórmula:\n",
        "\n",
        "![Entropy](https://caelum-online-public.s3.amazonaws.com/2276-spark/03/Aula3-img3.jpg)\n",
        "\n",
        "alt text: Fórmula: Entropia de S, com S entre parênteses, é igual ao somatório de i iniciando em 1 até c de menos p subscrito i vezes o log 2 de p subscrito i.\n",
        "\n",
        "Onde:\n",
        "\n",
        "pi representa a proporção de dados no conjunto de dados (S), pertencentes à classe específica i;\n",
        "c é o número de classes."
      ],
      "metadata": {
        "id": "96pXuyYU4tQb"
      }
    },
    {
      "cell_type": "code",
      "source": [],
      "metadata": {
        "id": "sJlotZZu0aNP"
      },
      "execution_count": 53,
      "outputs": []
    }
  ],
  "metadata": {
    "colab": {
      "collapsed_sections": [],
      "name": "projeto.ipynb",
      "provenance": [],
      "include_colab_link": true
    },
    "kernelspec": {
      "display_name": "Python 3",
      "language": "python",
      "name": "python3"
    },
    "language_info": {
      "codemirror_mode": {
        "name": "ipython",
        "version": 3
      },
      "file_extension": ".py",
      "mimetype": "text/x-python",
      "name": "python",
      "nbconvert_exporter": "python",
      "pygments_lexer": "ipython3",
      "version": "3.8.8"
    }
  },
  "nbformat": 4,
  "nbformat_minor": 0
}