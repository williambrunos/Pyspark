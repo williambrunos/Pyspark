{
  "cells": [
    {
      "cell_type": "markdown",
      "metadata": {
        "id": "view-in-github",
        "colab_type": "text"
      },
      "source": [
        "<a href=\"https://colab.research.google.com/github/williambrunos/Pyspark/blob/main/Classification_with_pyspark/aula1.ipynb\" target=\"_parent\"><img src=\"https://colab.research.google.com/assets/colab-badge.svg\" alt=\"Open In Colab\"/></a>"
      ]
    },
    {
      "cell_type": "markdown",
      "source": [
        "# **Aula 1 - Preparando os Dados**"
      ],
      "metadata": {
        "id": "BwhP2rhUGI_k"
      }
    },
    {
      "cell_type": "markdown",
      "source": [
        "## **1.1 Apresentação**"
      ],
      "metadata": {
        "id": "2GbwQeCXGaaV"
      }
    },
    {
      "cell_type": "markdown",
      "source": [
        "## **1.2 Preparando o Ambiente**\n",
        "\n",
        "### PySpark\n",
        "\n",
        "PySpark é uma interface para Apache Spark em Python. Ele não apenas permite que você escreva aplicativos Spark usando APIs Python, mas também fornece o *shell* PySpark para analisar interativamente seus dados em um ambiente distribuído. O PySpark oferece suporte à maioria dos recursos do Spark, como Spark SQL, DataFrame, Streaming, MLlib (Machine Learning) e Spark Core.\n",
        "\n",
        "<center><img src=\"https://caelum-online-public.s3.amazonaws.com/2273-introducao-spark/01/img-001.png\"/></center>\n",
        "\n",
        "#### **Spark SQL e DataFrame**\n",
        "\n",
        "Spark SQL é um módulo Spark para processamento de dados estruturados. Ele fornece uma abstração de programação chamada DataFrame e também pode atuar como mecanismo de consulta SQL distribuído.\n",
        "\n",
        "#### **Spark Streaming**\n",
        "\n",
        "Executando em cima do Spark, o recurso de *streaming* no Apache Spark possibilita o uso de poderosas aplicações interativas e analíticas em *streaming* e dados históricos, enquanto herda a facilidade de uso do Spark e as características de tolerância a falhas.\n",
        "\n",
        "#### **Spark MLlib**\n",
        "\n",
        "Construído sobre o Spark, MLlib é uma biblioteca de aprendizado de máquina escalonável que fornece um conjunto uniforme de APIs de alto nível que ajudam os usuários a criar e ajustar *pipelines* de aprendizado de máquina práticos.\n",
        "\n",
        "#### **Spark Core**\n",
        "\n",
        "Spark Core é o mecanismo de execução geral subjacente para a plataforma Spark sobre o qual todas as outras funcionalidades são construídas. Ele fornece um RDD (*Resilient Distributed Dataset*) e recursos de computação na memória.\n",
        "\n",
        "<font size=2>**Fonte:** [PySpark](https://spark.apache.org/docs/latest/api/python/index.html)</font>"
      ],
      "metadata": {
        "id": "BAWE5PSLMmSX"
      }
    },
    {
      "cell_type": "code",
      "source": [
        "!pip install pyspark"
      ],
      "metadata": {
        "colab": {
          "base_uri": "https://localhost:8080/"
        },
        "id": "4Gs-5LKuvWmE",
        "outputId": "4ffb4978-d596-485e-f995-9f5908410e52"
      },
      "execution_count": 74,
      "outputs": [
        {
          "output_type": "stream",
          "name": "stdout",
          "text": [
            "Looking in indexes: https://pypi.org/simple, https://us-python.pkg.dev/colab-wheels/public/simple/\n",
            "Requirement already satisfied: pyspark in /usr/local/lib/python3.7/dist-packages (3.3.0)\n",
            "Requirement already satisfied: py4j==0.10.9.5 in /usr/local/lib/python3.7/dist-packages (from pyspark) (0.10.9.5)\n"
          ]
        }
      ]
    },
    {
      "cell_type": "markdown",
      "source": [
        "### SparkSession\n",
        "\n",
        "O ponto de entrada para programar o Spark com a API Dataset e DataFrame.\n",
        "\n",
        "Uma SparkSession pode ser utilizada para criar DataFrames, registrar DataFrames como tabelas, executar consultas SQL em tabelas, armazenar em cache e ler arquivos parquet. Para criar uma SparkSession, use o seguinte padrão de construtor:\n",
        "\n",
        "<font size=2>**Fonte:** [SparkSession](https://spark.apache.org/docs/latest/api/python/reference/api/pyspark.sql.SparkSession.html)</font>"
      ],
      "metadata": {
        "id": "43dP4NVZOEI2"
      }
    },
    {
      "cell_type": "code",
      "source": [
        "from pyspark.sql import SparkSession"
      ],
      "metadata": {
        "id": "1_WixBVIvvB-"
      },
      "execution_count": 75,
      "outputs": []
    },
    {
      "cell_type": "markdown",
      "source": [
        "Criamos uma seção pyspark com SparkSession utilizando\n",
        "o argumento **local[*]** para indicar que o ambiente local\n",
        "será o responsável por se comunicar com o ambiente spark"
      ],
      "metadata": {
        "id": "9QHzjeozXkbj"
      }
    },
    {
      "cell_type": "code",
      "source": [
        "spark = SparkSession.builder.master('local[*]')\\\n",
        "                           .appName('Classification with pyspark')\\\n",
        "                           .getOrCreate()"
      ],
      "metadata": {
        "id": "H02jOAtLOpQY"
      },
      "execution_count": 76,
      "outputs": []
    },
    {
      "cell_type": "markdown",
      "source": [
        "Se estivéssemos de fato em um ambiente local, poderíamos ver o processamento dos dados por meio da **Spark UI**"
      ],
      "metadata": {
        "id": "x6fgJuWEX0XN"
      }
    },
    {
      "cell_type": "code",
      "source": [
        "spark"
      ],
      "metadata": {
        "colab": {
          "base_uri": "https://localhost:8080/",
          "height": 219
        },
        "id": "VBu1NXKoXxVA",
        "outputId": "cc8ca1bb-2eff-491b-c897-4eb022460755"
      },
      "execution_count": 77,
      "outputs": [
        {
          "output_type": "execute_result",
          "data": {
            "text/plain": [
              "<pyspark.sql.session.SparkSession at 0x7f9169559610>"
            ],
            "text/html": [
              "\n",
              "            <div>\n",
              "                <p><b>SparkSession - in-memory</b></p>\n",
              "                \n",
              "        <div>\n",
              "            <p><b>SparkContext</b></p>\n",
              "\n",
              "            <p><a href=\"http://e916d03becea:4040\">Spark UI</a></p>\n",
              "\n",
              "            <dl>\n",
              "              <dt>Version</dt>\n",
              "                <dd><code>v3.3.0</code></dd>\n",
              "              <dt>Master</dt>\n",
              "                <dd><code>local[*]</code></dd>\n",
              "              <dt>AppName</dt>\n",
              "                <dd><code>Classification with pyspark</code></dd>\n",
              "            </dl>\n",
              "        </div>\n",
              "        \n",
              "            </div>\n",
              "        "
            ]
          },
          "metadata": {},
          "execution_count": 77
        }
      ]
    },
    {
      "cell_type": "markdown",
      "source": [
        "## **1.3 Carregamento dos Dados**"
      ],
      "metadata": {
        "id": "BOQSXCsB-XJ4"
      }
    },
    {
      "cell_type": "code",
      "source": [
        "from pyspark.sql.types import *"
      ],
      "metadata": {
        "id": "znKhe4ldiM-Q"
      },
      "execution_count": 78,
      "outputs": []
    },
    {
      "cell_type": "code",
      "source": [
        "raw_data = spark.read.csv('./dados_clientes.csv', \n",
        "                         sep=',', \n",
        "                         header=True, \n",
        "                         inferSchema=True)"
      ],
      "metadata": {
        "id": "iIjhbXvgPMSy"
      },
      "execution_count": 79,
      "outputs": []
    },
    {
      "cell_type": "code",
      "source": [
        "raw_data.show(5)"
      ],
      "metadata": {
        "id": "bItkwybT-BOG",
        "colab": {
          "base_uri": "https://localhost:8080/"
        },
        "outputId": "65c8b115-f471-49b9-bb24-3c32452d1f92"
      },
      "execution_count": 80,
      "outputs": [
        {
          "output_type": "stream",
          "name": "stdout",
          "text": [
            "+---+-----+----------+-------+-----------+---------------+------------+------------------------+-----------+---------------+------------+-----------------+--------------+-------+---------------+------------+------------+----------------+-------------+\n",
            "| id|Churn|Mais65anos|Conjuge|Dependentes|MesesDeContrato|TelefoneFixo|MaisDeUmaLinhaTelefonica|   Internet|SegurancaOnline|BackupOnline|SeguroDispositivo|SuporteTecnico|TVaCabo|StreamingFilmes|TipoContrato|ContaCorreio| MetodoPagamento|MesesCobrados|\n",
            "+---+-----+----------+-------+-----------+---------------+------------+------------------------+-----------+---------------+------------+-----------------+--------------+-------+---------------+------------+------------+----------------+-------------+\n",
            "|  0|  Nao|         0|    Sim|        Nao|              1|         Nao|    SemServicoTelefonico|        DSL|            Nao|         Sim|              Nao|           Nao|    Nao|            Nao| Mensalmente|         Sim|BoletoEletronico|        29.85|\n",
            "|  1|  Nao|         0|    Nao|        Nao|             34|         Sim|                     Nao|        DSL|            Sim|         Nao|              Sim|           Nao|    Nao|            Nao|       UmAno|         Nao|          Boleto|        56.95|\n",
            "|  2|  Sim|         0|    Nao|        Nao|              2|         Sim|                     Nao|        DSL|            Sim|         Sim|              Nao|           Nao|    Nao|            Nao| Mensalmente|         Sim|          Boleto|        53.85|\n",
            "|  3|  Nao|         0|    Nao|        Nao|             45|         Nao|    SemServicoTelefonico|        DSL|            Sim|         Nao|              Sim|           Sim|    Nao|            Nao|       UmAno|         Nao|   DebitoEmConta|         42.3|\n",
            "|  4|  Sim|         0|    Nao|        Nao|              2|         Sim|                     Nao|FibraOptica|            Nao|         Nao|              Nao|           Nao|    Nao|            Nao| Mensalmente|         Sim|BoletoEletronico|         70.7|\n",
            "+---+-----+----------+-------+-----------+---------------+------------+------------------------+-----------+---------------+------------+-----------------+--------------+-------+---------------+------------+------------+----------------+-------------+\n",
            "only showing top 5 rows\n",
            "\n"
          ]
        }
      ]
    },
    {
      "cell_type": "markdown",
      "source": [
        "Utilizando a função **printSchema**, podemos perceber que a maioria das colunas possui o tipo *string*, o que virá a ser problemático quando utilizarmos modelos de machine learning:"
      ],
      "metadata": {
        "id": "7Qv9W4WLZ3S1"
      }
    },
    {
      "cell_type": "code",
      "source": [
        "raw_data.printSchema()"
      ],
      "metadata": {
        "id": "WMx7nLWW-BIV",
        "colab": {
          "base_uri": "https://localhost:8080/"
        },
        "outputId": "f0494435-24dc-4355-bcd0-7845dcec9c18"
      },
      "execution_count": 81,
      "outputs": [
        {
          "output_type": "stream",
          "name": "stdout",
          "text": [
            "root\n",
            " |-- id: integer (nullable = true)\n",
            " |-- Churn: string (nullable = true)\n",
            " |-- Mais65anos: integer (nullable = true)\n",
            " |-- Conjuge: string (nullable = true)\n",
            " |-- Dependentes: string (nullable = true)\n",
            " |-- MesesDeContrato: integer (nullable = true)\n",
            " |-- TelefoneFixo: string (nullable = true)\n",
            " |-- MaisDeUmaLinhaTelefonica: string (nullable = true)\n",
            " |-- Internet: string (nullable = true)\n",
            " |-- SegurancaOnline: string (nullable = true)\n",
            " |-- BackupOnline: string (nullable = true)\n",
            " |-- SeguroDispositivo: string (nullable = true)\n",
            " |-- SuporteTecnico: string (nullable = true)\n",
            " |-- TVaCabo: string (nullable = true)\n",
            " |-- StreamingFilmes: string (nullable = true)\n",
            " |-- TipoContrato: string (nullable = true)\n",
            " |-- ContaCorreio: string (nullable = true)\n",
            " |-- MetodoPagamento: string (nullable = true)\n",
            " |-- MesesCobrados: double (nullable = true)\n",
            "\n"
          ]
        }
      ]
    },
    {
      "cell_type": "markdown",
      "source": [
        "Quantidade de dados:"
      ],
      "metadata": {
        "id": "C4L5YdPuZpFo"
      }
    },
    {
      "cell_type": "code",
      "source": [
        "print(f'{raw_data.count()} data')"
      ],
      "metadata": {
        "id": "DyXF17Oo-BCw",
        "colab": {
          "base_uri": "https://localhost:8080/"
        },
        "outputId": "018c86d4-3c59-4014-d86d-70f1b8d2f14a"
      },
      "execution_count": 82,
      "outputs": [
        {
          "output_type": "stream",
          "name": "stdout",
          "text": [
            "10348 data\n"
          ]
        }
      ]
    },
    {
      "cell_type": "markdown",
      "source": [
        "Verificação do balanceamento das classes da variável **CHURN**"
      ],
      "metadata": {
        "id": "L7ltn3HrZqpC"
      }
    },
    {
      "cell_type": "code",
      "source": [
        "raw_data.groupBy('Churn').count().show()"
      ],
      "metadata": {
        "id": "wOXJOUgGpi9z",
        "colab": {
          "base_uri": "https://localhost:8080/"
        },
        "outputId": "6b3fdf05-047e-48f0-a93e-4efd79a4f17c"
      },
      "execution_count": 83,
      "outputs": [
        {
          "output_type": "stream",
          "name": "stdout",
          "text": [
            "+-----+-----+\n",
            "|Churn|count|\n",
            "+-----+-----+\n",
            "|  Sim| 5174|\n",
            "|  Nao| 5174|\n",
            "+-----+-----+\n",
            "\n"
          ]
        }
      ]
    },
    {
      "cell_type": "markdown",
      "source": [
        "## **1.4 Transformando os Dados**\n",
        "\n",
        "<font size=2>**Fonte:** [Functions](https://spark.apache.org/docs/latest/api/python/reference/pyspark.sql.html#functions)</font>"
      ],
      "metadata": {
        "id": "blFAMaSBVV2u"
      }
    },
    {
      "cell_type": "markdown",
      "source": [
        "Primeiramente, façamos o reposisionamento de valores \"Sim\" e \"Não\" por valores numéricos 1 e 0, respectivamente. Para isto, precisamos identificar as colunas com realizações binárias."
      ],
      "metadata": {
        "id": "NEuZhQrzbFz-"
      }
    },
    {
      "cell_type": "markdown",
      "source": [
        "Identificamos as colunas que possuem o tipo string dos seus dados:"
      ],
      "metadata": {
        "id": "sNleCbzOjUn3"
      }
    },
    {
      "cell_type": "code",
      "source": [
        "string_columns = [f.name for f in raw_data.schema.fields if isinstance(f.dataType, StringType)]\n",
        "string_columns"
      ],
      "metadata": {
        "colab": {
          "base_uri": "https://localhost:8080/"
        },
        "id": "uItYMtZ0iQpV",
        "outputId": "ad069fde-81cf-4f29-d8c2-5c7fe94c4efa"
      },
      "execution_count": 84,
      "outputs": [
        {
          "output_type": "execute_result",
          "data": {
            "text/plain": [
              "['Churn',\n",
              " 'Conjuge',\n",
              " 'Dependentes',\n",
              " 'TelefoneFixo',\n",
              " 'MaisDeUmaLinhaTelefonica',\n",
              " 'Internet',\n",
              " 'SegurancaOnline',\n",
              " 'BackupOnline',\n",
              " 'SeguroDispositivo',\n",
              " 'SuporteTecnico',\n",
              " 'TVaCabo',\n",
              " 'StreamingFilmes',\n",
              " 'TipoContrato',\n",
              " 'ContaCorreio',\n",
              " 'MetodoPagamento']"
            ]
          },
          "metadata": {},
          "execution_count": 84
        }
      ]
    },
    {
      "cell_type": "markdown",
      "source": [
        "Iteramos por estas colunas e identificamos quais possuem apenas dois valores únicos, ou três valores únicos mas sendo um deles considerado como valor falso:"
      ],
      "metadata": {
        "id": "2wWClsz4jZPv"
      }
    },
    {
      "cell_type": "code",
      "source": [
        "for str_col in string_columns:\n",
        "  print(raw_data.select(str_col).distinct().show())"
      ],
      "metadata": {
        "colab": {
          "base_uri": "https://localhost:8080/"
        },
        "id": "9Tf9NZ67iSLm",
        "outputId": "affaebca-2bca-4a04-89a1-39cfcbbe4947"
      },
      "execution_count": 85,
      "outputs": [
        {
          "output_type": "stream",
          "name": "stdout",
          "text": [
            "+-----+\n",
            "|Churn|\n",
            "+-----+\n",
            "|  Sim|\n",
            "|  Nao|\n",
            "+-----+\n",
            "\n",
            "None\n",
            "+-------+\n",
            "|Conjuge|\n",
            "+-------+\n",
            "|    Sim|\n",
            "|    Nao|\n",
            "+-------+\n",
            "\n",
            "None\n",
            "+-----------+\n",
            "|Dependentes|\n",
            "+-----------+\n",
            "|        Sim|\n",
            "|        Nao|\n",
            "+-----------+\n",
            "\n",
            "None\n",
            "+------------+\n",
            "|TelefoneFixo|\n",
            "+------------+\n",
            "|         Sim|\n",
            "|         Nao|\n",
            "+------------+\n",
            "\n",
            "None\n",
            "+------------------------+\n",
            "|MaisDeUmaLinhaTelefonica|\n",
            "+------------------------+\n",
            "|                     Sim|\n",
            "|                     Nao|\n",
            "|    SemServicoTelefonico|\n",
            "+------------------------+\n",
            "\n",
            "None\n",
            "+-----------+\n",
            "|   Internet|\n",
            "+-----------+\n",
            "|FibraOptica|\n",
            "|        Nao|\n",
            "|        DSL|\n",
            "+-----------+\n",
            "\n",
            "None\n",
            "+------------------+\n",
            "|   SegurancaOnline|\n",
            "+------------------+\n",
            "|SemServicoInternet|\n",
            "|               Sim|\n",
            "|               Nao|\n",
            "+------------------+\n",
            "\n",
            "None\n",
            "+------------------+\n",
            "|      BackupOnline|\n",
            "+------------------+\n",
            "|SemServicoInternet|\n",
            "|               Sim|\n",
            "|               Nao|\n",
            "+------------------+\n",
            "\n",
            "None\n",
            "+------------------+\n",
            "| SeguroDispositivo|\n",
            "+------------------+\n",
            "|SemServicoInternet|\n",
            "|               Sim|\n",
            "|               Nao|\n",
            "+------------------+\n",
            "\n",
            "None\n",
            "+------------------+\n",
            "|    SuporteTecnico|\n",
            "+------------------+\n",
            "|SemServicoInternet|\n",
            "|               Sim|\n",
            "|               Nao|\n",
            "+------------------+\n",
            "\n",
            "None\n",
            "+------------------+\n",
            "|           TVaCabo|\n",
            "+------------------+\n",
            "|SemServicoInternet|\n",
            "|               Sim|\n",
            "|               Nao|\n",
            "+------------------+\n",
            "\n",
            "None\n",
            "+------------------+\n",
            "|   StreamingFilmes|\n",
            "+------------------+\n",
            "|SemServicoInternet|\n",
            "|               Sim|\n",
            "|               Nao|\n",
            "+------------------+\n",
            "\n",
            "None\n",
            "+------------+\n",
            "|TipoContrato|\n",
            "+------------+\n",
            "|       UmAno|\n",
            "| Mensalmente|\n",
            "|    DoisAnos|\n",
            "+------------+\n",
            "\n",
            "None\n",
            "+------------+\n",
            "|ContaCorreio|\n",
            "+------------+\n",
            "|         Sim|\n",
            "|         Nao|\n",
            "+------------+\n",
            "\n",
            "None\n",
            "+----------------+\n",
            "| MetodoPagamento|\n",
            "+----------------+\n",
            "|BoletoEletronico|\n",
            "|   CartaoCredito|\n",
            "|   DebitoEmConta|\n",
            "|          Boleto|\n",
            "+----------------+\n",
            "\n",
            "None\n"
          ]
        }
      ]
    },
    {
      "cell_type": "markdown",
      "source": [
        "Colunas consideradas binárias:"
      ],
      "metadata": {
        "id": "g6yTbH9SjkYr"
      }
    },
    {
      "cell_type": "code",
      "source": [
        "binary_columns = [\n",
        "    'Churn',\n",
        "    'Conjuge',\n",
        "    'Dependentes',\n",
        "    'TelefoneFixo',\n",
        "    'MaisDeUmaLinhaTelefonica',\n",
        "    'SegurancaOnline',\n",
        "    'BackupOnline',\n",
        "    'SeguroDispositivo',\n",
        "    'SuporteTecnico',\n",
        "    'TVaCabo',\n",
        "    'StreamingFilmes',\n",
        "    'ContaCorreio'\n",
        "]"
      ],
      "metadata": {
        "id": "mTav14ezr0Uf"
      },
      "execution_count": 86,
      "outputs": []
    },
    {
      "cell_type": "markdown",
      "source": [
        "Importamos a biblioteca de funções do pyspark:"
      ],
      "metadata": {
        "id": "4SKqxs7adRLe"
      }
    },
    {
      "cell_type": "code",
      "source": [
        "from pyspark.sql import functions as f"
      ],
      "metadata": {
        "id": "XMCXJ0fbb2WI"
      },
      "execution_count": 87,
      "outputs": []
    },
    {
      "cell_type": "code",
      "source": [
        "f.when?"
      ],
      "metadata": {
        "id": "fCitT1gIcb-g"
      },
      "execution_count": 88,
      "outputs": []
    },
    {
      "cell_type": "markdown",
      "source": [
        "Criamos uma lista de colunas com regras no estilo:\n",
        "\n",
        "\n",
        "```SQL\n",
        "CASE WHEN\n",
        "```\n",
        "\n",
        "aplicadas as nossas colunas binárias.\n",
        "\n"
      ],
      "metadata": {
        "id": "gDQ6-6xudUbS"
      }
    },
    {
      "cell_type": "code",
      "source": [
        "all_columns = [f.when(f.col(c) == 'Sim', 1).otherwise(0).alias(c) for c in binary_columns]"
      ],
      "metadata": {
        "id": "DokzQv2rsnbC"
      },
      "execution_count": 89,
      "outputs": []
    },
    {
      "cell_type": "code",
      "source": [
        "all_columns"
      ],
      "metadata": {
        "id": "sqW_vtly9rw0",
        "colab": {
          "base_uri": "https://localhost:8080/"
        },
        "outputId": "a3d83099-f9b6-4f0c-85cf-af3fd7d09bbc"
      },
      "execution_count": 90,
      "outputs": [
        {
          "output_type": "execute_result",
          "data": {
            "text/plain": [
              "[Column<'CASE WHEN (Churn = Sim) THEN 1 ELSE 0 END AS Churn'>,\n",
              " Column<'CASE WHEN (Conjuge = Sim) THEN 1 ELSE 0 END AS Conjuge'>,\n",
              " Column<'CASE WHEN (Dependentes = Sim) THEN 1 ELSE 0 END AS Dependentes'>,\n",
              " Column<'CASE WHEN (TelefoneFixo = Sim) THEN 1 ELSE 0 END AS TelefoneFixo'>,\n",
              " Column<'CASE WHEN (MaisDeUmaLinhaTelefonica = Sim) THEN 1 ELSE 0 END AS MaisDeUmaLinhaTelefonica'>,\n",
              " Column<'CASE WHEN (SegurancaOnline = Sim) THEN 1 ELSE 0 END AS SegurancaOnline'>,\n",
              " Column<'CASE WHEN (BackupOnline = Sim) THEN 1 ELSE 0 END AS BackupOnline'>,\n",
              " Column<'CASE WHEN (SeguroDispositivo = Sim) THEN 1 ELSE 0 END AS SeguroDispositivo'>,\n",
              " Column<'CASE WHEN (SuporteTecnico = Sim) THEN 1 ELSE 0 END AS SuporteTecnico'>,\n",
              " Column<'CASE WHEN (TVaCabo = Sim) THEN 1 ELSE 0 END AS TVaCabo'>,\n",
              " Column<'CASE WHEN (StreamingFilmes = Sim) THEN 1 ELSE 0 END AS StreamingFilmes'>,\n",
              " Column<'CASE WHEN (ContaCorreio = Sim) THEN 1 ELSE 0 END AS ContaCorreio'>]"
            ]
          },
          "metadata": {},
          "execution_count": 90
        }
      ]
    },
    {
      "cell_type": "markdown",
      "source": [
        "Incluindo as colunas transformadas em uma lista contendo todas as colunas dos dados:"
      ],
      "metadata": {
        "id": "iGlY0MJkduS2"
      }
    },
    {
      "cell_type": "code",
      "source": [
        "for column in reversed(raw_data.columns):\n",
        "  if column not in binary_columns:\n",
        "    all_columns.insert(0, column)\n",
        "all_columns"
      ],
      "metadata": {
        "id": "lhAyVrcFmKYT",
        "colab": {
          "base_uri": "https://localhost:8080/"
        },
        "outputId": "a046e187-33ba-487b-ec2b-d5e5a6732d5f"
      },
      "execution_count": 91,
      "outputs": [
        {
          "output_type": "execute_result",
          "data": {
            "text/plain": [
              "['id',\n",
              " 'Mais65anos',\n",
              " 'MesesDeContrato',\n",
              " 'Internet',\n",
              " 'TipoContrato',\n",
              " 'MetodoPagamento',\n",
              " 'MesesCobrados',\n",
              " Column<'CASE WHEN (Churn = Sim) THEN 1 ELSE 0 END AS Churn'>,\n",
              " Column<'CASE WHEN (Conjuge = Sim) THEN 1 ELSE 0 END AS Conjuge'>,\n",
              " Column<'CASE WHEN (Dependentes = Sim) THEN 1 ELSE 0 END AS Dependentes'>,\n",
              " Column<'CASE WHEN (TelefoneFixo = Sim) THEN 1 ELSE 0 END AS TelefoneFixo'>,\n",
              " Column<'CASE WHEN (MaisDeUmaLinhaTelefonica = Sim) THEN 1 ELSE 0 END AS MaisDeUmaLinhaTelefonica'>,\n",
              " Column<'CASE WHEN (SegurancaOnline = Sim) THEN 1 ELSE 0 END AS SegurancaOnline'>,\n",
              " Column<'CASE WHEN (BackupOnline = Sim) THEN 1 ELSE 0 END AS BackupOnline'>,\n",
              " Column<'CASE WHEN (SeguroDispositivo = Sim) THEN 1 ELSE 0 END AS SeguroDispositivo'>,\n",
              " Column<'CASE WHEN (SuporteTecnico = Sim) THEN 1 ELSE 0 END AS SuporteTecnico'>,\n",
              " Column<'CASE WHEN (TVaCabo = Sim) THEN 1 ELSE 0 END AS TVaCabo'>,\n",
              " Column<'CASE WHEN (StreamingFilmes = Sim) THEN 1 ELSE 0 END AS StreamingFilmes'>,\n",
              " Column<'CASE WHEN (ContaCorreio = Sim) THEN 1 ELSE 0 END AS ContaCorreio'>]"
            ]
          },
          "metadata": {},
          "execution_count": 91
        }
      ]
    },
    {
      "cell_type": "markdown",
      "source": [
        "Perceba que agora conseguimos binarizar as colunas de dados utilizando um simples select:"
      ],
      "metadata": {
        "id": "wxl1vr5gd_5G"
      }
    },
    {
      "cell_type": "code",
      "source": [
        "raw_data.select(all_columns).show()"
      ],
      "metadata": {
        "id": "Mhp-2cRy70mI",
        "colab": {
          "base_uri": "https://localhost:8080/"
        },
        "outputId": "f22012fa-c1c9-4ae8-a7c7-ce34fe090c71"
      },
      "execution_count": 92,
      "outputs": [
        {
          "output_type": "stream",
          "name": "stdout",
          "text": [
            "+---+----------+---------------+-----------+------------+----------------+-------------+-----+-------+-----------+------------+------------------------+---------------+------------+-----------------+--------------+-------+---------------+------------+\n",
            "| id|Mais65anos|MesesDeContrato|   Internet|TipoContrato| MetodoPagamento|MesesCobrados|Churn|Conjuge|Dependentes|TelefoneFixo|MaisDeUmaLinhaTelefonica|SegurancaOnline|BackupOnline|SeguroDispositivo|SuporteTecnico|TVaCabo|StreamingFilmes|ContaCorreio|\n",
            "+---+----------+---------------+-----------+------------+----------------+-------------+-----+-------+-----------+------------+------------------------+---------------+------------+-----------------+--------------+-------+---------------+------------+\n",
            "|  0|         0|              1|        DSL| Mensalmente|BoletoEletronico|        29.85|    0|      1|          0|           0|                       0|              0|           1|                0|             0|      0|              0|           1|\n",
            "|  1|         0|             34|        DSL|       UmAno|          Boleto|        56.95|    0|      0|          0|           1|                       0|              1|           0|                1|             0|      0|              0|           0|\n",
            "|  2|         0|              2|        DSL| Mensalmente|          Boleto|        53.85|    1|      0|          0|           1|                       0|              1|           1|                0|             0|      0|              0|           1|\n",
            "|  3|         0|             45|        DSL|       UmAno|   DebitoEmConta|         42.3|    0|      0|          0|           0|                       0|              1|           0|                1|             1|      0|              0|           0|\n",
            "|  4|         0|              2|FibraOptica| Mensalmente|BoletoEletronico|         70.7|    1|      0|          0|           1|                       0|              0|           0|                0|             0|      0|              0|           1|\n",
            "|  5|         0|              8|FibraOptica| Mensalmente|BoletoEletronico|        99.65|    1|      0|          0|           1|                       1|              0|           0|                1|             0|      1|              1|           1|\n",
            "|  6|         0|             22|FibraOptica| Mensalmente|   CartaoCredito|         89.1|    0|      0|          1|           1|                       1|              0|           1|                0|             0|      1|              0|           1|\n",
            "|  7|         0|             10|        DSL| Mensalmente|          Boleto|        29.75|    0|      0|          0|           0|                       0|              1|           0|                0|             0|      0|              0|           0|\n",
            "|  8|         0|             28|FibraOptica| Mensalmente|BoletoEletronico|        104.8|    1|      1|          0|           1|                       1|              0|           0|                1|             1|      1|              1|           1|\n",
            "|  9|         0|             62|        DSL|       UmAno|   DebitoEmConta|        56.15|    0|      0|          1|           1|                       0|              1|           1|                0|             0|      0|              0|           0|\n",
            "| 10|         0|             13|        DSL| Mensalmente|          Boleto|        49.95|    0|      1|          1|           1|                       0|              1|           0|                0|             0|      0|              0|           1|\n",
            "| 11|         0|             16|        Nao|    DoisAnos|   CartaoCredito|        18.95|    0|      0|          0|           1|                       0|              0|           0|                0|             0|      0|              0|           0|\n",
            "| 12|         0|             58|FibraOptica|       UmAno|   CartaoCredito|       100.35|    0|      1|          0|           1|                       1|              0|           0|                1|             0|      1|              1|           0|\n",
            "| 13|         0|             49|FibraOptica| Mensalmente|   DebitoEmConta|        103.7|    1|      0|          0|           1|                       1|              0|           1|                1|             0|      1|              1|           1|\n",
            "| 14|         0|             25|FibraOptica| Mensalmente|BoletoEletronico|        105.5|    0|      0|          0|           1|                       0|              1|           0|                1|             1|      1|              1|           1|\n",
            "| 15|         0|             69|FibraOptica|    DoisAnos|   CartaoCredito|       113.25|    0|      1|          1|           1|                       1|              1|           1|                1|             1|      1|              1|           0|\n",
            "| 16|         0|             52|        Nao|       UmAno|          Boleto|        20.65|    0|      0|          0|           1|                       0|              0|           0|                0|             0|      0|              0|           0|\n",
            "| 17|         0|             71|FibraOptica|    DoisAnos|   DebitoEmConta|        106.7|    0|      0|          1|           1|                       1|              1|           0|                1|             0|      1|              1|           0|\n",
            "| 18|         0|             10|        DSL| Mensalmente|   CartaoCredito|         55.2|    1|      1|          1|           1|                       0|              0|           0|                1|             1|      0|              0|           0|\n",
            "| 19|         0|             21|FibraOptica| Mensalmente|BoletoEletronico|        90.05|    0|      0|          0|           1|                       0|              0|           1|                1|             0|      0|              1|           1|\n",
            "+---+----------+---------------+-----------+------------+----------------+-------------+-----+-------+-----------+------------+------------------------+---------------+------------+-----------------+--------------+-------+---------------+------------+\n",
            "only showing top 20 rows\n",
            "\n"
          ]
        }
      ]
    },
    {
      "cell_type": "code",
      "source": [
        "dataset = raw_data.select(all_columns)"
      ],
      "metadata": {
        "id": "TEpK0IXUs2BF"
      },
      "execution_count": 93,
      "outputs": []
    },
    {
      "cell_type": "code",
      "source": [
        "dataset.printSchema()"
      ],
      "metadata": {
        "colab": {
          "base_uri": "https://localhost:8080/"
        },
        "id": "JJXnsuU4eKHH",
        "outputId": "0e73ef19-e821-4cc5-82d4-1b86cc7bec52"
      },
      "execution_count": 94,
      "outputs": [
        {
          "output_type": "stream",
          "name": "stdout",
          "text": [
            "root\n",
            " |-- id: integer (nullable = true)\n",
            " |-- Mais65anos: integer (nullable = true)\n",
            " |-- MesesDeContrato: integer (nullable = true)\n",
            " |-- Internet: string (nullable = true)\n",
            " |-- TipoContrato: string (nullable = true)\n",
            " |-- MetodoPagamento: string (nullable = true)\n",
            " |-- MesesCobrados: double (nullable = true)\n",
            " |-- Churn: integer (nullable = false)\n",
            " |-- Conjuge: integer (nullable = false)\n",
            " |-- Dependentes: integer (nullable = false)\n",
            " |-- TelefoneFixo: integer (nullable = false)\n",
            " |-- MaisDeUmaLinhaTelefonica: integer (nullable = false)\n",
            " |-- SegurancaOnline: integer (nullable = false)\n",
            " |-- BackupOnline: integer (nullable = false)\n",
            " |-- SeguroDispositivo: integer (nullable = false)\n",
            " |-- SuporteTecnico: integer (nullable = false)\n",
            " |-- TVaCabo: integer (nullable = false)\n",
            " |-- StreamingFilmes: integer (nullable = false)\n",
            " |-- ContaCorreio: integer (nullable = false)\n",
            "\n"
          ]
        }
      ]
    },
    {
      "cell_type": "markdown",
      "source": [
        "Perceba que ainda temos colunas do tipo *string*, mas com realizações com diversos valores possíveis, não sendo apenas valores binários de \"Sim\" ou \"Não\""
      ],
      "metadata": {
        "id": "gRH3pWZmeb-l"
      }
    },
    {
      "cell_type": "markdown",
      "source": [
        "## **1.5 Criando *Dummies***"
      ],
      "metadata": {
        "id": "FLn2a7ym7MLp"
      }
    },
    {
      "cell_type": "markdown",
      "source": [
        "Vejamos quais são as colunas de **dataset** que ainda possuem campos classificados como strings:"
      ],
      "metadata": {
        "id": "6kUSTtD_mYpr"
      }
    },
    {
      "cell_type": "code",
      "source": [
        "dataset_str_columns = [f.name for f in dataset.schema.fields if isinstance(f.dataType, StringType)]\n",
        "dataset_str_columns"
      ],
      "metadata": {
        "id": "czr0pqtgmYJ1",
        "outputId": "a2b7b98a-6958-468c-b866-f9d8f53c9f06",
        "colab": {
          "base_uri": "https://localhost:8080/"
        }
      },
      "execution_count": 95,
      "outputs": [
        {
          "output_type": "execute_result",
          "data": {
            "text/plain": [
              "['Internet', 'TipoContrato', 'MetodoPagamento']"
            ]
          },
          "metadata": {},
          "execution_count": 95
        }
      ]
    },
    {
      "cell_type": "markdown",
      "source": [
        "Agora, veremos os valores únicos de cada coluna:"
      ],
      "metadata": {
        "id": "g95FI-ubmePw"
      }
    },
    {
      "cell_type": "code",
      "source": [
        "for dataset_str_col in dataset_str_columns:\n",
        "  print(dataset.select(dataset_str_col).distinct().show())"
      ],
      "metadata": {
        "id": "E_Hs2oXj9-pq",
        "colab": {
          "base_uri": "https://localhost:8080/"
        },
        "outputId": "8d87c89c-3912-43e6-8cdc-919eedb24840"
      },
      "execution_count": 96,
      "outputs": [
        {
          "output_type": "stream",
          "name": "stdout",
          "text": [
            "+-----------+\n",
            "|   Internet|\n",
            "+-----------+\n",
            "|FibraOptica|\n",
            "|        Nao|\n",
            "|        DSL|\n",
            "+-----------+\n",
            "\n",
            "None\n",
            "+------------+\n",
            "|TipoContrato|\n",
            "+------------+\n",
            "|       UmAno|\n",
            "| Mensalmente|\n",
            "|    DoisAnos|\n",
            "+------------+\n",
            "\n",
            "None\n",
            "+----------------+\n",
            "| MetodoPagamento|\n",
            "+----------------+\n",
            "|BoletoEletronico|\n",
            "|   CartaoCredito|\n",
            "|   DebitoEmConta|\n",
            "|          Boleto|\n",
            "+----------------+\n",
            "\n",
            "None\n"
          ]
        }
      ]
    },
    {
      "cell_type": "code",
      "source": [
        "dataset.select(dataset_str_columns).show()"
      ],
      "metadata": {
        "id": "DFJx294nMCit",
        "colab": {
          "base_uri": "https://localhost:8080/"
        },
        "outputId": "dd50033e-cb29-424a-87c5-b5ee24919906"
      },
      "execution_count": 97,
      "outputs": [
        {
          "output_type": "stream",
          "name": "stdout",
          "text": [
            "+-----------+------------+----------------+\n",
            "|   Internet|TipoContrato| MetodoPagamento|\n",
            "+-----------+------------+----------------+\n",
            "|        DSL| Mensalmente|BoletoEletronico|\n",
            "|        DSL|       UmAno|          Boleto|\n",
            "|        DSL| Mensalmente|          Boleto|\n",
            "|        DSL|       UmAno|   DebitoEmConta|\n",
            "|FibraOptica| Mensalmente|BoletoEletronico|\n",
            "|FibraOptica| Mensalmente|BoletoEletronico|\n",
            "|FibraOptica| Mensalmente|   CartaoCredito|\n",
            "|        DSL| Mensalmente|          Boleto|\n",
            "|FibraOptica| Mensalmente|BoletoEletronico|\n",
            "|        DSL|       UmAno|   DebitoEmConta|\n",
            "|        DSL| Mensalmente|          Boleto|\n",
            "|        Nao|    DoisAnos|   CartaoCredito|\n",
            "|FibraOptica|       UmAno|   CartaoCredito|\n",
            "|FibraOptica| Mensalmente|   DebitoEmConta|\n",
            "|FibraOptica| Mensalmente|BoletoEletronico|\n",
            "|FibraOptica|    DoisAnos|   CartaoCredito|\n",
            "|        Nao|       UmAno|          Boleto|\n",
            "|FibraOptica|    DoisAnos|   DebitoEmConta|\n",
            "|        DSL| Mensalmente|   CartaoCredito|\n",
            "|FibraOptica| Mensalmente|BoletoEletronico|\n",
            "+-----------+------------+----------------+\n",
            "only showing top 20 rows\n",
            "\n"
          ]
        }
      ]
    },
    {
      "cell_type": "markdown",
      "source": [
        "Iremos realizar o processamento destas colunas utilizando uma técnica chamada de **one hot encoding**, ou **dummies**. Para isto, utilizaremos a função **pivot** aplicada a datasets agregados, a função **lit** e a função **fill**.\n",
        "\n",
        "O procedimento geral é:\n",
        "\n",
        "````Python\n",
        "dataset.groupby(col_to_group).pivot(col_to_pivot).agg(f.lit(valor_para_presente)).na.fill(valor_para_preencher_dados_ausentes).show()\n",
        "````\n",
        "\n",
        "Ou seja: agregamos o dataset pelo id apenas para termos acesso à função pivot (cross tab) utilizando a coluna em que queremos que os valores únicos se tornem colunas, aplicando uma função lit(1) para preencher estas colunas novas com 1 caso o valor único esteja presente na coluna original, deixando como NaN os campos dos valores que não estejam presentes na coluna original. Por fim, utilizamos o fill(0) para preencher como 0 os campos que estejam com valor NaN:"
      ],
      "metadata": {
        "id": "ICH3blHEobvq"
      }
    },
    {
      "cell_type": "code",
      "source": [
        "dataset.groupby('id').pivot('Internet').agg(f.lit(1)).na.fill(0).show()"
      ],
      "metadata": {
        "id": "jHb0pPZXPrYa",
        "colab": {
          "base_uri": "https://localhost:8080/"
        },
        "outputId": "e3d3131a-2854-4d09-fe68-a2c1575f6d4c"
      },
      "execution_count": 98,
      "outputs": [
        {
          "output_type": "stream",
          "name": "stdout",
          "text": [
            "+----+---+-----------+---+\n",
            "|  id|DSL|FibraOptica|Nao|\n",
            "+----+---+-----------+---+\n",
            "|7982|  1|          0|  0|\n",
            "|9465|  0|          1|  0|\n",
            "|2122|  1|          0|  0|\n",
            "|3997|  1|          0|  0|\n",
            "|6654|  0|          1|  0|\n",
            "|7880|  0|          1|  0|\n",
            "|4519|  0|          1|  0|\n",
            "|6466|  0|          1|  0|\n",
            "| 496|  1|          0|  0|\n",
            "|7833|  0|          1|  0|\n",
            "|1591|  0|          0|  1|\n",
            "|2866|  0|          1|  0|\n",
            "|8592|  0|          1|  0|\n",
            "|1829|  0|          1|  0|\n",
            "| 463|  0|          1|  0|\n",
            "|4900|  0|          1|  0|\n",
            "|4818|  0|          1|  0|\n",
            "|7554|  1|          0|  0|\n",
            "|1342|  0|          0|  1|\n",
            "|5300|  0|          1|  0|\n",
            "+----+---+-----------+---+\n",
            "only showing top 20 rows\n",
            "\n"
          ]
        }
      ]
    },
    {
      "cell_type": "markdown",
      "source": [
        "A forma de interpretar os valores acima: para o id 7982, a realização da coluna **Internet** é **DSL**, pois para este id temos o valor 1 e 0 para as demais realizações consideradas como colunas."
      ],
      "metadata": {
        "id": "V4g6oZ9qqbPM"
      }
    },
    {
      "cell_type": "code",
      "source": [
        "Internet = dataset.groupby('id').pivot('Internet').agg(f.lit(1)).na.fill(0)\n",
        "TipoContrato = dataset.groupby('id').pivot('TipoContrato').agg(f.lit(1)).na.fill(0)\n",
        "MetodoPagamento = dataset.groupby('id').pivot('MetodoPagamento').agg(f.lit(1)).na.fill(0)"
      ],
      "metadata": {
        "id": "B1FK7TOmRSYF"
      },
      "execution_count": 99,
      "outputs": []
    },
    {
      "cell_type": "markdown",
      "source": [
        "Perceba que quando realizamos o pivot e utilizamos a técnica de OH Enconding, a coluna original já é removida do dataset"
      ],
      "metadata": {
        "id": "BH-2UnAYyXrG"
      }
    },
    {
      "cell_type": "code",
      "source": [
        "dataset\\\n",
        "  .join(Internet, on='id', how='inner')\\\n",
        "  .join(TipoContrato, on='id', how='inner')\\\n",
        "  .join(MetodoPagamento, on='id', how='inner')\\\n",
        "  .select(\n",
        "      '*',\n",
        "      f.col('DSL').alias('Internet_DSL'),\n",
        "      f.col('FibraOptica').alias('Internet_FibraOptica'),\n",
        "      f.col('Nao').alias('Internet_Nao'),\n",
        "      f.col('Mensalmente').alias('TipoContrato_Mensalmente'),\n",
        "      f.col('UmAno').alias('TipoContrato_UmAno'),\n",
        "      f.col('DoisAnos').alias('MetodoPagamento_DoisAnos'),\n",
        "      f.col('DebitoEmConta').alias('MetodoPagamento_DebitoEmConta'),\n",
        "      f.col('CartaoCredito').alias('MetodoPagamento_CartaoCredito'),\n",
        "      f.col('BoletoEletronico').alias('MetodoPagamento_BoletoEletronico'),\n",
        "      f.col('Boleto').alias('MetodoPagamento_Boleto')\n",
        "  )\\\n",
        "  .drop(\n",
        "      'Internet', 'TipoContrato', 'MetodoPagamento', 'DSL',\n",
        "      'FibraOptica', 'Nao', 'Mensalmente', 'UmAno', 'DoisAnos',\n",
        "      'DebitoEmConta', 'CartaoCredito', 'BoletoEletronico', 'Boleto'\n",
        "  ).show()"
      ],
      "metadata": {
        "id": "D58P834Tzd99",
        "colab": {
          "base_uri": "https://localhost:8080/"
        },
        "outputId": "cbe907cc-b897-491b-90d6-061ba0fed8d8"
      },
      "execution_count": 100,
      "outputs": [
        {
          "output_type": "stream",
          "name": "stdout",
          "text": [
            "+----+----------+---------------+-----------------+-----+-------+-----------+------------+------------------------+---------------+------------+-----------------+--------------+-------+---------------+------------+------------+--------------------+------------+------------------------+------------------+------------------------+-----------------------------+-----------------------------+--------------------------------+----------------------+\n",
            "|  id|Mais65anos|MesesDeContrato|    MesesCobrados|Churn|Conjuge|Dependentes|TelefoneFixo|MaisDeUmaLinhaTelefonica|SegurancaOnline|BackupOnline|SeguroDispositivo|SuporteTecnico|TVaCabo|StreamingFilmes|ContaCorreio|Internet_DSL|Internet_FibraOptica|Internet_Nao|TipoContrato_Mensalmente|TipoContrato_UmAno|MetodoPagamento_DoisAnos|MetodoPagamento_DebitoEmConta|MetodoPagamento_CartaoCredito|MetodoPagamento_BoletoEletronico|MetodoPagamento_Boleto|\n",
            "+----+----------+---------------+-----------------+-----+-------+-----------+------------+------------------------+---------------+------------+-----------------+--------------+-------+---------------+------------+------------+--------------------+------------+------------------------+------------------+------------------------+-----------------------------+-----------------------------+--------------------------------+----------------------+\n",
            "|7982|         0|              1|45.30540797610398|    1|      0|          0|           0|                       0|              0|           0|                0|             0|      1|              1|           1|           1|                   0|           0|                       1|                 0|                       0|                            0|                            0|                               1|                     0|\n",
            "|9465|         0|             60|103.6142230120257|    1|      1|          0|           1|                       1|              0|           1|                1|             0|      1|              1|           1|           0|                   1|           0|                       1|                 0|                       0|                            0|                            0|                               1|                     0|\n",
            "|2122|         0|             12|            75.85|    0|      0|          0|           1|                       1|              0|           0|                0|             1|      1|              1|           1|           1|                   0|           0|                       0|                 1|                       0|                            0|                            0|                               0|                     1|\n",
            "|3997|         0|             69|            61.45|    0|      1|          0|           1|                       0|              0|           1|                0|             0|      0|              1|           1|           1|                   0|           0|                       0|                 0|                       1|                            0|                            1|                               0|                     0|\n",
            "|6654|         0|              7|             86.5|    1|      1|          0|           1|                       1|              0|           0|                0|             0|      1|              0|           1|           0|                   1|           0|                       1|                 0|                       0|                            0|                            0|                               1|                     0|\n",
            "|7880|         0|             14|85.03742670311915|    1|      0|          0|           1|                       1|              0|           0|                0|             0|      0|              1|           1|           0|                   1|           0|                       1|                 0|                       0|                            0|                            0|                               1|                     0|\n",
            "|4519|         0|             57|            109.4|    0|      1|          0|           1|                       1|              0|           1|                1|             1|      1|              1|           1|           0|                   1|           0|                       0|                 1|                       0|                            1|                            0|                               0|                     0|\n",
            "|6466|         0|             18|            74.15|    0|      0|          0|           1|                       1|              0|           0|                0|             0|      0|              0|           0|           0|                   1|           0|                       1|                 0|                       0|                            0|                            0|                               0|                     1|\n",
            "| 496|         0|             28|             60.9|    0|      1|          0|           1|                       0|              1|           1|                0|             1|      0|              0|           0|           1|                   0|           0|                       1|                 0|                       0|                            0|                            0|                               0|                     1|\n",
            "|7833|         0|             46| 80.8824189403559|    1|      1|          0|           1|                       0|              0|           0|                0|             0|      0|              1|           1|           0|                   1|           0|                       1|                 0|                       0|                            0|                            0|                               1|                     0|\n",
            "|1591|         0|             17|             21.1|    0|      0|          0|           1|                       0|              0|           0|                0|             0|      0|              0|           0|           0|                   0|           1|                       1|                 0|                       0|                            0|                            1|                               0|                     0|\n",
            "|2866|         0|             12|             84.6|    0|      0|          0|           1|                       0|              0|           1|                0|             0|      0|              1|           1|           0|                   1|           0|                       1|                 0|                       0|                            0|                            0|                               1|                     0|\n",
            "|8592|         0|              5|82.71735660557214|    1|      1|          0|           1|                       1|              0|           0|                0|             0|      1|              0|           1|           0|                   1|           0|                       1|                 0|                       0|                            0|                            0|                               1|                     0|\n",
            "|1829|         0|              8|            74.85|    0|      0|          0|           1|                       1|              0|           0|                0|             0|      0|              0|           1|           0|                   1|           0|                       1|                 0|                       0|                            0|                            0|                               1|                     0|\n",
            "| 463|         0|              7|             99.8|    1|      0|          0|           1|                       1|              0|           1|                0|             0|      1|              1|           1|           0|                   1|           0|                       1|                 0|                       0|                            0|                            0|                               1|                     0|\n",
            "|4900|         1|             37|             85.7|    1|      1|          0|           1|                       1|              0|           0|                0|             0|      1|              0|           1|           0|                   1|           0|                       1|                 0|                       0|                            0|                            0|                               1|                     0|\n",
            "|4818|         1|             64|             80.3|    0|      1|          0|           1|                       0|              1|           0|                1|             0|      0|              0|           0|           0|                   1|           0|                       0|                 1|                       0|                            0|                            1|                               0|                     0|\n",
            "|7554|         0|              1|50.74303124820026|    1|      0|          0|           1|                       0|              0|           1|                0|             0|      0|              0|           0|           1|                   0|           0|                       1|                 0|                       0|                            0|                            0|                               1|                     0|\n",
            "|1342|         0|              8|             20.0|    0|      0|          0|           1|                       0|              0|           0|                0|             0|      0|              0|           0|           0|                   0|           1|                       0|                 0|                       1|                            0|                            0|                               0|                     1|\n",
            "|5300|         0|              1|            80.05|    1|      1|          1|           1|                       0|              0|           0|                0|             0|      1|              0|           1|           0|                   1|           0|                       1|                 0|                       0|                            0|                            0|                               0|                     1|\n",
            "+----+----------+---------------+-----------------+-----+-------+-----------+------------+------------------------+---------------+------------+-----------------+--------------+-------+---------------+------------+------------+--------------------+------------+------------------------+------------------+------------------------+-----------------------------+-----------------------------+--------------------------------+----------------------+\n",
            "only showing top 20 rows\n",
            "\n"
          ]
        }
      ]
    },
    {
      "cell_type": "code",
      "source": [
        "dataset = dataset\\\n",
        "          .join(Internet, on='id', how='inner')\\\n",
        "          .join(TipoContrato, on='id', how='inner')\\\n",
        "          .join(MetodoPagamento, on='id', how='inner')\\\n",
        "          .select(\n",
        "              '*',\n",
        "              f.col('DSL').alias('Internet_DSL'),\n",
        "              f.col('FibraOptica').alias('Internet_FibraOptica'),\n",
        "              f.col('Nao').alias('Internet_Nao'),\n",
        "              f.col('Mensalmente').alias('TipoContrato_Mensalmente'),\n",
        "              f.col('UmAno').alias('TipoContrato_UmAno'),\n",
        "              f.col('DoisAnos').alias('MetodoPagamento_DoisAnos'),\n",
        "              f.col('DebitoEmConta').alias('MetodoPagamento_DebitoEmConta'),\n",
        "              f.col('CartaoCredito').alias('MetodoPagamento_CartaoCredito'),\n",
        "              f.col('BoletoEletronico').alias('MetodoPagamento_BoletoEletronico'),\n",
        "              f.col('Boleto').alias('MetodoPagamento_Boleto')\n",
        "          )\\\n",
        "          .drop(\n",
        "              'Internet', 'TipoContrato', 'MetodoPagamento', 'DSL',\n",
        "              'FibraOptica', 'Nao', 'Mensalmente', 'UmAno', 'DoisAnos',\n",
        "              'DebitoEmConta', 'CartaoCredito', 'BoletoEletronico', 'Boleto'\n",
        "          )"
      ],
      "metadata": {
        "id": "Z5cSmXRCvmEC"
      },
      "execution_count": 101,
      "outputs": []
    },
    {
      "cell_type": "code",
      "source": [
        "dataset.show()"
      ],
      "metadata": {
        "id": "zFSSoSTYKY10",
        "colab": {
          "base_uri": "https://localhost:8080/"
        },
        "outputId": "f263c246-b1ee-4b60-f9d1-008df979b08d"
      },
      "execution_count": 102,
      "outputs": [
        {
          "output_type": "stream",
          "name": "stdout",
          "text": [
            "+----+----------+---------------+-----------------+-----+-------+-----------+------------+------------------------+---------------+------------+-----------------+--------------+-------+---------------+------------+------------+--------------------+------------+------------------------+------------------+------------------------+-----------------------------+-----------------------------+--------------------------------+----------------------+\n",
            "|  id|Mais65anos|MesesDeContrato|    MesesCobrados|Churn|Conjuge|Dependentes|TelefoneFixo|MaisDeUmaLinhaTelefonica|SegurancaOnline|BackupOnline|SeguroDispositivo|SuporteTecnico|TVaCabo|StreamingFilmes|ContaCorreio|Internet_DSL|Internet_FibraOptica|Internet_Nao|TipoContrato_Mensalmente|TipoContrato_UmAno|MetodoPagamento_DoisAnos|MetodoPagamento_DebitoEmConta|MetodoPagamento_CartaoCredito|MetodoPagamento_BoletoEletronico|MetodoPagamento_Boleto|\n",
            "+----+----------+---------------+-----------------+-----+-------+-----------+------------+------------------------+---------------+------------+-----------------+--------------+-------+---------------+------------+------------+--------------------+------------+------------------------+------------------+------------------------+-----------------------------+-----------------------------+--------------------------------+----------------------+\n",
            "|7982|         0|              1|45.30540797610398|    1|      0|          0|           0|                       0|              0|           0|                0|             0|      1|              1|           1|           1|                   0|           0|                       1|                 0|                       0|                            0|                            0|                               1|                     0|\n",
            "|9465|         0|             60|103.6142230120257|    1|      1|          0|           1|                       1|              0|           1|                1|             0|      1|              1|           1|           0|                   1|           0|                       1|                 0|                       0|                            0|                            0|                               1|                     0|\n",
            "|2122|         0|             12|            75.85|    0|      0|          0|           1|                       1|              0|           0|                0|             1|      1|              1|           1|           1|                   0|           0|                       0|                 1|                       0|                            0|                            0|                               0|                     1|\n",
            "|3997|         0|             69|            61.45|    0|      1|          0|           1|                       0|              0|           1|                0|             0|      0|              1|           1|           1|                   0|           0|                       0|                 0|                       1|                            0|                            1|                               0|                     0|\n",
            "|6654|         0|              7|             86.5|    1|      1|          0|           1|                       1|              0|           0|                0|             0|      1|              0|           1|           0|                   1|           0|                       1|                 0|                       0|                            0|                            0|                               1|                     0|\n",
            "|7880|         0|             14|85.03742670311915|    1|      0|          0|           1|                       1|              0|           0|                0|             0|      0|              1|           1|           0|                   1|           0|                       1|                 0|                       0|                            0|                            0|                               1|                     0|\n",
            "|4519|         0|             57|            109.4|    0|      1|          0|           1|                       1|              0|           1|                1|             1|      1|              1|           1|           0|                   1|           0|                       0|                 1|                       0|                            1|                            0|                               0|                     0|\n",
            "|6466|         0|             18|            74.15|    0|      0|          0|           1|                       1|              0|           0|                0|             0|      0|              0|           0|           0|                   1|           0|                       1|                 0|                       0|                            0|                            0|                               0|                     1|\n",
            "| 496|         0|             28|             60.9|    0|      1|          0|           1|                       0|              1|           1|                0|             1|      0|              0|           0|           1|                   0|           0|                       1|                 0|                       0|                            0|                            0|                               0|                     1|\n",
            "|7833|         0|             46| 80.8824189403559|    1|      1|          0|           1|                       0|              0|           0|                0|             0|      0|              1|           1|           0|                   1|           0|                       1|                 0|                       0|                            0|                            0|                               1|                     0|\n",
            "|1591|         0|             17|             21.1|    0|      0|          0|           1|                       0|              0|           0|                0|             0|      0|              0|           0|           0|                   0|           1|                       1|                 0|                       0|                            0|                            1|                               0|                     0|\n",
            "|2866|         0|             12|             84.6|    0|      0|          0|           1|                       0|              0|           1|                0|             0|      0|              1|           1|           0|                   1|           0|                       1|                 0|                       0|                            0|                            0|                               1|                     0|\n",
            "|8592|         0|              5|82.71735660557214|    1|      1|          0|           1|                       1|              0|           0|                0|             0|      1|              0|           1|           0|                   1|           0|                       1|                 0|                       0|                            0|                            0|                               1|                     0|\n",
            "|1829|         0|              8|            74.85|    0|      0|          0|           1|                       1|              0|           0|                0|             0|      0|              0|           1|           0|                   1|           0|                       1|                 0|                       0|                            0|                            0|                               1|                     0|\n",
            "| 463|         0|              7|             99.8|    1|      0|          0|           1|                       1|              0|           1|                0|             0|      1|              1|           1|           0|                   1|           0|                       1|                 0|                       0|                            0|                            0|                               1|                     0|\n",
            "|4900|         1|             37|             85.7|    1|      1|          0|           1|                       1|              0|           0|                0|             0|      1|              0|           1|           0|                   1|           0|                       1|                 0|                       0|                            0|                            0|                               1|                     0|\n",
            "|4818|         1|             64|             80.3|    0|      1|          0|           1|                       0|              1|           0|                1|             0|      0|              0|           0|           0|                   1|           0|                       0|                 1|                       0|                            0|                            1|                               0|                     0|\n",
            "|7554|         0|              1|50.74303124820026|    1|      0|          0|           1|                       0|              0|           1|                0|             0|      0|              0|           0|           1|                   0|           0|                       1|                 0|                       0|                            0|                            0|                               1|                     0|\n",
            "|1342|         0|              8|             20.0|    0|      0|          0|           1|                       0|              0|           0|                0|             0|      0|              0|           0|           0|                   0|           1|                       0|                 0|                       1|                            0|                            0|                               0|                     1|\n",
            "|5300|         0|              1|            80.05|    1|      1|          1|           1|                       0|              0|           0|                0|             0|      1|              0|           1|           0|                   1|           0|                       1|                 0|                       0|                            0|                            0|                               0|                     1|\n",
            "+----+----------+---------------+-----------------+-----+-------+-----------+------------+------------------------+---------------+------------+-----------------+--------------+-------+---------------+------------+------------+--------------------+------------+------------------------+------------------+------------------------+-----------------------------+-----------------------------+--------------------------------+----------------------+\n",
            "only showing top 20 rows\n",
            "\n"
          ]
        }
      ]
    },
    {
      "cell_type": "code",
      "source": [
        "dataset.printSchema()"
      ],
      "metadata": {
        "id": "dTnCEhhZKYzC",
        "colab": {
          "base_uri": "https://localhost:8080/"
        },
        "outputId": "56d7311a-0e54-4f30-bfd4-141dcb5940a4"
      },
      "execution_count": 103,
      "outputs": [
        {
          "output_type": "stream",
          "name": "stdout",
          "text": [
            "root\n",
            " |-- id: integer (nullable = true)\n",
            " |-- Mais65anos: integer (nullable = true)\n",
            " |-- MesesDeContrato: integer (nullable = true)\n",
            " |-- MesesCobrados: double (nullable = true)\n",
            " |-- Churn: integer (nullable = false)\n",
            " |-- Conjuge: integer (nullable = false)\n",
            " |-- Dependentes: integer (nullable = false)\n",
            " |-- TelefoneFixo: integer (nullable = false)\n",
            " |-- MaisDeUmaLinhaTelefonica: integer (nullable = false)\n",
            " |-- SegurancaOnline: integer (nullable = false)\n",
            " |-- BackupOnline: integer (nullable = false)\n",
            " |-- SeguroDispositivo: integer (nullable = false)\n",
            " |-- SuporteTecnico: integer (nullable = false)\n",
            " |-- TVaCabo: integer (nullable = false)\n",
            " |-- StreamingFilmes: integer (nullable = false)\n",
            " |-- ContaCorreio: integer (nullable = false)\n",
            " |-- Internet_DSL: integer (nullable = true)\n",
            " |-- Internet_FibraOptica: integer (nullable = true)\n",
            " |-- Internet_Nao: integer (nullable = true)\n",
            " |-- TipoContrato_Mensalmente: integer (nullable = true)\n",
            " |-- TipoContrato_UmAno: integer (nullable = true)\n",
            " |-- MetodoPagamento_DoisAnos: integer (nullable = true)\n",
            " |-- MetodoPagamento_DebitoEmConta: integer (nullable = true)\n",
            " |-- MetodoPagamento_CartaoCredito: integer (nullable = true)\n",
            " |-- MetodoPagamento_BoletoEletronico: integer (nullable = true)\n",
            " |-- MetodoPagamento_Boleto: integer (nullable = true)\n",
            "\n"
          ]
        }
      ]
    },
    {
      "cell_type": "markdown",
      "source": [
        "## 2. Criando o Primeiro Modelo  "
      ],
      "metadata": {
        "id": "NXHzQpK3z4b3"
      }
    },
    {
      "cell_type": "markdown",
      "source": [
        "### 2.1. Regressão Logística"
      ],
      "metadata": {
        "id": "zUaCJepj0IEi"
      }
    },
    {
      "cell_type": "markdown",
      "source": [
        "A regressão logística é um método popular para prever uma resposta categórica. É um caso especial de modelos lineares generalizados que prevê a probabilidade dos resultados. Em ``spark.ml``, aregressão logística pode ser usada para prever um resultado binário (dois valores únicos para o target) usando regressão logística binomial ou pode ser usada para prever um resultado multiclasse usando regressão logística multinomial. Use o parâmetro ``family`` para selecionar entre esses dois algoritmos ou deixe-o indefinido e o Spark irá inferir a variante correta.\n",
        "\n",
        "Em nosso curso, vamos trabalhar com a variável categórica do tipo binomial. O intuito desse algoritmo é modelar a probabilidade de uma determinada classe. Para uma variável alvo com as classes 0 e 1, por exemplo, caso a probabilidade de um registro seja maior que um determinado ponto de corte, o modelo classifica esse registro como 1. Caso seja menor, o modelo classifica como 0.\n",
        "\n",
        "Fonte: [MLLib classification and regression](https://spark.apache.org/docs/latest/ml-classification-regression.html) | [Binomial LReg](https://spark.apache.org/docs/latest/ml-classification-regression.html#binomial-logistic-regression) | [Multinomial LReg](https://spark.apache.org/docs/latest/ml-classification-regression.html#multinomial-logistic-regression)\n",
        "\n"
      ],
      "metadata": {
        "id": "lZlbGT-I0PbC"
      }
    },
    {
      "cell_type": "code",
      "source": [
        "dataset.show()"
      ],
      "metadata": {
        "id": "ihE4PcZ9KYwQ",
        "outputId": "16845fb5-b823-44d4-8383-103b45bc018a",
        "colab": {
          "base_uri": "https://localhost:8080/"
        }
      },
      "execution_count": 104,
      "outputs": [
        {
          "output_type": "stream",
          "name": "stdout",
          "text": [
            "+----+----------+---------------+-----------------+-----+-------+-----------+------------+------------------------+---------------+------------+-----------------+--------------+-------+---------------+------------+------------+--------------------+------------+------------------------+------------------+------------------------+-----------------------------+-----------------------------+--------------------------------+----------------------+\n",
            "|  id|Mais65anos|MesesDeContrato|    MesesCobrados|Churn|Conjuge|Dependentes|TelefoneFixo|MaisDeUmaLinhaTelefonica|SegurancaOnline|BackupOnline|SeguroDispositivo|SuporteTecnico|TVaCabo|StreamingFilmes|ContaCorreio|Internet_DSL|Internet_FibraOptica|Internet_Nao|TipoContrato_Mensalmente|TipoContrato_UmAno|MetodoPagamento_DoisAnos|MetodoPagamento_DebitoEmConta|MetodoPagamento_CartaoCredito|MetodoPagamento_BoletoEletronico|MetodoPagamento_Boleto|\n",
            "+----+----------+---------------+-----------------+-----+-------+-----------+------------+------------------------+---------------+------------+-----------------+--------------+-------+---------------+------------+------------+--------------------+------------+------------------------+------------------+------------------------+-----------------------------+-----------------------------+--------------------------------+----------------------+\n",
            "|7982|         0|              1|45.30540797610398|    1|      0|          0|           0|                       0|              0|           0|                0|             0|      1|              1|           1|           1|                   0|           0|                       1|                 0|                       0|                            0|                            0|                               1|                     0|\n",
            "|9465|         0|             60|103.6142230120257|    1|      1|          0|           1|                       1|              0|           1|                1|             0|      1|              1|           1|           0|                   1|           0|                       1|                 0|                       0|                            0|                            0|                               1|                     0|\n",
            "|2122|         0|             12|            75.85|    0|      0|          0|           1|                       1|              0|           0|                0|             1|      1|              1|           1|           1|                   0|           0|                       0|                 1|                       0|                            0|                            0|                               0|                     1|\n",
            "|3997|         0|             69|            61.45|    0|      1|          0|           1|                       0|              0|           1|                0|             0|      0|              1|           1|           1|                   0|           0|                       0|                 0|                       1|                            0|                            1|                               0|                     0|\n",
            "|6654|         0|              7|             86.5|    1|      1|          0|           1|                       1|              0|           0|                0|             0|      1|              0|           1|           0|                   1|           0|                       1|                 0|                       0|                            0|                            0|                               1|                     0|\n",
            "|7880|         0|             14|85.03742670311915|    1|      0|          0|           1|                       1|              0|           0|                0|             0|      0|              1|           1|           0|                   1|           0|                       1|                 0|                       0|                            0|                            0|                               1|                     0|\n",
            "|4519|         0|             57|            109.4|    0|      1|          0|           1|                       1|              0|           1|                1|             1|      1|              1|           1|           0|                   1|           0|                       0|                 1|                       0|                            1|                            0|                               0|                     0|\n",
            "|6466|         0|             18|            74.15|    0|      0|          0|           1|                       1|              0|           0|                0|             0|      0|              0|           0|           0|                   1|           0|                       1|                 0|                       0|                            0|                            0|                               0|                     1|\n",
            "| 496|         0|             28|             60.9|    0|      1|          0|           1|                       0|              1|           1|                0|             1|      0|              0|           0|           1|                   0|           0|                       1|                 0|                       0|                            0|                            0|                               0|                     1|\n",
            "|7833|         0|             46| 80.8824189403559|    1|      1|          0|           1|                       0|              0|           0|                0|             0|      0|              1|           1|           0|                   1|           0|                       1|                 0|                       0|                            0|                            0|                               1|                     0|\n",
            "|1591|         0|             17|             21.1|    0|      0|          0|           1|                       0|              0|           0|                0|             0|      0|              0|           0|           0|                   0|           1|                       1|                 0|                       0|                            0|                            1|                               0|                     0|\n",
            "|2866|         0|             12|             84.6|    0|      0|          0|           1|                       0|              0|           1|                0|             0|      0|              1|           1|           0|                   1|           0|                       1|                 0|                       0|                            0|                            0|                               1|                     0|\n",
            "|8592|         0|              5|82.71735660557214|    1|      1|          0|           1|                       1|              0|           0|                0|             0|      1|              0|           1|           0|                   1|           0|                       1|                 0|                       0|                            0|                            0|                               1|                     0|\n",
            "|1829|         0|              8|            74.85|    0|      0|          0|           1|                       1|              0|           0|                0|             0|      0|              0|           1|           0|                   1|           0|                       1|                 0|                       0|                            0|                            0|                               1|                     0|\n",
            "| 463|         0|              7|             99.8|    1|      0|          0|           1|                       1|              0|           1|                0|             0|      1|              1|           1|           0|                   1|           0|                       1|                 0|                       0|                            0|                            0|                               1|                     0|\n",
            "|4900|         1|             37|             85.7|    1|      1|          0|           1|                       1|              0|           0|                0|             0|      1|              0|           1|           0|                   1|           0|                       1|                 0|                       0|                            0|                            0|                               1|                     0|\n",
            "|4818|         1|             64|             80.3|    0|      1|          0|           1|                       0|              1|           0|                1|             0|      0|              0|           0|           0|                   1|           0|                       0|                 1|                       0|                            0|                            1|                               0|                     0|\n",
            "|7554|         0|              1|50.74303124820026|    1|      0|          0|           1|                       0|              0|           1|                0|             0|      0|              0|           0|           1|                   0|           0|                       1|                 0|                       0|                            0|                            0|                               1|                     0|\n",
            "|1342|         0|              8|             20.0|    0|      0|          0|           1|                       0|              0|           0|                0|             0|      0|              0|           0|           0|                   0|           1|                       0|                 0|                       1|                            0|                            0|                               0|                     1|\n",
            "|5300|         0|              1|            80.05|    1|      1|          1|           1|                       0|              0|           0|                0|             0|      1|              0|           1|           0|                   1|           0|                       1|                 0|                       0|                            0|                            0|                               0|                     1|\n",
            "+----+----------+---------------+-----------------+-----+-------+-----------+------------+------------------------+---------------+------------+-----------------+--------------+-------+---------------+------------+------------+--------------------+------------+------------------------+------------------+------------------------+-----------------------------+-----------------------------+--------------------------------+----------------------+\n",
            "only showing top 20 rows\n",
            "\n"
          ]
        }
      ]
    },
    {
      "cell_type": "markdown",
      "source": [
        "### 2.2. Vector Assembler"
      ],
      "metadata": {
        "id": "u2wQ6MBaco6b"
      }
    },
    {
      "cell_type": "markdown",
      "source": [
        "Apesar de termos preparado nosso dados para entrar em um modelo de machine learning convencional, no pyspark ainda precisamos realizar um passo a mais. Por estar preocupado em utilizar apenas o necessário em seus processamentos, precisamos utilizar uma técnica de **vetorização** para deixar os dados de uma forma que o pyspark consiga entender."
      ],
      "metadata": {
        "id": "7fXHeLrrQP7E"
      }
    },
    {
      "cell_type": "code",
      "source": [
        "from pyspark.ml.feature import VectorAssembler"
      ],
      "metadata": {
        "id": "PiA1i__YKYto"
      },
      "execution_count": 105,
      "outputs": []
    },
    {
      "cell_type": "markdown",
      "source": [
        "Renomeamos a coluna target para **label**:"
      ],
      "metadata": {
        "id": "R2oTwbScQkRz"
      }
    },
    {
      "cell_type": "code",
      "source": [
        "dataset = dataset.withColumnRenamed('Churn', 'label')"
      ],
      "metadata": {
        "id": "efKlYwS1KYqz"
      },
      "execution_count": 106,
      "outputs": []
    },
    {
      "cell_type": "markdown",
      "source": [
        "Criamos um vetor de características $X$"
      ],
      "metadata": {
        "id": "EaUhiQu_Qq8d"
      }
    },
    {
      "cell_type": "code",
      "source": [
        "X = dataset.columns\n",
        "X.remove('label')\n",
        "X.remove('id')"
      ],
      "metadata": {
        "id": "PeY-woLJKYoF"
      },
      "execution_count": 107,
      "outputs": []
    },
    {
      "cell_type": "markdown",
      "source": [
        "Criamos um objeto ``assembler`` que é moldado utilizando o vetor de caracteísticas $X$ e nomeando a coluna output de $features$"
      ],
      "metadata": {
        "id": "HWi73pzZQvY7"
      }
    },
    {
      "cell_type": "code",
      "source": [
        "assembler = VectorAssembler(inputCols=X, outputCol='features')"
      ],
      "metadata": {
        "id": "0EZJx1yqKYlL"
      },
      "execution_count": 108,
      "outputs": []
    },
    {
      "cell_type": "markdown",
      "source": [
        "Aplicamos o modelo ``assembler`` nos nossos dados e selecionamos apenas **features** e **label** do dataset final"
      ],
      "metadata": {
        "id": "Nvkq4l6LQ6Ry"
      }
    },
    {
      "cell_type": "code",
      "source": [
        "dataset_clean = assembler.transform(dataset).select('features', 'label')"
      ],
      "metadata": {
        "id": "LfI2JIBGKYiY"
      },
      "execution_count": 109,
      "outputs": []
    },
    {
      "cell_type": "code",
      "source": [
        "dataset_clean.show(10, truncate=False)"
      ],
      "metadata": {
        "id": "6EYUfyK2KYfk",
        "outputId": "532ee93b-b535-4e2f-d071-71caa3fd5d9e",
        "colab": {
          "base_uri": "https://localhost:8080/"
        }
      },
      "execution_count": 110,
      "outputs": [
        {
          "output_type": "stream",
          "name": "stdout",
          "text": [
            "+-----------------------------------------------------------------------------------------------------------+-----+\n",
            "|features                                                                                                   |label|\n",
            "+-----------------------------------------------------------------------------------------------------------+-----+\n",
            "|(24,[1,2,11,12,13,14,17,22],[1.0,45.30540797610398,1.0,1.0,1.0,1.0,1.0,1.0])                               |1    |\n",
            "|(24,[1,2,3,5,6,8,9,11,12,13,15,17,22],[60.0,103.6142230120257,1.0,1.0,1.0,1.0,1.0,1.0,1.0,1.0,1.0,1.0,1.0])|1    |\n",
            "|(24,[1,2,5,6,10,11,12,13,14,18,23],[12.0,75.85,1.0,1.0,1.0,1.0,1.0,1.0,1.0,1.0,1.0])                       |0    |\n",
            "|(24,[1,2,3,5,8,12,13,14,19,21],[69.0,61.45,1.0,1.0,1.0,1.0,1.0,1.0,1.0,1.0])                               |0    |\n",
            "|(24,[1,2,3,5,6,11,13,15,17,22],[7.0,86.5,1.0,1.0,1.0,1.0,1.0,1.0,1.0,1.0])                                 |1    |\n",
            "|(24,[1,2,5,6,12,13,15,17,22],[14.0,85.03742670311915,1.0,1.0,1.0,1.0,1.0,1.0,1.0])                         |1    |\n",
            "|(24,[1,2,3,5,6,8,9,10,11,12,13,15,18,20],[57.0,109.4,1.0,1.0,1.0,1.0,1.0,1.0,1.0,1.0,1.0,1.0,1.0,1.0])     |0    |\n",
            "|(24,[1,2,5,6,15,17,23],[18.0,74.15,1.0,1.0,1.0,1.0,1.0])                                                   |0    |\n",
            "|(24,[1,2,3,5,7,8,10,14,17,23],[28.0,60.9,1.0,1.0,1.0,1.0,1.0,1.0,1.0,1.0])                                 |0    |\n",
            "|(24,[1,2,3,5,12,13,15,17,22],[46.0,80.8824189403559,1.0,1.0,1.0,1.0,1.0,1.0,1.0])                          |1    |\n",
            "+-----------------------------------------------------------------------------------------------------------+-----+\n",
            "only showing top 10 rows\n",
            "\n"
          ]
        }
      ]
    },
    {
      "cell_type": "markdown",
      "source": [
        "### 2.3. Ajuste e Previsão"
      ],
      "metadata": {
        "id": "6hbCsPDIcrfq"
      }
    },
    {
      "cell_type": "code",
      "source": [
        "SEED = 101"
      ],
      "metadata": {
        "id": "1DuYeCVyc8_w"
      },
      "execution_count": 111,
      "outputs": []
    },
    {
      "cell_type": "code",
      "source": [
        "train, test = dataset_clean.randomSplit([0.7, 0.3], seed=SEED)"
      ],
      "metadata": {
        "id": "zgp-iQXAKYc2"
      },
      "execution_count": 112,
      "outputs": []
    },
    {
      "cell_type": "code",
      "source": [
        "print(f'Number of training data: {train.count()}')\n",
        "print(f'Number of test data: {test.count()}')"
      ],
      "metadata": {
        "id": "TQLUaoKRKYZ9",
        "colab": {
          "base_uri": "https://localhost:8080/"
        },
        "outputId": "c8db6d93-8c5f-4ab5-92fb-e83eca97fc4a"
      },
      "execution_count": 113,
      "outputs": [
        {
          "output_type": "stream",
          "name": "stdout",
          "text": [
            "Number of training data: 7206\n",
            "Number of test data: 3142\n"
          ]
        }
      ]
    },
    {
      "cell_type": "code",
      "source": [
        "from pyspark.ml.classification import LogisticRegression"
      ],
      "metadata": {
        "id": "MBaHsKAAKYXT"
      },
      "execution_count": 114,
      "outputs": []
    },
    {
      "cell_type": "code",
      "source": [
        "lr_model = LogisticRegression()"
      ],
      "metadata": {
        "id": "O3kATMfUKYUU"
      },
      "execution_count": 115,
      "outputs": []
    },
    {
      "cell_type": "code",
      "source": [
        "fitted_model = lr_model.fit(train)"
      ],
      "metadata": {
        "id": "oQIPEliQeeqP"
      },
      "execution_count": 116,
      "outputs": []
    },
    {
      "cell_type": "code",
      "source": [
        "y_prev = fitted_model.transform(test)"
      ],
      "metadata": {
        "id": "NyAY56cOehSr"
      },
      "execution_count": 117,
      "outputs": []
    },
    {
      "cell_type": "code",
      "source": [
        "y_prev.show(truncate=False)"
      ],
      "metadata": {
        "colab": {
          "base_uri": "https://localhost:8080/"
        },
        "id": "zLW208ZUelqj",
        "outputId": "22aa1ceb-550b-4387-df15-1e5bbe1b56e7"
      },
      "execution_count": 118,
      "outputs": [
        {
          "output_type": "stream",
          "name": "stdout",
          "text": [
            "+------------------------------------------------------------------------------------------------------+-----+------------------------------------------+-----------------------------------------+----------+\n",
            "|features                                                                                              |label|rawPrediction                             |probability                              |prediction|\n",
            "+------------------------------------------------------------------------------------------------------+-----+------------------------------------------+-----------------------------------------+----------+\n",
            "|(24,[0,1,2,3,4,5,6,7,9,10,11,14,18,22],[1.0,55.0,76.25,1.0,1.0,1.0,1.0,1.0,1.0,1.0,1.0,1.0,1.0,1.0])  |0    |[3.0217417975155163,-3.0217417975155163]  |[0.9535467400028285,0.04645325999717154] |0.0       |\n",
            "|(24,[0,1,2,3,4,5,6,7,13,15,17,22],[1.0,24.0,79.85,1.0,1.0,1.0,1.0,1.0,1.0,1.0,1.0,1.0])               |0    |[-0.09221929660763595,0.09221929660763595]|[0.47696150091605805,0.523038499083942]  |1.0       |\n",
            "|(24,[0,1,2,3,4,5,6,8,13,15,17,23],[1.0,34.0,79.6,1.0,1.0,1.0,1.0,1.0,1.0,1.0,1.0,1.0])                |1    |[0.1874412171136145,-0.1874412171136145]  |[0.5467235846315606,0.45327641536843943] |0.0       |\n",
            "|(24,[0,1,2,3,4,5,6,9,11,12,13,15,17,21],[1.0,66.0,99.5,1.0,1.0,1.0,1.0,1.0,1.0,1.0,1.0,1.0,1.0,1.0])  |1    |[0.917165012601038,-0.917165012601038]    |[0.714464105491635,0.28553589450836503]  |0.0       |\n",
            "|(24,[0,1,2,3,4,5,6,9,11,13,15,17,23],[1.0,32.0,91.35,1.0,1.0,1.0,1.0,1.0,1.0,1.0,1.0,1.0,1.0])        |0    |[-0.1495904711610051,0.1495904711610051]  |[0.4626719646780127,0.5373280353219874]  |1.0       |\n",
            "|(24,[0,1,2,3,4,5,6,9,13,15,17,21],[1.0,11.0,78.1,1.0,1.0,1.0,1.0,1.0,1.0,1.0,1.0,1.0])                |0    |[-0.16805946192865073,0.16805946192865073]|[0.4580837449400644,0.5419162550599357]  |1.0       |\n",
            "|(24,[0,1,2,3,4,5,6,11,12,13,15,17,22],[1.0,14.0,95.8,1.0,1.0,1.0,1.0,1.0,1.0,1.0,1.0,1.0,1.0])        |0    |[-1.4170949608173151,1.4170949608173151]  |[0.19511740608882694,0.804882593911173]  |1.0       |\n",
            "|(24,[0,1,2,3,4,5,6,11,15,17,20],[1.0,22.0,85.35,1.0,1.0,1.0,1.0,1.0,1.0,1.0,1.0])                     |0    |[0.14194260698794892,-0.14194260698794892]|[0.5354261920088133,0.46457380799118675] |0.0       |\n",
            "|(24,[0,1,2,3,4,5,8,10,11,12,13,14,17,22],[1.0,35.0,76.05,1.0,1.0,1.0,1.0,1.0,1.0,1.0,1.0,1.0,1.0,1.0])|0    |[0.6704664401159954,-0.6704664401159954]  |[0.661607595079055,0.338392404920945]    |0.0       |\n",
            "|(24,[0,1,2,3,4,5,8,11,13,15,18,20],[1.0,47.0,84.95,1.0,1.0,1.0,1.0,1.0,1.0,1.0,1.0,1.0])              |0    |[1.4684103624499945,-1.4684103624499945]  |[0.812815648707279,0.18718435129272104]  |0.0       |\n",
            "|(24,[0,1,2,3,4,5,9,10,11,12,13,15,17,22],[1.0,31.0,98.9,1.0,1.0,1.0,1.0,1.0,1.0,1.0,1.0,1.0,1.0,1.0]) |1    |[-0.21870836053336595,0.21870836053336595]|[0.4455398213839491,0.5544601786160509]  |1.0       |\n",
            "|(24,[0,1,2,3,4,5,13,15,17,22],[1.0,1.0,69.25,1.0,1.0,1.0,1.0,1.0,1.0,1.0])                            |1    |[-1.03425375700674,1.03425375700674]      |[0.2622602561466755,0.7377397438533245]  |1.0       |\n",
            "|(24,[0,1,2,3,4,5,16,19,21],[1.0,71.0,19.8,1.0,1.0,1.0,1.0,1.0,1.0])                                   |0    |[5.5001722775407575,-5.5001722775407575]  |[0.9959305605638056,0.004069439436194422]|0.0       |\n",
            "|(24,[0,1,2,3,4,8,9,13,14,17,23],[1.0,29.0,35.65,1.0,1.0,1.0,1.0,1.0,1.0,1.0,1.0])                     |0    |[0.785126183303689,-0.785126183303689]    |[0.6867838707993971,0.31321612920060293] |0.0       |\n",
            "|(24,[0,1,2,3,4,8,12,13,14,18,22],[1.0,28.0,39.1,1.0,1.0,1.0,1.0,1.0,1.0,1.0,1.0])                     |0    |[0.8464742337326339,-0.8464742337326339]  |[0.6998270099164707,0.30017299008352927] |0.0       |\n",
            "|(24,[0,1,2,3,4,8,14,18,20],[1.0,48.0,29.9,1.0,1.0,1.0,1.0,1.0,1.0])                                   |0    |[2.7189142813287814,-2.7189142813287814]  |[0.9381335496854994,0.061866450314500554]|0.0       |\n",
            "|(24,[0,1,2,3,5,6,7,8,9,10,12,14,19,20],[1.0,72.0,78.45,1.0,1.0,1.0,1.0,1.0,1.0,1.0,1.0,1.0,1.0,1.0])  |0    |[4.4763564049772055,-4.4763564049772055]  |[0.9887531476591956,0.011246852340804359]|0.0       |\n",
            "|(24,[0,1,2,3,5,6,7,8,9,10,13,15,17,21],[1.0,61.0,94.2,1.0,1.0,1.0,1.0,1.0,1.0,1.0,1.0,1.0,1.0,1.0])   |0    |[1.6165033640131674,-1.6165033640131674]  |[0.8343123362806432,0.16568766371935684] |0.0       |\n",
            "|(24,[0,1,2,3,5,6,7,8,9,10,13,15,19,20],[1.0,72.0,93.05,1.0,1.0,1.0,1.0,1.0,1.0,1.0,1.0,1.0,1.0,1.0])  |0    |[3.4453923144855203,-3.4453923144855203]  |[0.9690934321240399,0.030906567875960134]|0.0       |\n",
            "|(24,[0,1,2,3,5,6,7,8,9,10,13,15,19,21],[1.0,71.0,96.35,1.0,1.0,1.0,1.0,1.0,1.0,1.0,1.0,1.0,1.0,1.0])  |0    |[3.4284925173122867,-3.4284925173122867]  |[0.9685832278066496,0.03141677219335037] |0.0       |\n",
            "+------------------------------------------------------------------------------------------------------+-----+------------------------------------------+-----------------------------------------+----------+\n",
            "only showing top 20 rows\n",
            "\n"
          ]
        }
      ]
    },
    {
      "cell_type": "markdown",
      "source": [
        "### 2.4. Métricas"
      ],
      "metadata": {
        "id": "1pPSrlLmmwUt"
      }
    },
    {
      "cell_type": "markdown",
      "source": [
        "#### 2.4.1 Métricas de Treinamento"
      ],
      "metadata": {
        "id": "5UpSHrm5m0lP"
      }
    },
    {
      "cell_type": "code",
      "source": [
        "summary = fitted_model.summary"
      ],
      "metadata": {
        "id": "c9BmFIhZemyS"
      },
      "execution_count": 119,
      "outputs": []
    },
    {
      "cell_type": "code",
      "source": [
        "print(f'Model Accucary: {summary.accuracy}')\n",
        "print(f'Model Precision: {summary.precisionByLabel[1]}')\n",
        "print(f'Model Recall: {summary.recallByLabel[1]}')\n",
        "print(f'Model F1 score: {summary.fMeasureByLabel()[1]}')"
      ],
      "metadata": {
        "colab": {
          "base_uri": "https://localhost:8080/"
        },
        "id": "MrwPkdB5m5bj",
        "outputId": "4cf19687-1c5e-4a21-af76-a29eea84b59f"
      },
      "execution_count": 120,
      "outputs": [
        {
          "output_type": "stream",
          "name": "stdout",
          "text": [
            "Model Accucary: 0.7849014709963918\n",
            "Model Precision: 0.7706855791962175\n",
            "Model Recall: 0.8125173082248685\n",
            "Model F1 score: 0.7910488002156916\n"
          ]
        }
      ]
    },
    {
      "cell_type": "markdown",
      "source": [
        "#### 2.4.2 Métricas de Teste\n",
        "\n",
        "Construiremos do zero uma matriz de confusão para visualizar as métricas anteriores nos dados de teste:"
      ],
      "metadata": {
        "id": "ZgQIlpcNnxY3"
      }
    },
    {
      "cell_type": "code",
      "source": [
        "tn = y_prev.select('label', 'prediction').where((f.col('label') == 0) & (f.col('prediction') == 0)).count()\n",
        "fp = y_prev.select('label', 'prediction').where((f.col('label') == 0) & (f.col('prediction') == 1)).count()\n",
        "fn = y_prev.select('label', 'prediction').where((f.col('label') == 1) & (f.col('prediction') == 0)).count()\n",
        "tp = y_prev.select('label', 'prediction').where((f.col('label') == 1) & (f.col('prediction') == 1)).count()\n"
      ],
      "metadata": {
        "id": "xLS6cGBrm8BK"
      },
      "execution_count": 121,
      "outputs": []
    },
    {
      "cell_type": "code",
      "source": [
        "print(f'True Negatives: {tn}\\nFalse Positives: {fp}\\nFalse Negatives: {fn}\\nTrue Positives: {tp}\\n')"
      ],
      "metadata": {
        "colab": {
          "base_uri": "https://localhost:8080/"
        },
        "id": "UmeHkKHNssvA",
        "outputId": "1d31c3d6-5f0a-45f7-ebe9-fdb02812d949"
      },
      "execution_count": 122,
      "outputs": [
        {
          "output_type": "stream",
          "name": "stdout",
          "text": [
            "True Negatives: 1179\n",
            "False Positives: 400\n",
            "False Negatives: 307\n",
            "True Positives: 1256\n",
            "\n"
          ]
        }
      ]
    },
    {
      "cell_type": "code",
      "source": [
        "# crio a função que vai receber os dados para serem avaliados\n",
        "def calcula_mostra_metricas(modelo_lr, df_transform_modelo, normalize=False, percentage=True):\n",
        "# os passos para montagem da matriz de confusão são os mesmos da aula\n",
        "  tp = df_transform_modelo.select('label', 'prediction').where((f.col('label') == 1) & (f.col('prediction') == 1)).count()\n",
        "  tn = df_transform_modelo.select('label', 'prediction').where((f.col('label') == 0) & (f.col('prediction') == 0)).count()\n",
        "  fp = df_transform_modelo.select('label', 'prediction').where((f.col('label') == 0) & (f.col('prediction') == 1)).count()\n",
        "  fn = df_transform_modelo.select('label', 'prediction').where((f.col('label') == 1) & (f.col('prediction') == 0)).count()\n",
        "\n",
        "  valorP = 1\n",
        "  valorN = 1\n",
        "\n",
        "  if normalize:\n",
        "    valorP = tp + fn\n",
        "    valorN = fp + tn\n",
        "\n",
        "  if percentage and normalize:\n",
        "    valorP = valorP / 100\n",
        "    valorN = valorN / 100\n",
        "\n",
        "  # ‘s’ será minha string de retorno\n",
        "  # ela vai coletar e montar minha matriz de confusão\n",
        "  # e também os valores de acurácia, precisão, recall e F1-score\n",
        "  s = ''\n",
        "\n",
        "  # construção da minha string da matriz de confusão  \n",
        "  s += ' '*20 + 'Previsto\\n'\n",
        "  s += ' '*15 +  'Churn' + ' '*5 + 'Não-Churn\\n'\n",
        "  s += ' '*4 + 'Churn' + ' '*6 +  str(int(tp/valorP)) + ' '*7 + str(int(fn/valorP)) + '\\n'\n",
        "  s += 'Real\\n'\n",
        "  s += ' '*4 + 'Não-Churn' + ' '*2 + str(int(fp/valorN)) +  ' '*7 + str(int(tn/valorN))  + '\\n'\n",
        "  s += '\\n'\n",
        "\n",
        "  # coleto o resumo das métricas com summary\n",
        "  resumo_lr_treino = modelo_lr.summary\n",
        "\n",
        "  # adiciono os valores de cada métrica a minha string de retorno\n",
        "  s += f'Acurácia: {resumo_lr_treino.accuracy}\\n'\n",
        "  s += f'Precisão: {resumo_lr_treino.precisionByLabel[1]}\\n'\n",
        "  s += f'Recall: {resumo_lr_treino.recallByLabel[1]}\\n'\n",
        "  s += f'F1: {resumo_lr_treino.fMeasureByLabel()[1]}\\n'\n",
        "\n",
        "  return s"
      ],
      "metadata": {
        "id": "qU_up4y-st0A"
      },
      "execution_count": 123,
      "outputs": []
    },
    {
      "cell_type": "code",
      "source": [
        "print(calcula_mostra_metricas(modelo_lr=fitted_model, df_transform_modelo=y_prev))"
      ],
      "metadata": {
        "colab": {
          "base_uri": "https://localhost:8080/"
        },
        "id": "WePo8LAuwn2m",
        "outputId": "21320a18-ba41-46e2-d5b7-16019e424e6f"
      },
      "execution_count": 124,
      "outputs": [
        {
          "output_type": "stream",
          "name": "stdout",
          "text": [
            "                    Previsto\n",
            "               Churn     Não-Churn\n",
            "    Churn      1256       307\n",
            "Real\n",
            "    Não-Churn  400       1179\n",
            "\n",
            "Acurácia: 0.7849014709963918\n",
            "Precisão: 0.7706855791962175\n",
            "Recall: 0.8125173082248685\n",
            "F1: 0.7910488002156916\n",
            "\n"
          ]
        }
      ]
    },
    {
      "cell_type": "markdown",
      "source": [
        "## 3.0 Árvores de Decisão\n",
        "\n",
        "### 3.1 Sobre o Modelo\n",
        "\n",
        "Árvores de decisão podem ser utilizadas tanto em problemas de classificação quanto em regressão. Conseguem aprender muito bem soluções de problemas multi-classes ou binárias, lidando com features numéricas não normalizadas e categóricas.\n",
        "\n",
        "Fonte: [Decision Tree Classifier](https://spark.apache.org/docs/latest/api/python/reference/api/pyspark.ml.classification.DecisionTreeClassifier.html)"
      ],
      "metadata": {
        "id": "jxilQWFc2Zk2"
      }
    },
    {
      "cell_type": "markdown",
      "source": [
        "Graficamente, a árvore de decisão pode ser representada de forma que cada uma das decisões tomadas no processo possam ser visualizadas. Seus elementos principais são os nós, ramos e folhas. A estrutura da árvore se inicia com um nó inicial, também chamado de raiz. A partir dela são traçadas ramificações, que geram novos nós e o processo se repete para os nós subsequentes até que chegue a uma folha, que se trata de um nó especial que tem a informação da resposta, sendo ela uma categoria ou um valor previsto.\n",
        "\n",
        "Cada ramo representa uma tomada de decisão a partir de um valor ou de uma categoria das variáveis explicativas, dividindo o conjunto de dados em nós que apresentam dados com características cada vez mais similares entre si."
      ],
      "metadata": {
        "id": "IZxiuLft2V7S"
      }
    },
    {
      "cell_type": "markdown",
      "source": [
        "Em cada nó da árvore, uma feature é analisada e separa o restante dos dados de acordo com um \"questionamento\" realizado a respeito daquela determinada feature. A acurácia do modelo é mensurada de forma a considerar o quão pura foi uma divisão dos dados feita pelo algoritmo em um determinado nó.\n",
        "\n",
        "#### 3.1.1 Critério de divisão dos nós\n",
        "\n",
        "Para conseguir identificar qual o melhor momento em que um nó deve ser dividido em dois ou mais subnós, o algoritmo da árvore de decisão considera alguns critérios. Os dois principais critérios de divisão usados nas árvores de decisão são:\n",
        "\n",
        "##### Índice Gini\n",
        "\n",
        "Este índice informa o grau de heterogeneidade dos dados. O objetivo dele é medir a frequência de um elemento aleatório de um nó ser rotulado de maneira incorreta. Em outros termos, esse índice é capaz de medir a impureza de um nó e ele é determinado por meio do seguinte cálculo:\n",
        "\n",
        "![GINI](https://caelum-online-public.s3.amazonaws.com/2276-spark/03/Aula3-img2.png)\n",
        "\n",
        "alt text: Fórmula: Gini é igual a 1 menos somatório de i começando em 1 indo até K de P de i ao quadrado.\n",
        "\n",
        "Onde:\n",
        "\n",
        "pi representa a frequência relativa das classes em cada um dos nós;\n",
        "k é o número de classes.\n",
        "Se o índice Gini for igual a 0, isso indica que o nó é puro. No entanto, se o valor dele se aproxima mais do valor 1, o nó é impuro.\n",
        "\n",
        "#### Entropia\n",
        "A ideia básica da entropia é medir a desordem dos dados de um nó por meio da variável classificadora. Assim como o índice de Gini, ela é utilizada para caracterizar a impureza dos dados e pode ser calculada por meio da seguinte fórmula:\n",
        "\n",
        "![Entropy](https://caelum-online-public.s3.amazonaws.com/2276-spark/03/Aula3-img3.jpg)\n",
        "\n",
        "alt text: Fórmula: Entropia de S, com S entre parênteses, é igual ao somatório de i iniciando em 1 até c de menos p subscrito i vezes o log 2 de p subscrito i.\n",
        "\n",
        "Onde:\n",
        "\n",
        "pi representa a proporção de dados no conjunto de dados (S), pertencentes à classe específica i;\n",
        "c é o número de classes."
      ],
      "metadata": {
        "id": "96pXuyYU4tQb"
      }
    },
    {
      "cell_type": "markdown",
      "source": [
        "### 3.2. Ajuste e Previsão - Árvores de Decisão\n",
        "\n",
        "Parâmetro de ajuste: **max_depth** -> **default = 5**\n",
        "\n",
        "Fonte: [Decision Tree Classifier](https://spark.apache.org/docs/latest/api/python/reference/api/pyspark.ml.classification.DecisionTreeClassifier.html)"
      ],
      "metadata": {
        "id": "Qn9bBMERjQHd"
      }
    },
    {
      "cell_type": "code",
      "source": [
        "from pyspark.ml.classification import DecisionTreeClassifier"
      ],
      "metadata": {
        "id": "sJlotZZu0aNP"
      },
      "execution_count": 125,
      "outputs": []
    },
    {
      "cell_type": "code",
      "source": [
        "dtc = DecisionTreeClassifier(seed=SEED)"
      ],
      "metadata": {
        "id": "0CdImSqekBeS"
      },
      "execution_count": 126,
      "outputs": []
    },
    {
      "cell_type": "code",
      "source": [
        "dtc_model = dtc.fit(train)"
      ],
      "metadata": {
        "id": "-p-OHy5ckEdp"
      },
      "execution_count": 127,
      "outputs": []
    },
    {
      "cell_type": "code",
      "source": [
        "y_pred_dtc_train = dtc_model.transform(train)\n",
        "y_pred_dtc_test = dtc_model.transform(test)"
      ],
      "metadata": {
        "id": "pTAkt30mkOFB"
      },
      "execution_count": 128,
      "outputs": []
    },
    {
      "cell_type": "code",
      "source": [
        "y_pred_dtc_train.show(truncate=False)"
      ],
      "metadata": {
        "colab": {
          "base_uri": "https://localhost:8080/"
        },
        "id": "IhEzPfsCkfy_",
        "outputId": "e1f64592-be25-4579-d0c8-b7838aa5eef4"
      },
      "execution_count": 129,
      "outputs": [
        {
          "output_type": "stream",
          "name": "stdout",
          "text": [
            "+------------------------------------------------------------------------------------------------------+-----+--------------+---------------------------------------+----------+\n",
            "|features                                                                                              |label|rawPrediction |probability                            |prediction|\n",
            "+------------------------------------------------------------------------------------------------------+-----+--------------+---------------------------------------+----------+\n",
            "|(24,[0,1,2,3,4,5,6,7,8,10,13,15,18,20],[1.0,58.0,89.85,1.0,1.0,1.0,1.0,1.0,1.0,1.0,1.0,1.0,1.0,1.0])  |0    |[2056.0,334.0]|[0.8602510460251046,0.1397489539748954]|0.0       |\n",
            "|(24,[0,1,2,3,4,5,6,7,8,11,14,18,22],[1.0,71.0,69.2,1.0,1.0,1.0,1.0,1.0,1.0,1.0,1.0,1.0,1.0])          |0    |[2056.0,334.0]|[0.8602510460251046,0.1397489539748954]|0.0       |\n",
            "|(24,[0,1,2,3,4,5,6,7,8,12,13,15,17,22],[1.0,60.0,93.25,1.0,1.0,1.0,1.0,1.0,1.0,1.0,1.0,1.0,1.0,1.0])  |0    |[22.0,3.0]    |[0.88,0.12]                            |0.0       |\n",
            "|(24,[0,1,2,3,4,5,6,7,8,13,15,17,22],[1.0,65.0,85.75,1.0,1.0,1.0,1.0,1.0,1.0,1.0,1.0,1.0,1.0])         |0    |[22.0,3.0]    |[0.88,0.12]                            |0.0       |\n",
            "|(24,[0,1,2,3,4,5,6,7,13,15,17,22],[1.0,60.0,80.95,1.0,1.0,1.0,1.0,1.0,1.0,1.0,1.0,1.0])               |0    |[22.0,3.0]    |[0.88,0.12]                            |0.0       |\n",
            "|(24,[0,1,2,3,4,5,6,8,9,11,12,15,17,22],[1.0,26.0,105.75,1.0,1.0,1.0,1.0,1.0,1.0,1.0,1.0,1.0,1.0,1.0]) |1    |[331.0,1951.0]|[0.1450482033304119,0.8549517966695881]|1.0       |\n",
            "|(24,[0,1,2,3,4,5,6,8,9,12,13,15,17,21],[1.0,62.0,96.1,1.0,1.0,1.0,1.0,1.0,1.0,1.0,1.0,1.0,1.0,1.0])   |0    |[239.0,205.0] |[0.5382882882882883,0.4617117117117117]|0.0       |\n",
            "|(24,[0,1,2,3,4,5,6,8,9,13,15,17,22],[1.0,51.0,84.2,1.0,1.0,1.0,1.0,1.0,1.0,1.0,1.0,1.0,1.0])          |1    |[331.0,1951.0]|[0.1450482033304119,0.8549517966695881]|1.0       |\n",
            "|(24,[0,1,2,3,4,5,6,8,9,13,15,17,22],[1.0,68.0,84.65,1.0,1.0,1.0,1.0,1.0,1.0,1.0,1.0,1.0,1.0])         |0    |[331.0,1951.0]|[0.1450482033304119,0.8549517966695881]|1.0       |\n",
            "|(24,[0,1,2,3,4,5,6,8,11,12,13,15,17,22],[1.0,32.0,100.4,1.0,1.0,1.0,1.0,1.0,1.0,1.0,1.0,1.0,1.0,1.0]) |0    |[331.0,1951.0]|[0.1450482033304119,0.8549517966695881]|1.0       |\n",
            "|(24,[0,1,2,3,4,5,6,8,11,12,15,17,22],[1.0,38.0,101.15,1.0,1.0,1.0,1.0,1.0,1.0,1.0,1.0,1.0,1.0])       |0    |[331.0,1951.0]|[0.1450482033304119,0.8549517966695881]|1.0       |\n",
            "|(24,[0,1,2,3,4,5,6,8,11,12,15,18,22],[1.0,61.0,99.0,1.0,1.0,1.0,1.0,1.0,1.0,1.0,1.0,1.0,1.0])         |0    |[2056.0,334.0]|[0.8602510460251046,0.1397489539748954]|0.0       |\n",
            "|(24,[0,1,2,3,4,5,6,9,11,12,13,15,17,22],[1.0,29.0,103.95,1.0,1.0,1.0,1.0,1.0,1.0,1.0,1.0,1.0,1.0,1.0])|0    |[331.0,1951.0]|[0.1450482033304119,0.8549517966695881]|1.0       |\n",
            "|(24,[0,1,2,3,4,5,6,9,11,13,14,18,22],[1.0,61.0,65.2,1.0,1.0,1.0,1.0,1.0,1.0,1.0,1.0,1.0,1.0])         |0    |[2056.0,334.0]|[0.8602510460251046,0.1397489539748954]|0.0       |\n",
            "|(24,[0,1,2,3,4,5,6,9,12,13,15,17,21],[1.0,59.0,88.75,1.0,1.0,1.0,1.0,1.0,1.0,1.0,1.0,1.0,1.0])        |0    |[239.0,205.0] |[0.5382882882882883,0.4617117117117117]|0.0       |\n",
            "|(24,[0,1,2,3,4,5,6,11,12,13,15,17,21],[1.0,40.0,94.55,1.0,1.0,1.0,1.0,1.0,1.0,1.0,1.0,1.0,1.0])       |1    |[239.0,205.0] |[0.5382882882882883,0.4617117117117117]|0.0       |\n",
            "|(24,[0,1,2,3,4,5,6,13,14,18,22],[1.0,28.0,51.0,1.0,1.0,1.0,1.0,1.0,1.0,1.0,1.0])                      |0    |[2056.0,334.0]|[0.8602510460251046,0.1397489539748954]|0.0       |\n",
            "|(24,[0,1,2,3,4,5,6,13,15,17,21],[1.0,11.0,75.2,1.0,1.0,1.0,1.0,1.0,1.0,1.0,1.0])                      |0    |[51.0,141.0]  |[0.265625,0.734375]                    |1.0       |\n",
            "|(24,[0,1,2,3,4,5,6,13,16,19,20],[1.0,64.0,24.4,1.0,1.0,1.0,1.0,1.0,1.0,1.0,1.0])                      |0    |[2056.0,334.0]|[0.8602510460251046,0.1397489539748954]|0.0       |\n",
            "|(24,[0,1,2,3,4,5,7,8,9,13,15,18,20],[1.0,71.0,86.7,1.0,1.0,1.0,1.0,1.0,1.0,1.0,1.0,1.0,1.0])          |0    |[2056.0,334.0]|[0.8602510460251046,0.1397489539748954]|0.0       |\n",
            "+------------------------------------------------------------------------------------------------------+-----+--------------+---------------------------------------+----------+\n",
            "only showing top 20 rows\n",
            "\n"
          ]
        }
      ]
    },
    {
      "cell_type": "markdown",
      "source": [
        "### 3.3. Métricas da Árvore de Decisão\n",
        "\n",
        "Sabemos que podemos obter métricas de treinamento do modelo utilizando **summary** para obter algumas métricas, como acurácia, precisão, recall, F1 etc.\n",
        "\n",
        "Agora, iremos analisar métricas do modelo utilizando os nosso dados de teste, utilizando **Multi Classification Evaluator**\n",
        "\n",
        "Fonte: [MultiClassificationEvaluator](https://spark.apache.org/docs/latest/api/python/reference/api/pyspark.ml.evaluation.MulticlassClassificationEvaluator.html)"
      ],
      "metadata": {
        "id": "lIx_uv-WmBEj"
      }
    },
    {
      "cell_type": "code",
      "source": [
        "from pyspark.ml.evaluation import MulticlassClassificationEvaluator"
      ],
      "metadata": {
        "id": "BrUosUkDkhO3"
      },
      "execution_count": 130,
      "outputs": []
    },
    {
      "cell_type": "code",
      "source": [
        "evaluator = MulticlassClassificationEvaluator()"
      ],
      "metadata": {
        "id": "-YXX7n6omubR"
      },
      "execution_count": 131,
      "outputs": []
    },
    {
      "cell_type": "markdown",
      "source": [
        "Como primeiro parâmetro, o avaliador precisa de um dataset com os dados contendo a label real e as previsões do modelo.\n",
        "\n",
        "````Python\n",
        "metric_score = evaluator.evaluate(dataset, {evaluator.metricName: metric}\n",
        "````\n",
        "\n",
        "O parâmetro **dataset** deve conter o label real dos dados em uma coluna \"label\" e a previsão em uma coluna \"prediction\". A variável **metric** deve ser uma string contendo alguma métrica a ser obtida da avaliação, como segue no exemplo:"
      ],
      "metadata": {
        "id": "dc6N2fDwnNV3"
      }
    },
    {
      "cell_type": "code",
      "source": [
        "train_acc = evaluator.evaluate(y_pred_dtc_train, {evaluator.metricName: 'accuracy'})\n",
        "train_precision = evaluator.evaluate(y_pred_dtc_train, {evaluator.metricName: 'precisionByLabel'})\n",
        "train_recall = evaluator.evaluate(y_pred_dtc_train, {evaluator.metricName: 'recallByLabel'})\n",
        "train_f1 = evaluator.evaluate(y_pred_dtc_train, {evaluator.metricName: 'fMeasureByLabel'})"
      ],
      "metadata": {
        "id": "ZAxiGCFHmxfw"
      },
      "execution_count": 132,
      "outputs": []
    },
    {
      "cell_type": "code",
      "source": [
        "print(f'Decision Tree Classifier accuracy for train data: {train_acc}')\n",
        "print(f'Decision Tree Classifier precision for train data: {train_precision}')\n",
        "print(f'Decision Tree Classifier recall for train data: {train_recall}')\n",
        "print(f'Decision Tree Classifier f1 score for train data: {train_f1}')"
      ],
      "metadata": {
        "id": "BssZJ5z6njO2",
        "outputId": "44ebb324-1547-4571-ffed-80901a8b1a65",
        "colab": {
          "base_uri": "https://localhost:8080/"
        }
      },
      "execution_count": 133,
      "outputs": [
        {
          "output_type": "stream",
          "name": "stdout",
          "text": [
            "Decision Tree Classifier accuracy for train data: 0.7917013599777962\n",
            "Decision Tree Classifier precision for train data: 0.7793489861259338\n",
            "Decision Tree Classifier recall for train data: 0.8125173852573018\n",
            "Decision Tree Classifier f1 score for train data: 0.7955876344818194\n"
          ]
        }
      ]
    },
    {
      "cell_type": "markdown",
      "source": [
        "Agora faremos o mesmo com os dados de teste:"
      ],
      "metadata": {
        "id": "Cc8QWuSDpDeQ"
      }
    },
    {
      "cell_type": "code",
      "source": [
        "test_acc = evaluator.evaluate(y_pred_dtc_test, {evaluator.metricName: 'accuracy'})\n",
        "test_precision = evaluator.evaluate(y_pred_dtc_test, {evaluator.metricName: 'precisionByLabel'})\n",
        "test_recall = evaluator.evaluate(y_pred_dtc_test, {evaluator.metricName: 'recallByLabel'})\n",
        "test_f1 = evaluator.evaluate(y_pred_dtc_test, {evaluator.metricName: 'fMeasureByLabel'})"
      ],
      "metadata": {
        "id": "0Oivov8NobSr"
      },
      "execution_count": 134,
      "outputs": []
    },
    {
      "cell_type": "code",
      "source": [
        "print(f'Decision Tree Classifier accuracy for test data: {test_acc}')\n",
        "print(f'Decision Tree Classifier precision for test data: {test_precision}')\n",
        "print(f'Decision Tree Classifier recall for test data: {test_recall}')\n",
        "print(f'Decision Tree Classifier f1 score for test data: {test_f1}')"
      ],
      "metadata": {
        "id": "gyfS3-sCpKJp",
        "outputId": "20aecf7b-a137-4f6e-e91b-9a4fe6c32d9e",
        "colab": {
          "base_uri": "https://localhost:8080/"
        }
      },
      "execution_count": 135,
      "outputs": [
        {
          "output_type": "stream",
          "name": "stdout",
          "text": [
            "Decision Tree Classifier accuracy for test data: 0.7714831317632082\n",
            "Decision Tree Classifier precision for test data: 0.7649230769230769\n",
            "Decision Tree Classifier recall for test data: 0.7872070930968967\n",
            "Decision Tree Classifier f1 score for test data: 0.7759051186017478\n"
          ]
        }
      ]
    },
    {
      "cell_type": "code",
      "source": [
        "tn = y_pred_dtc_test.select('label', 'prediction').where((f.col('label') == 0) & (f.col('prediction') == 0)).count()\n",
        "fp = y_pred_dtc_test.select('label', 'prediction').where((f.col('label') == 0) & (f.col('prediction') == 1)).count()\n",
        "fn = y_pred_dtc_test.select('label', 'prediction').where((f.col('label') == 1) & (f.col('prediction') == 0)).count()\n",
        "tp = y_pred_dtc_test.select('label', 'prediction').where((f.col('label') == 1) & (f.col('prediction') == 1)).count()"
      ],
      "metadata": {
        "id": "Ob0CxAEEpSTY"
      },
      "execution_count": 136,
      "outputs": []
    },
    {
      "cell_type": "code",
      "source": [
        "print('====DECISION TREE CLASSIFIER====\\n\\n')\n",
        "print(f'True positives: {tp}\\n')\n",
        "print(f'False positives: {fp}\\n')\n",
        "print(f'True negatives: {tn}\\n')\n",
        "print(f'False negatives: {fn}\\n')"
      ],
      "metadata": {
        "id": "l69v1uD5pnuf",
        "outputId": "338969f2-d00a-4748-9966-bb0934040af0",
        "colab": {
          "base_uri": "https://localhost:8080/"
        }
      },
      "execution_count": 137,
      "outputs": [
        {
          "output_type": "stream",
          "name": "stdout",
          "text": [
            "====DECISION TREE CLASSIFIER====\n",
            "\n",
            "\n",
            "True positives: 1181\n",
            "\n",
            "False positives: 336\n",
            "\n",
            "True negatives: 1243\n",
            "\n",
            "False negatives: 382\n",
            "\n"
          ]
        }
      ]
    },
    {
      "cell_type": "markdown",
      "source": [
        "## 4 Random Forest Classifier\n",
        "\n",
        "### 4.1 Definição do Modelo\n",
        "\n",
        "Random Forests podem ser utilizadas tanto para problemas de classificação binários e multi-classes quanto para regressões. A ideia geral da random forest é criar um conjunto de árvores de decisões, cada uma analisando e aprendendo a respeito de um certo conjunto aleatório de features dos dados de treino, tentando classificar o output em cada árvore.\n",
        "\n",
        "Por fim, todas estas árvores utilizadas no treinamento de dados \"entram em consenso\" de como irão realizar a classificação dos dados. Por exemplo: pra um certo conjunto de features, os dados de treino foram utilizados em 3 árvores, sendo que no final de duas delas, as árvores decidiram que o cliente não irá cancelar o serviço (Não Churn) e em uma delas houve a previsão de Churn. Uma abordagem seria fazer uma espécie de votação, tendo a classe \"Churn\" vencido a votação e, para aqueles dados utilizados na floresta, serão classificados como Não-Churn.\n",
        "\n",
        "Confira as notas deixadas pelo professor:\n",
        "\n",
        "Para realizar a previsão, o algoritmo cria diversas árvores de decisão no conjunto de dados e é realizada a predição para cada uma delas. Internamente é feita uma “votação” para analisar qual predição tem maior ocorrência e, então, essa predição torna-se a resposta final. Se fosse utilizada a mesma base de dados na criação de todas as árvores de decisão do Random Forest, as respostas de cada uma das árvores seriam iguais e o resultado da votação seria idêntico a realizar um único modelo de árvore de decisão.\n",
        "\n",
        "Para evitar esse problema, é utilizada uma técnica chamada bootstrapping. Ela consiste em fazer amostragens com reposição do conjunto de dados original e cada uma delas será usada para uma árvore de decisão diferente. A amostragem com reposição significa que, ao sortearmos um elemento, isso não nos impede que ele mesmo apareça em sorteios futuros.\n",
        "\n",
        "Dessa forma, as árvores terão resultados distintos, uma vez que são treinadas com conjuntos de dados diferentes. Na amostragem com repetição, as observações da tabela poderão ficar de fora e outras estarão duplicadas.\n",
        "\n",
        "Para recapitular os passos:\n",
        "\n",
        "- Ao utilizar o modelo Random Forest, podemos escolher a quantidade de árvores de decisão a serem criadas. No scikit learn, podemos controlar a quantidade através do parâmetro n_estimators.\n",
        "- O modelo irá criar um conjunto de dados para cada árvore a partir do método bootstrapping na base de dados original, resultando em um resultado distinto para cada uma das árvores.\n",
        "- Por fim, será feita uma votação entre os resultados das árvores e a classe predita na maioria das árvores é escolhida como a classificação do modelo Random Forest.\n",
        "\n",
        "Fonte: [Pyspark Random Forest Classifier](https://spark.apache.org/docs/3.1.3/api/python/reference/api/pyspark.ml.classification.RandomForestClassifier.html)"
      ],
      "metadata": {
        "id": "67V5rK1R9D5v"
      }
    },
    {
      "cell_type": "markdown",
      "source": [
        "### 4.2 Ajuste e Previsão"
      ],
      "metadata": {
        "id": "LtCcUlXXBzB1"
      }
    },
    {
      "cell_type": "code",
      "source": [
        "from pyspark.ml.classification import RandomForestClassifier"
      ],
      "metadata": {
        "id": "I9t8wWKIp273"
      },
      "execution_count": 138,
      "outputs": []
    },
    {
      "cell_type": "markdown",
      "source": [
        "Instancia:"
      ],
      "metadata": {
        "id": "2UwHEk53DAjQ"
      }
    },
    {
      "cell_type": "code",
      "source": [
        "rfc_model = RandomForestClassifier(seed=SEED)"
      ],
      "metadata": {
        "id": "s_koUu1gCqRx"
      },
      "execution_count": 139,
      "outputs": []
    },
    {
      "cell_type": "markdown",
      "source": [
        "Treina:"
      ],
      "metadata": {
        "id": "_cZ-lLOWDBa-"
      }
    },
    {
      "cell_type": "code",
      "source": [
        "rfc_model_fitted = rfc_model.fit(train)"
      ],
      "metadata": {
        "id": "Esad8McTCvBG"
      },
      "execution_count": 140,
      "outputs": []
    },
    {
      "cell_type": "markdown",
      "source": [
        "Prevê:"
      ],
      "metadata": {
        "id": "r3pN0fxGDCLJ"
      }
    },
    {
      "cell_type": "code",
      "source": [
        "y_prev_rfc_train = rfc_model_fitted.transform(train)\n",
        "y_prev_rfc_test = rfc_model_fitted.transform(test)"
      ],
      "metadata": {
        "id": "nt0-sIzxCzoW"
      },
      "execution_count": 141,
      "outputs": []
    },
    {
      "cell_type": "markdown",
      "source": [
        "### 4.3 Visualização de Métricas"
      ],
      "metadata": {
        "id": "k9DJg0PYFh_x"
      }
    },
    {
      "cell_type": "code",
      "source": [
        "print('====Random Forest CLASSIFIER====\\n\\n')\n",
        "\n",
        "test_acc = evaluator.evaluate(y_prev_rfc_test, {evaluator.metricName: 'accuracy'})\n",
        "test_precision = evaluator.evaluate(y_prev_rfc_test, {evaluator.metricName: 'precisionByLabel'})\n",
        "test_recall = evaluator.evaluate(y_prev_rfc_test, {evaluator.metricName: 'recallByLabel'})\n",
        "test_f1 = evaluator.evaluate(y_prev_rfc_test, {evaluator.metricName: 'fMeasureByLabel'})\n",
        "\n",
        "print(f'Random Forest Classifier accuracy for test data: {test_acc}')\n",
        "print(f'Random Forest Classifier precision for test data: {test_precision}')\n",
        "print(f'Random Forest Classifier recall for test data: {test_recall}')\n",
        "print(f'Random Forest Classifier f1 score for test data: {test_f1}')\n",
        "\n",
        "tn = y_prev_rfc_test.select('label', 'prediction').where((f.col('label') == 0) & (f.col('prediction') == 0)).count()\n",
        "fp = y_prev_rfc_test.select('label', 'prediction').where((f.col('label') == 0) & (f.col('prediction') == 1)).count()\n",
        "fn = y_prev_rfc_test.select('label', 'prediction').where((f.col('label') == 1) & (f.col('prediction') == 0)).count()\n",
        "tp = y_prev_rfc_test.select('label', 'prediction').where((f.col('label') == 1) & (f.col('prediction') == 1)).count()\n",
        "\n",
        "print(f'True positives: {tp}\\n')\n",
        "print(f'False positives: {fp}\\n')\n",
        "print(f'True negatives: {tn}\\n')\n",
        "print(f'False negatives: {fn}\\n')"
      ],
      "metadata": {
        "colab": {
          "base_uri": "https://localhost:8080/"
        },
        "id": "BtiJuMp1C-WW",
        "outputId": "7c40450a-dc42-4992-a2e0-80688b9c0ac6"
      },
      "execution_count": 142,
      "outputs": [
        {
          "output_type": "stream",
          "name": "stdout",
          "text": [
            "====Random Forest CLASSIFIER====\n",
            "\n",
            "\n",
            "Random Forest Classifier accuracy for test data: 0.7702100572883513\n",
            "Random Forest Classifier precision for test data: 0.7916950306330838\n",
            "Random Forest Classifier recall for test data: 0.7365421152628245\n",
            "Random Forest Classifier f1 score for test data: 0.7631233595800525\n",
            "True positives: 1257\n",
            "\n",
            "False positives: 416\n",
            "\n",
            "True negatives: 1163\n",
            "\n",
            "False negatives: 306\n",
            "\n"
          ]
        }
      ]
    },
    {
      "cell_type": "markdown",
      "source": [
        "## 5. Tunning de Hiper parâmetros\n",
        "\n",
        "### 5.1. Árvore de Decisão\n",
        "\n",
        "Na árvore de decisão, podemos nos preocupar com o hiper-parâmetro **max_depth**, o qual representa a profundidade da árvore de decisão, podemos assim previnir situações de *overfitting*.\n",
        "\n",
        "Além disso, **em linhas gerais**, podemos ver como o modelo se comporta com a variação destes parâmetros variando também os dados nos quais ele é testado, garantindo que o modelo não fique bom apenas para um conjunto de dados, utilizando **CROSS VALIDATION (CV)**"
      ],
      "metadata": {
        "id": "pH18ebykJrmt"
      }
    },
    {
      "cell_type": "code",
      "source": [
        "from pyspark.ml.tuning import CrossValidator, ParamGridBuilder"
      ],
      "metadata": {
        "id": "QKyGrzmuF_oc"
      },
      "execution_count": 144,
      "outputs": []
    },
    {
      "cell_type": "markdown",
      "source": [
        "Instanciamos o **estimator**"
      ],
      "metadata": {
        "id": "XMypiVeDg2eq"
      }
    },
    {
      "cell_type": "code",
      "source": [
        "dtc = DecisionTreeClassifier(seed=SEED)"
      ],
      "metadata": {
        "id": "6_GRPvpqexoY"
      },
      "execution_count": 148,
      "outputs": []
    },
    {
      "cell_type": "markdown",
      "source": [
        "Criamos o grid de parâmetros:"
      ],
      "metadata": {
        "id": "_w0pW0dIg4yJ"
      }
    },
    {
      "cell_type": "code",
      "source": [
        "grid = ParamGridBuilder()\\\n",
        "        .addGrid(dtc.maxDepth, [2, 5, 10])\\\n",
        "        .addGrid(dtc.maxBins, [10, 32, 45])\\\n",
        "        .build()"
      ],
      "metadata": {
        "id": "St-qmLW4e2lA"
      },
      "execution_count": 149,
      "outputs": []
    },
    {
      "cell_type": "markdown",
      "source": [
        "Criamos o avaliador:"
      ],
      "metadata": {
        "id": "S3iCuMA7g8lg"
      }
    },
    {
      "cell_type": "code",
      "source": [
        "evaluator = MulticlassClassificationEvaluator()"
      ],
      "metadata": {
        "id": "wH5EMtSQfEgR"
      },
      "execution_count": 150,
      "outputs": []
    },
    {
      "cell_type": "code",
      "source": [
        "dtc_cv = CrossValidator(\n",
        "    estimator=dtc,\n",
        "    estimatorParamMaps=grid,\n",
        "    evaluator=evaluator,\n",
        "    numFolds=3,\n",
        "    seed=SEED\n",
        ")"
      ],
      "metadata": {
        "id": "8WCDQc-3g__g"
      },
      "execution_count": 151,
      "outputs": []
    },
    {
      "cell_type": "code",
      "source": [
        "dtc_model_cv = dtc_cv.fit(train)"
      ],
      "metadata": {
        "id": "tMMD44fahOAw"
      },
      "execution_count": 152,
      "outputs": []
    },
    {
      "cell_type": "code",
      "source": [
        "y_prev_dtc_cv_train = dtc_model_cv.transform(train)\n",
        "y_prev_dtc_cv_test = dtc_model_cv.transform(test)"
      ],
      "metadata": {
        "id": "RZ3zFEvshS5_"
      },
      "execution_count": 153,
      "outputs": []
    },
    {
      "cell_type": "code",
      "source": [
        "print('====Decision Tree CV CLASSIFIER====\\n\\n')\n",
        "\n",
        "test_acc = evaluator.evaluate(y_prev_dtc_cv_test, {evaluator.metricName: 'accuracy'})\n",
        "test_precision = evaluator.evaluate(y_prev_dtc_cv_test, {evaluator.metricName: 'precisionByLabel'})\n",
        "test_recall = evaluator.evaluate(y_prev_dtc_cv_test, {evaluator.metricName: 'recallByLabel'})\n",
        "test_f1 = evaluator.evaluate(y_prev_dtc_cv_test, {evaluator.metricName: 'fMeasureByLabel'})\n",
        "\n",
        "print(f'Decision Tree CV Classifier accuracy for test data: {test_acc}')\n",
        "print(f'Decision Tree CV Classifier precision for test data: {test_precision}')\n",
        "print(f'Decision Tree CV Classifier recall for test data: {test_recall}')\n",
        "print(f'Decision Tree CV Classifier f1 score for test data: {test_f1}')\n",
        "\n",
        "tn = y_prev_dtc_cv_test.select('label', 'prediction').where((f.col('label') == 0) & (f.col('prediction') == 0)).count()\n",
        "fp = y_prev_dtc_cv_test.select('label', 'prediction').where((f.col('label') == 0) & (f.col('prediction') == 1)).count()\n",
        "fn = y_prev_dtc_cv_test.select('label', 'prediction').where((f.col('label') == 1) & (f.col('prediction') == 0)).count()\n",
        "tp = y_prev_dtc_cv_test.select('label', 'prediction').where((f.col('label') == 1) & (f.col('prediction') == 1)).count()\n",
        "\n",
        "print(f'True positives: {tp}\\n')\n",
        "print(f'False positives: {fp}\\n')\n",
        "print(f'True negatives: {tn}\\n')\n",
        "print(f'False negatives: {fn}\\n')"
      ],
      "metadata": {
        "id": "HFDG9nyxhY-X",
        "outputId": "f9967cd9-9d44-4dbf-ee66-c2846aedf8be",
        "colab": {
          "base_uri": "https://localhost:8080/"
        }
      },
      "execution_count": 155,
      "outputs": [
        {
          "output_type": "stream",
          "name": "stdout",
          "text": [
            "====Decision Tree CV CLASSIFIER====\n",
            "\n",
            "\n",
            "Decision Tree CV Classifier accuracy for test data: 0.7902609802673456\n",
            "Decision Tree CV Classifier precision for test data: 0.8304597701149425\n",
            "Decision Tree CV Classifier recall for test data: 0.7321089297023432\n",
            "Decision Tree CV Classifier f1 score for test data: 0.7781891618983507\n",
            "True positives: 1327\n",
            "\n",
            "False positives: 423\n",
            "\n",
            "True negatives: 1156\n",
            "\n",
            "False negatives: 236\n",
            "\n"
          ]
        }
      ]
    },
    {
      "cell_type": "code",
      "source": [],
      "metadata": {
        "id": "x8WLZY-ciAKN"
      },
      "execution_count": null,
      "outputs": []
    }
  ],
  "metadata": {
    "colab": {
      "collapsed_sections": [],
      "name": "projeto.ipynb",
      "provenance": [],
      "include_colab_link": true
    },
    "kernelspec": {
      "display_name": "Python 3",
      "language": "python",
      "name": "python3"
    },
    "language_info": {
      "codemirror_mode": {
        "name": "ipython",
        "version": 3
      },
      "file_extension": ".py",
      "mimetype": "text/x-python",
      "name": "python",
      "nbconvert_exporter": "python",
      "pygments_lexer": "ipython3",
      "version": "3.8.8"
    }
  },
  "nbformat": 4,
  "nbformat_minor": 0
}