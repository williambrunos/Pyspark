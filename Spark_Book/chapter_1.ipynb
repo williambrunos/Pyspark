{
  "cells": [
    {
      "cell_type": "markdown",
      "metadata": {
        "id": "view-in-github",
        "colab_type": "text"
      },
      "source": [
        "<a href=\"https://colab.research.google.com/github/williambrunos/Pyspark/blob/main/Spark_Book/chapter_1.ipynb\" target=\"_parent\"><img src=\"https://colab.research.google.com/assets/colab-badge.svg\" alt=\"Open In Colab\"/></a>"
      ]
    },
    {
      "cell_type": "markdown",
      "metadata": {
        "id": "U7f12xJjoRXF"
      },
      "source": [
        "# Chapter 1 - Introduction to Apache Spark: A Unified Analytics Engine\n",
        "\n",
        "This chapter lays out the origins of Apache Spark and its underlying philoshophy, the main components of the project and its distributed architecture.\n",
        "\n",
        "## Big Data and Distributed Computing at Google\n",
        "\n",
        "- **Google File System (GFS)**: proprietary file system of clusters, machines and hardwares as comoditties developed by google to gain access of high level big data computing.\n",
        "\n",
        "- **Map Reduce (MR)**: a parallel programming paradigm designed to perform high level distributed computation, using functional programming, breaking the whole work into independent tasks. Your application interacts with the MR system, sending functions favoring data locality and cluster rack affinity rather than bringing all the data to your application.\n",
        "\n",
        "Sparks design philosophu centers around four key caracteristics:\n",
        "\n",
        "- Speed\n",
        "- Easy of use\n",
        "- Modularity\n",
        "- Extensibility\n",
        "\n"
      ]
    },
    {
      "cell_type": "code",
      "source": [
        ""
      ],
      "metadata": {
        "id": "VGysuU-63Uj0"
      },
      "execution_count": null,
      "outputs": []
    }
  ],
  "metadata": {
    "language_info": {
      "name": "python"
    },
    "orig_nbformat": 4,
    "colab": {
      "name": "chapter_1.ipynb",
      "provenance": [],
      "include_colab_link": true
    }
  },
  "nbformat": 4,
  "nbformat_minor": 0
}